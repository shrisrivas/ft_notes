{
 "cells": [
  {
   "cell_type": "markdown",
   "id": "24b56276",
   "metadata": {},
   "source": [
    "## WORKING WITH STRINGS"
   ]
  },
  {
   "cell_type": "code",
   "execution_count": 1,
   "id": "457f9d0d",
   "metadata": {},
   "outputs": [],
   "source": [
    "s='this is class'"
   ]
  },
  {
   "cell_type": "code",
   "execution_count": 2,
   "id": "bd177a3b",
   "metadata": {},
   "outputs": [
    {
     "data": {
      "text/plain": [
       "'this is class'"
      ]
     },
     "execution_count": 2,
     "metadata": {},
     "output_type": "execute_result"
    }
   ],
   "source": [
    "s"
   ]
  },
  {
   "cell_type": "code",
   "execution_count": 3,
   "id": "11e3de08",
   "metadata": {},
   "outputs": [
    {
     "data": {
      "text/plain": [
       "13"
      ]
     },
     "execution_count": 3,
     "metadata": {},
     "output_type": "execute_result"
    }
   ],
   "source": [
    "len(s)"
   ]
  },
  {
   "cell_type": "code",
   "execution_count": 4,
   "id": "7730cfc0",
   "metadata": {},
   "outputs": [
    {
     "data": {
      "text/plain": [
       "'s'"
      ]
     },
     "execution_count": 4,
     "metadata": {},
     "output_type": "execute_result"
    }
   ],
   "source": [
    "s[12]"
   ]
  },
  {
   "cell_type": "code",
   "execution_count": 5,
   "id": "a6f9668c",
   "metadata": {},
   "outputs": [
    {
     "data": {
      "text/plain": [
       "'ssalc si siht'"
      ]
     },
     "execution_count": 5,
     "metadata": {},
     "output_type": "execute_result"
    }
   ],
   "source": [
    "s[::-1]"
   ]
  },
  {
   "cell_type": "code",
   "execution_count": 6,
   "id": "dc8757b4",
   "metadata": {},
   "outputs": [
    {
     "name": "stdout",
     "output_type": "stream",
     "text": [
      "this is class"
     ]
    }
   ],
   "source": [
    "for kuchbhi in s:\n",
    "    print(kuchbhi,end=\"\")"
   ]
  },
  {
   "cell_type": "code",
   "execution_count": 7,
   "id": "6c431d4d",
   "metadata": {},
   "outputs": [
    {
     "name": "stdout",
     "output_type": "stream",
     "text": [
      "t.s.s.a.l.c. .s.i. .s.i.h."
     ]
    }
   ],
   "source": [
    "for i in range(len(s)):\n",
    "    print(s[-i],end=\".\")"
   ]
  },
  {
   "cell_type": "code",
   "execution_count": 8,
   "id": "39638280",
   "metadata": {},
   "outputs": [
    {
     "data": {
      "text/plain": [
       "'this is class'"
      ]
     },
     "execution_count": 8,
     "metadata": {},
     "output_type": "execute_result"
    }
   ],
   "source": [
    "s"
   ]
  },
  {
   "cell_type": "code",
   "execution_count": 9,
   "id": "d712fca9",
   "metadata": {},
   "outputs": [
    {
     "data": {
      "text/plain": [
       "8"
      ]
     },
     "execution_count": 9,
     "metadata": {},
     "output_type": "execute_result"
    }
   ],
   "source": [
    "s.find(\"class\")"
   ]
  },
  {
   "cell_type": "code",
   "execution_count": 10,
   "id": "616532cd",
   "metadata": {},
   "outputs": [
    {
     "data": {
      "text/plain": [
       "2"
      ]
     },
     "execution_count": 10,
     "metadata": {},
     "output_type": "execute_result"
    }
   ],
   "source": [
    "s.find(\"is\")"
   ]
  },
  {
   "cell_type": "code",
   "execution_count": 11,
   "id": "813f4dd6",
   "metadata": {},
   "outputs": [
    {
     "data": {
      "text/plain": [
       "'is'"
      ]
     },
     "execution_count": 11,
     "metadata": {},
     "output_type": "execute_result"
    }
   ],
   "source": [
    "s[2:4:1]"
   ]
  },
  {
   "cell_type": "code",
   "execution_count": 12,
   "id": "cefc12ec",
   "metadata": {},
   "outputs": [],
   "source": [
    "s=\"my name is shristi. my house name is chitti\""
   ]
  },
  {
   "cell_type": "code",
   "execution_count": 13,
   "id": "92803e61",
   "metadata": {},
   "outputs": [
    {
     "name": "stdout",
     "output_type": "stream",
     "text": [
      "3\n",
      "4\n",
      "5\n",
      "6\n"
     ]
    }
   ],
   "source": [
    "b=s.find(\"name\")\n",
    "for i in range(len(\"name\")):\n",
    "    print(b+i)"
   ]
  },
  {
   "cell_type": "code",
   "execution_count": 14,
   "id": "0e7bfee7",
   "metadata": {},
   "outputs": [
    {
     "name": "stdout",
     "output_type": "stream",
     "text": [
      "3\n",
      "4\n",
      "5\n",
      "6\n"
     ]
    }
   ],
   "source": [
    "b=s.find(\"name\")\n",
    "i=0\n",
    "while(i<len(\"name\")):\n",
    "    print(b+i)\n",
    "    i=i+1"
   ]
  },
  {
   "cell_type": "code",
   "execution_count": 15,
   "id": "bca928de",
   "metadata": {},
   "outputs": [
    {
     "data": {
      "text/plain": [
       "0"
      ]
     },
     "execution_count": 15,
     "metadata": {},
     "output_type": "execute_result"
    }
   ],
   "source": [
    "s.count(\"IS\")"
   ]
  },
  {
   "cell_type": "code",
   "execution_count": 16,
   "id": "df6ea59a",
   "metadata": {},
   "outputs": [
    {
     "data": {
      "text/plain": [
       "0"
      ]
     },
     "execution_count": 16,
     "metadata": {},
     "output_type": "execute_result"
    }
   ],
   "source": [
    "s.count(\"Is\")"
   ]
  },
  {
   "cell_type": "code",
   "execution_count": 17,
   "id": "6670e348",
   "metadata": {},
   "outputs": [
    {
     "data": {
      "text/plain": [
       "['my name is shristi', ' my house name is chitti']"
      ]
     },
     "execution_count": 17,
     "metadata": {},
     "output_type": "execute_result"
    }
   ],
   "source": [
    "s.split(\".\")"
   ]
  },
  {
   "cell_type": "code",
   "execution_count": 18,
   "id": "da8a431b",
   "metadata": {},
   "outputs": [
    {
     "data": {
      "text/plain": [
       "'m_y_ _n_a_m_e_ _i_s_ _s_h_r_i_s_t_i_._ _m_y_ _h_o_u_s_e_ _n_a_m_e_ _i_s_ _c_h_i_t_t_i'"
      ]
     },
     "execution_count": 18,
     "metadata": {},
     "output_type": "execute_result"
    }
   ],
   "source": [
    "\"_\".join(s)"
   ]
  },
  {
   "cell_type": "code",
   "execution_count": 19,
   "id": "90a35b0a",
   "metadata": {},
   "outputs": [
    {
     "data": {
      "text/plain": [
       "<reversed at 0x207c88c4d30>"
      ]
     },
     "execution_count": 19,
     "metadata": {},
     "output_type": "execute_result"
    }
   ],
   "source": [
    "reversed(s)"
   ]
  },
  {
   "cell_type": "code",
   "execution_count": 20,
   "id": "5f68e29d",
   "metadata": {},
   "outputs": [
    {
     "name": "stdout",
     "output_type": "stream",
     "text": [
      "i\n",
      "t\n",
      "t\n",
      "i\n",
      "h\n",
      "c\n",
      " \n",
      "s\n",
      "i\n",
      " \n",
      "e\n",
      "m\n",
      "a\n",
      "n\n",
      " \n",
      "e\n",
      "s\n",
      "u\n",
      "o\n",
      "h\n",
      " \n",
      "y\n",
      "m\n",
      " \n",
      ".\n",
      "i\n",
      "t\n",
      "s\n",
      "i\n",
      "r\n",
      "h\n",
      "s\n",
      " \n",
      "s\n",
      "i\n",
      " \n",
      "e\n",
      "m\n",
      "a\n",
      "n\n",
      " \n",
      "y\n",
      "m\n"
     ]
    }
   ],
   "source": [
    "for i in reversed(s):\n",
    "    print(i)"
   ]
  },
  {
   "cell_type": "code",
   "execution_count": 21,
   "id": "41829066",
   "metadata": {},
   "outputs": [
    {
     "data": {
      "text/plain": [
       "'ittihc si eman esuoh ym .itsirhs si eman ym'"
      ]
     },
     "execution_count": 21,
     "metadata": {},
     "output_type": "execute_result"
    }
   ],
   "source": [
    "s[::-1]"
   ]
  },
  {
   "cell_type": "code",
   "execution_count": 22,
   "id": "00b61465",
   "metadata": {},
   "outputs": [],
   "source": [
    "s=\"   g h  \""
   ]
  },
  {
   "cell_type": "code",
   "execution_count": 23,
   "id": "57d21911",
   "metadata": {},
   "outputs": [
    {
     "data": {
      "text/plain": [
       "['g', 'h']"
      ]
     },
     "execution_count": 23,
     "metadata": {},
     "output_type": "execute_result"
    }
   ],
   "source": [
    "s.split()"
   ]
  },
  {
   "cell_type": "code",
   "execution_count": 24,
   "id": "84b2984e",
   "metadata": {},
   "outputs": [
    {
     "data": {
      "text/plain": [
       "'g h'"
      ]
     },
     "execution_count": 24,
     "metadata": {},
     "output_type": "execute_result"
    }
   ],
   "source": [
    "s.strip()"
   ]
  },
  {
   "cell_type": "code",
   "execution_count": 25,
   "id": "458c19cd",
   "metadata": {},
   "outputs": [
    {
     "data": {
      "text/plain": [
       "'   g h  '"
      ]
     },
     "execution_count": 25,
     "metadata": {},
     "output_type": "execute_result"
    }
   ],
   "source": [
    "s.replace(\"i\",\"j\")"
   ]
  },
  {
   "cell_type": "markdown",
   "id": "be544dc4",
   "metadata": {},
   "source": [
    "# a=\"we all are part of full stack\""
   ]
  },
  {
   "cell_type": "code",
   "execution_count": 26,
   "id": "d9a50e67",
   "metadata": {},
   "outputs": [],
   "source": [
    "a=\"we all are part of full stack\""
   ]
  },
  {
   "cell_type": "code",
   "execution_count": 27,
   "id": "4d1cfd54",
   "metadata": {},
   "outputs": [
    {
     "data": {
      "text/plain": [
       "'we all are part of full stack'"
      ]
     },
     "execution_count": 27,
     "metadata": {},
     "output_type": "execute_result"
    }
   ],
   "source": [
    "a.lower()"
   ]
  },
  {
   "cell_type": "code",
   "execution_count": 28,
   "id": "6ca96399",
   "metadata": {},
   "outputs": [
    {
     "data": {
      "text/plain": [
       "4"
      ]
     },
     "execution_count": 28,
     "metadata": {},
     "output_type": "execute_result"
    }
   ],
   "source": [
    "a.count(\"a\")"
   ]
  },
  {
   "cell_type": "code",
   "execution_count": 29,
   "id": "d9aafe9f",
   "metadata": {},
   "outputs": [
    {
     "name": "stdout",
     "output_type": "stream",
     "text": [
      "3\n",
      "7\n",
      "12\n",
      "26\n"
     ]
    }
   ],
   "source": [
    "for k in range(len(a)):\n",
    "    if(a[k]==\"a\"):\n",
    "        print(k)\n",
    "\n"
   ]
  },
  {
   "cell_type": "code",
   "execution_count": 30,
   "id": "3d1ed2b4",
   "metadata": {},
   "outputs": [
    {
     "name": "stdout",
     "output_type": "stream",
     "text": [
      "3\n",
      "4\n",
      "5\n",
      "6\n"
     ]
    }
   ],
   "source": [
    "i=a.find(\"a\")\n",
    "j=range(a.count(\"a\"))\n",
    "for k in j:\n",
    "    print(k+i)\n",
    "    "
   ]
  },
  {
   "cell_type": "code",
   "execution_count": 31,
   "id": "2258acf4",
   "metadata": {},
   "outputs": [
    {
     "data": {
      "text/plain": [
       "'we ineuronll ineuronre pineuronrt of full stineuronck'"
      ]
     },
     "execution_count": 31,
     "metadata": {},
     "output_type": "execute_result"
    }
   ],
   "source": [
    "a.replace(\"a\",\"ineuron\")"
   ]
  },
  {
   "cell_type": "code",
   "execution_count": 32,
   "id": "db109d1b",
   "metadata": {},
   "outputs": [
    {
     "data": {
      "text/plain": [
       "['we', 'all', 'are', 'part', 'of', 'full', 'stack']"
      ]
     },
     "execution_count": 32,
     "metadata": {},
     "output_type": "execute_result"
    }
   ],
   "source": [
    "a.split()"
   ]
  },
  {
   "cell_type": "code",
   "execution_count": 33,
   "id": "1b643241",
   "metadata": {},
   "outputs": [
    {
     "name": "stdout",
     "output_type": "stream",
     "text": [
      "s is not a vowels\n",
      "h is not a vowels\n",
      "r is not a vowels\n",
      "i is a vowel\n",
      "s is not a vowels\n",
      "t is not a vowels\n",
      "i is a vowel\n"
     ]
    }
   ],
   "source": [
    "name = \"shristi\"\n",
    "vowels=\"AaEeIiOoUu\"\n",
    "for i in name:\n",
    "    if i in vowels:\n",
    "        print(\"{} is a vowel\".format(i))\n",
    "    else:\n",
    "        print(\"{} is not a vowels\".format(i))"
   ]
  },
  {
   "cell_type": "code",
   "execution_count": 34,
   "id": "a95f3aa5",
   "metadata": {},
   "outputs": [
    {
     "name": "stdout",
     "output_type": "stream",
     "text": [
      "a\n"
     ]
    },
    {
     "data": {
      "text/plain": [
       "(<function str.format>, ('a', 'hi'))"
      ]
     },
     "execution_count": 34,
     "metadata": {},
     "output_type": "execute_result"
    }
   ],
   "source": [
    "a=input()\n",
    "\"{} is shristi {}.\".format,(a,\"hi\")"
   ]
  },
  {
   "cell_type": "code",
   "execution_count": 35,
   "id": "56b823d6",
   "metadata": {},
   "outputs": [
    {
     "ename": "SyntaxError",
     "evalue": "invalid syntax (Temp/ipykernel_13956/3545893949.py, line 3)",
     "output_type": "error",
     "traceback": [
      "\u001b[1;36m  File \u001b[1;32m\"C:\\Users\\Shristi\\AppData\\Local\\Temp/ipykernel_13956/3545893949.py\"\u001b[1;36m, line \u001b[1;32m3\u001b[0m\n\u001b[1;33m    if\u001b[0m\n\u001b[1;37m       ^\u001b[0m\n\u001b[1;31mSyntaxError\u001b[0m\u001b[1;31m:\u001b[0m invalid syntax\n"
     ]
    }
   ],
   "source": [
    "a=\"mom\"\n",
    "for i in a:\n",
    "    if \n",
    "        a[i]==a[i-1]\n",
    "        print(\"palindrome\")\n",
    "        \n",
    "else:\n",
    "    print(\"not a palindrome\")\n",
    "    "
   ]
  },
  {
   "cell_type": "code",
   "execution_count": 36,
   "id": "81031760",
   "metadata": {},
   "outputs": [],
   "source": [
    "l=[\"shristi\",9,\"k\"]"
   ]
  },
  {
   "cell_type": "code",
   "execution_count": 37,
   "id": "45ae2c3b",
   "metadata": {},
   "outputs": [
    {
     "data": {
      "text/plain": [
       "9"
      ]
     },
     "execution_count": 37,
     "metadata": {},
     "output_type": "execute_result"
    }
   ],
   "source": [
    "8 and 9"
   ]
  },
  {
   "cell_type": "code",
   "execution_count": 38,
   "id": "cfe58965",
   "metadata": {},
   "outputs": [],
   "source": [
    "_name=\"shristi\"\n",
    "_age=\"23\""
   ]
  },
  {
   "cell_type": "code",
   "execution_count": 39,
   "id": "ce02acbe",
   "metadata": {},
   "outputs": [
    {
     "name": "stdout",
     "output_type": "stream",
     "text": [
      "my name is shristi my age is 23\n"
     ]
    }
   ],
   "source": [
    "print(\"my name is\",_name,\"my age is\",_age)"
   ]
  },
  {
   "cell_type": "code",
   "execution_count": 40,
   "id": "25f5c1cf",
   "metadata": {},
   "outputs": [],
   "source": [
    "e=\"my name is a, my father name is b\"\n"
   ]
  },
  {
   "cell_type": "code",
   "execution_count": 41,
   "id": "9469f13e",
   "metadata": {},
   "outputs": [
    {
     "name": "stdout",
     "output_type": "stream",
     "text": [
      "no\n",
      "no\n",
      "no\n",
      "no\n",
      "no\n",
      "no\n",
      "no\n",
      "no\n",
      "no\n",
      "no\n",
      "no\n",
      "no\n",
      "no\n",
      "no\n",
      "no\n",
      "no\n",
      "no\n",
      "no\n",
      "no\n",
      "no\n",
      "no\n",
      "no\n",
      "no\n",
      "no\n",
      "no\n",
      "no\n",
      "no\n",
      "no\n",
      "no\n",
      "no\n",
      "no\n",
      "no\n",
      "no\n"
     ]
    }
   ],
   "source": [
    "for i in range(len(e)):\n",
    "    if e[i]==\"name\":\n",
    "        print(\"yes\")\n",
    "    else:\n",
    "        print(\"no\")"
   ]
  },
  {
   "cell_type": "code",
   "execution_count": 42,
   "id": "a8dc104a",
   "metadata": {},
   "outputs": [],
   "source": [
    "f=e.find(\"name\")"
   ]
  },
  {
   "cell_type": "code",
   "execution_count": 43,
   "id": "5e95f943",
   "metadata": {},
   "outputs": [
    {
     "data": {
      "text/plain": [
       "3"
      ]
     },
     "execution_count": 43,
     "metadata": {},
     "output_type": "execute_result"
    }
   ],
   "source": [
    "f"
   ]
  },
  {
   "cell_type": "code",
   "execution_count": 44,
   "id": "e6fc858a",
   "metadata": {},
   "outputs": [],
   "source": [
    "g=f+len(\"name\")"
   ]
  },
  {
   "cell_type": "code",
   "execution_count": 45,
   "id": "5918db89",
   "metadata": {},
   "outputs": [
    {
     "data": {
      "text/plain": [
       "7"
      ]
     },
     "execution_count": 45,
     "metadata": {},
     "output_type": "execute_result"
    }
   ],
   "source": [
    "g"
   ]
  },
  {
   "cell_type": "code",
   "execution_count": 46,
   "id": "01acbb55",
   "metadata": {},
   "outputs": [
    {
     "data": {
      "text/plain": [
       "24"
      ]
     },
     "execution_count": 46,
     "metadata": {},
     "output_type": "execute_result"
    }
   ],
   "source": [
    "e.find(\"name\",4)### great"
   ]
  },
  {
   "cell_type": "markdown",
   "id": "efc65657",
   "metadata": {},
   "source": [
    "## list manipulation"
   ]
  },
  {
   "cell_type": "code",
   "execution_count": 47,
   "id": "9089b5ba",
   "metadata": {},
   "outputs": [],
   "source": [
    "list=['hi',8,9,'hello',[9,9,0]]"
   ]
  },
  {
   "cell_type": "code",
   "execution_count": 48,
   "id": "6ebf333c",
   "metadata": {},
   "outputs": [
    {
     "data": {
      "text/plain": [
       "['hi', 8, 9, 'hello', [9, 9, 0]]"
      ]
     },
     "execution_count": 48,
     "metadata": {},
     "output_type": "execute_result"
    }
   ],
   "source": [
    "list"
   ]
  },
  {
   "cell_type": "code",
   "execution_count": 49,
   "id": "ae3e4dfa",
   "metadata": {},
   "outputs": [
    {
     "name": "stdout",
     "output_type": "stream",
     "text": [
      "9\n"
     ]
    }
   ],
   "source": [
    "print(max([8,9,8,0]))"
   ]
  },
  {
   "cell_type": "code",
   "execution_count": 50,
   "id": "c65ba2f4",
   "metadata": {},
   "outputs": [
    {
     "ename": "SyntaxError",
     "evalue": "invalid syntax (Temp/ipykernel_13956/1081638472.py, line 1)",
     "output_type": "error",
     "traceback": [
      "\u001b[1;36m  File \u001b[1;32m\"C:\\Users\\Shristi\\AppData\\Local\\Temp/ipykernel_13956/1081638472.py\"\u001b[1;36m, line \u001b[1;32m1\u001b[0m\n\u001b[1;33m    list.insert(2,'jjj', /)\u001b[0m\n\u001b[1;37m                         ^\u001b[0m\n\u001b[1;31mSyntaxError\u001b[0m\u001b[1;31m:\u001b[0m invalid syntax\n"
     ]
    }
   ],
   "source": [
    "list.insert(2,'jjj', /)"
   ]
  },
  {
   "cell_type": "code",
   "execution_count": 51,
   "id": "637484cb",
   "metadata": {},
   "outputs": [],
   "source": [
    "l=[[3,4,5],['Hi','Hello'],['a','5.5',1]]"
   ]
  },
  {
   "cell_type": "code",
   "execution_count": 52,
   "id": "89e363d3",
   "metadata": {},
   "outputs": [],
   "source": [
    "l.insert(2,[4,5,6])"
   ]
  },
  {
   "cell_type": "code",
   "execution_count": 53,
   "id": "073f570b",
   "metadata": {},
   "outputs": [
    {
     "data": {
      "text/plain": [
       "[[3, 4, 5], ['Hi', 'Hello'], [4, 5, 6], ['a', '5.5', 1]]"
      ]
     },
     "execution_count": 53,
     "metadata": {},
     "output_type": "execute_result"
    }
   ],
   "source": [
    "l"
   ]
  },
  {
   "cell_type": "code",
   "execution_count": 77,
   "id": "82b8e7bd",
   "metadata": {},
   "outputs": [
    {
     "ename": "IndexError",
     "evalue": "list index out of range",
     "output_type": "error",
     "traceback": [
      "\u001b[1;31m---------------------------------------------------------------------------\u001b[0m",
      "\u001b[1;31mIndexError\u001b[0m                                Traceback (most recent call last)",
      "\u001b[1;32m~\\AppData\\Local\\Temp/ipykernel_13956/543856155.py\u001b[0m in \u001b[0;36m<module>\u001b[1;34m\u001b[0m\n\u001b[0;32m      1\u001b[0m \u001b[1;32mfor\u001b[0m \u001b[0mi\u001b[0m \u001b[1;32min\u001b[0m \u001b[0ml\u001b[0m\u001b[1;33m:\u001b[0m\u001b[1;33m\u001b[0m\u001b[1;33m\u001b[0m\u001b[0m\n\u001b[1;32m----> 2\u001b[1;33m     \u001b[1;32mif\u001b[0m \u001b[0mtype\u001b[0m\u001b[1;33m(\u001b[0m\u001b[0ml\u001b[0m\u001b[1;33m[\u001b[0m\u001b[0mi\u001b[0m\u001b[1;33m]\u001b[0m\u001b[1;33m)\u001b[0m \u001b[1;32mis\u001b[0m \u001b[0mlist\u001b[0m\u001b[1;33m:\u001b[0m\u001b[1;33m\u001b[0m\u001b[1;33m\u001b[0m\u001b[0m\n\u001b[0m\u001b[0;32m      3\u001b[0m         \u001b[0mprint\u001b[0m\u001b[1;33m(\u001b[0m\u001b[0mi\u001b[0m\u001b[1;33m)\u001b[0m\u001b[1;33m\u001b[0m\u001b[1;33m\u001b[0m\u001b[0m\n",
      "\u001b[1;31mIndexError\u001b[0m: list index out of range"
     ]
    }
   ],
   "source": [
    "for i in l:\n",
    "    if type(l[i]) is list:\n",
    "        print(i)"
   ]
  },
  {
   "cell_type": "code",
   "execution_count": 78,
   "id": "b930c243",
   "metadata": {},
   "outputs": [],
   "source": [
    "for i in l:\n",
    "    if type(i)==list:\n",
    "        for j in i:\n",
    "            if type(j)==str:\n",
    "                print(j)\n",
    "         \n",
    "\n",
    "                \n"
   ]
  },
  {
   "cell_type": "code",
   "execution_count": 91,
   "id": "29995171",
   "metadata": {},
   "outputs": [
    {
     "ename": "IndentationError",
     "evalue": "unindent does not match any outer indentation level (<tokenize>, line 4)",
     "output_type": "error",
     "traceback": [
      "\u001b[1;36m  File \u001b[1;32m\"<tokenize>\"\u001b[1;36m, line \u001b[1;32m4\u001b[0m\n\u001b[1;33m    while j < len(i):\u001b[0m\n\u001b[1;37m    ^\u001b[0m\n\u001b[1;31mIndentationError\u001b[0m\u001b[1;31m:\u001b[0m unindent does not match any outer indentation level\n"
     ]
    }
   ],
   "source": [
    "for i in l:\n",
    "    if type(i)==list:\n",
    "         j=0\n",
    "        while j < len(i):\n",
    "            if type(i[j]) is str\n",
    "            "
   ]
  },
  {
   "cell_type": "code",
   "execution_count": 55,
   "id": "10846919",
   "metadata": {},
   "outputs": [
    {
     "data": {
      "text/plain": [
       "['Hi', 'Hello']"
      ]
     },
     "execution_count": 55,
     "metadata": {},
     "output_type": "execute_result"
    }
   ],
   "source": [
    "l.pop(1)"
   ]
  },
  {
   "cell_type": "code",
   "execution_count": 60,
   "id": "2e140f02",
   "metadata": {},
   "outputs": [
    {
     "ename": "AttributeError",
     "evalue": "'list' object has no attribute 'enumerate'",
     "output_type": "error",
     "traceback": [
      "\u001b[1;31m---------------------------------------------------------------------------\u001b[0m",
      "\u001b[1;31mAttributeError\u001b[0m                            Traceback (most recent call last)",
      "\u001b[1;32m~\\AppData\\Local\\Temp/ipykernel_13956/681703572.py\u001b[0m in \u001b[0;36m<module>\u001b[1;34m\u001b[0m\n\u001b[1;32m----> 1\u001b[1;33m \u001b[0ml\u001b[0m\u001b[1;33m.\u001b[0m\u001b[0menumerate\u001b[0m\u001b[1;33m(\u001b[0m\u001b[1;33m)\u001b[0m\u001b[1;33m\u001b[0m\u001b[1;33m\u001b[0m\u001b[0m\n\u001b[0m",
      "\u001b[1;31mAttributeError\u001b[0m: 'list' object has no attribute 'enumerate'"
     ]
    }
   ],
   "source": [
    "l.enumerate()"
   ]
  },
  {
   "cell_type": "code",
   "execution_count": 65,
   "id": "0cfcf72f",
   "metadata": {},
   "outputs": [
    {
     "name": "stdout",
     "output_type": "stream",
     "text": [
      "4\n",
      "4\n",
      "4\n",
      "4\n",
      "44\n"
     ]
    }
   ],
   "source": [
    "l=[]\n",
    "for i in range(5):\n",
    "    l.append(int(input()))"
   ]
  },
  {
   "cell_type": "code",
   "execution_count": 66,
   "id": "718e6a32",
   "metadata": {},
   "outputs": [
    {
     "name": "stdout",
     "output_type": "stream",
     "text": [
      "[4, 4, 4, 4, 44]\n"
     ]
    }
   ],
   "source": [
    "print(l)"
   ]
  },
  {
   "cell_type": "code",
   "execution_count": 67,
   "id": "39d738bf",
   "metadata": {},
   "outputs": [
    {
     "name": "stdout",
     "output_type": "stream",
     "text": [
      "67\n"
     ]
    },
    {
     "data": {
      "text/plain": [
       "'67'"
      ]
     },
     "execution_count": 67,
     "metadata": {},
     "output_type": "execute_result"
    }
   ],
   "source": [
    "input()"
   ]
  },
  {
   "cell_type": "markdown",
   "id": "d2eb7fd6",
   "metadata": {},
   "source": [
    "input()"
   ]
  },
  {
   "cell_type": "code",
   "execution_count": 68,
   "id": "82f6d6a0",
   "metadata": {},
   "outputs": [
    {
     "data": {
      "text/plain": [
       "[45, 67, 56]"
      ]
     },
     "execution_count": 68,
     "metadata": {},
     "output_type": "execute_result"
    }
   ],
   "source": [
    "[45,67,56]"
   ]
  },
  {
   "cell_type": "code",
   "execution_count": 85,
   "id": "21bdf385",
   "metadata": {},
   "outputs": [],
   "source": [
    "l=[[1,2,3],[4,5,6],[7,8,9,'xyz','xyz','xyz'],10, 'vishal', True]\n",
    "# part1\n",
    "l.insert(2,[11,12])\n",
    "l.insert(-1,[13,14])\n",
    "l.append(12+3j)"
   ]
  },
  {
   "cell_type": "code",
   "execution_count": 88,
   "id": "1e197c52",
   "metadata": {},
   "outputs": [],
   "source": [
    "for i in l:\n",
    "    if type(i) == list:\n",
    "        for j in i:\n",
    "            if type(j) == str:\n",
    "                print(\"Index of string {} is :\".format(i[j]),j)"
   ]
  },
  {
   "cell_type": "code",
   "execution_count": 92,
   "id": "0ceb46f3",
   "metadata": {},
   "outputs": [
    {
     "name": "stdout",
     "output_type": "stream",
     "text": [
      "List after removal of string from nested list is\r",
      " [[1, 2, 3], [11, 12, 'b', 'b', 'b'], [21, 't', 223], [4, 5, 6], [7, 8, 9], 'demo', 12.5] \n",
      "\n"
     ]
    }
   ],
   "source": [
    "\n",
    "#2. Find the index of string element in the nested list and remove the string\n",
    "l = [[1, 2, 3],\n",
    " [11, 12, 'b', 'b', 'b'],\n",
    " [21, 't', 223],\n",
    " [4, 5, 6],\n",
    " [7, 8, 9],\n",
    " 'demo',\n",
    " 12.5]\n",
    "\n",
    "for i in l:\n",
    "    if type(i) == list:\n",
    "        j=0\n",
    "        while j < len(i):\n",
    "            if type(i[j]) is str:\n",
    "                print(\"Index of string {} is :\".format(i[j]),j)\n",
    "            j = j +1\n",
    "        j=0\n",
    "        while j < len(i):\n",
    "            if type(i[j]) is str:\n",
    "                print(\"The string in the nested list is '{}'\".format(i[j]))\n",
    "                i.remove(i[j])\n",
    "                continue\n",
    "            j = j +1\n",
    "print(\"List after removal of string from nested list is\\r\",l,'\\n')"
   ]
  },
  {
   "cell_type": "code",
   "execution_count": null,
   "id": "d33ae94c",
   "metadata": {},
   "outputs": [],
   "source": []
  }
 ],
 "metadata": {
  "kernelspec": {
   "display_name": "Python 3 (ipykernel)",
   "language": "python",
   "name": "python3"
  },
  "language_info": {
   "codemirror_mode": {
    "name": "ipython",
    "version": 3
   },
   "file_extension": ".py",
   "mimetype": "text/x-python",
   "name": "python",
   "nbconvert_exporter": "python",
   "pygments_lexer": "ipython3",
   "version": "3.9.7"
  }
 },
 "nbformat": 4,
 "nbformat_minor": 5
}
