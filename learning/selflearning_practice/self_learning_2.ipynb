{
 "cells": [
  {
   "cell_type": "code",
   "execution_count": 1,
   "id": "45836022",
   "metadata": {},
   "outputs": [
    {
     "name": "stdout",
     "output_type": "stream",
     "text": [
      "Index of string b is : 2\n",
      "Index of string b is : 3\n",
      "Index of string b is : 4\n",
      "The string in the nested list is 'b'\n",
      "The string in the nested list is 'b'\n",
      "The string in the nested list is 'b'\n",
      "Index of string t is : 1\n",
      "The string in the nested list is 't'\n",
      "List after removal of string from nested list is\r",
      " [[1, 2, 3], [11, 12], [21, 223], [4, 5, 6], [7, 8, 9], 'demo', 12.5] \n",
      "\n"
     ]
    }
   ],
   "source": [
    "\n",
    "#2. Find the index of string element in the nested list and remove the string\n",
    "l = [[1, 2, 3],\n",
    " [11, 12, 'b', 'b', 'b'],\n",
    " [21, 't', 223],\n",
    " [4, 5, 6],\n",
    " [7, 8, 9],\n",
    " 'demo',\n",
    " 12.5]\n",
    "\n",
    "for i in l:\n",
    "    if type(i) == list:\n",
    "        j=0\n",
    "        while j < len(i):\n",
    "            if type(i[j]) is str:\n",
    "                print(\"Index of string {} is :\".format(i[j]),j)\n",
    "            j = j +1\n",
    "        j=0\n",
    "        while j < len(i):\n",
    "            if type(i[j]) is str:\n",
    "                print(\"The string in the nested list is '{}'\".format(i[j]))\n",
    "                i.remove(i[j])\n",
    "                continue\n",
    "            j = j +1\n",
    "print(\"List after removal of string from nested list is\\r\",l,'\\n')"
   ]
  },
  {
   "cell_type": "code",
   "execution_count": 2,
   "id": "c9728209",
   "metadata": {},
   "outputs": [],
   "source": [
    "for i in l:\n",
    "    if type(i)==list:\n",
    "        for j in i:\n",
    "            if type(j)==str:\n",
    "                print(j)\n",
    "         "
   ]
  },
  {
   "cell_type": "code",
   "execution_count": 8,
   "id": "2c5c9eb4",
   "metadata": {},
   "outputs": [
    {
     "name": "stdout",
     "output_type": "stream",
     "text": [
      "Index of string b is : 2\n",
      "Index of string b is : 3\n",
      "Index of string b is : 4\n",
      "The string in the nested list is 'b'\n",
      "The string in the nested list is 'b'\n",
      "The string in the nested list is 'b'\n",
      "Index of string t is : 1\n",
      "The string in the nested list is 't'\n",
      "List after removal of string from nested list is\r",
      " [[1, 2, 3], [11, 12], [21, 223], [4, 5, 6], [7, 8, 9], 'demo', 12.5] \n",
      "\n"
     ]
    }
   ],
   "source": [
    "\n",
    "#2. Find the index of string element in the nested list and remove the string\n",
    "l = [[1, 2, 3],\n",
    " [11, 12, 'b', 'b', 'b'],\n",
    " [21, 't', 223],\n",
    " [4, 5, 6],\n",
    " [7, 8, 9],\n",
    " 'demo',\n",
    " 12.5]\n",
    "\n",
    "for i in l:\n",
    "    if type(i) == list:\n",
    "        j=0\n",
    "        while j < len(i):\n",
    "            if type(i[j]) is str:\n",
    "                print(\"Index of string {} is :\".format(i[j]),j)\n",
    "            j = j +1\n",
    "        j=0\n",
    "        while j < len(i):\n",
    "            if type(i[j]) is str:\n",
    "                print(\"The string in the nested list is '{}'\".format(i[j]))\n",
    "                i.remove(i[j])\n",
    "                continue\n",
    "            j = j +1\n",
    "print(\"List after removal of string from nested list is\\r\",l,'\\n')"
   ]
  },
  {
   "cell_type": "code",
   "execution_count": 32,
   "id": "6813668a",
   "metadata": {},
   "outputs": [
    {
     "name": "stdout",
     "output_type": "stream",
     "text": [
      "2\n",
      "2\n",
      "2\n",
      "1\n"
     ]
    }
   ],
   "source": [
    "l = [[1, 2, 3],\n",
    " [11, 12, 'b', 'b', 'b'],\n",
    " [21, 't', 223],\n",
    " [4, 5, 6],\n",
    " [7, 8, 9],\n",
    " 'demo',\n",
    " 12.5]\n",
    "for i in l:\n",
    "    if type(i) == list:\n",
    "        for j in i:\n",
    "            if type(j) is str:\n",
    "                print(i.index(j))\n",
    "           "
   ]
  },
  {
   "cell_type": "code",
   "execution_count": 11,
   "id": "873c40ba",
   "metadata": {},
   "outputs": [
    {
     "name": "stdout",
     "output_type": "stream",
     "text": [
      "2\n",
      "3\n"
     ]
    }
   ],
   "source": [
    "l=[2,3,'h']\n",
    "for i in l:\n",
    "    if type(i)==int:\n",
    "        print(i)"
   ]
  },
  {
   "cell_type": "code",
   "execution_count": 14,
   "id": "1d1ca6ee",
   "metadata": {},
   "outputs": [
    {
     "name": "stdout",
     "output_type": "stream",
     "text": [
      "Index of string b is :2\n",
      "Index of string b is :3\n",
      "Index of string b is :4\n",
      "The string in the nested list is 'b'\n",
      "The string in the nested list is 'b'\n",
      "The string in the nested list is 'b'\n",
      "Index of string t is :1\n",
      "The string in the nested list is 't'\n",
      "List after removal of string from nested list is\r",
      " [[1, 2, 3], [11, 12], [21, 223], [4, 5, 6], [7, 8, 9], 'demo', 12.5] \n",
      "\n"
     ]
    }
   ],
   "source": [
    "l = [[1, 2, 3],\n",
    " [11, 12, 'b', 'b', 'b'],\n",
    " [21, 't', 223],\n",
    " [4, 5, 6],\n",
    " [7, 8, 9],\n",
    " 'demo',\n",
    " 12.5]\n",
    "\n",
    "for i in l:\n",
    "    if type(i) == list:\n",
    "        j=0\n",
    "        while j < len(i):\n",
    "            if type(i[j]) is str:\n",
    "                print(\"Index of string {} is :{}\".format((i[j]),j))\n",
    "            j = j +1\n",
    "        j=0\n",
    "        while j < len(i):\n",
    "            if type(i[j]) is str:\n",
    "                print(\"The string in the nested list is '{}'\".format(i[j]))\n",
    "                i.remove(i[j])\n",
    "                continue\n",
    "            j = j +1\n",
    "print(\"List after removal of string from nested list is\\r\",l,'\\n')"
   ]
  },
  {
   "cell_type": "code",
   "execution_count": null,
   "id": "85696215",
   "metadata": {},
   "outputs": [],
   "source": [
    "l = [[1, 2, 3],\n",
    " [11, 12, 'b', 'b', 'b'],\n",
    " [21, 't', 223],\n",
    " [4, 5, 6],\n",
    " [7, 8, 9],\n",
    " 'demo',\n",
    " 12.5]\n",
    "\n",
    "for i in l:\n",
    "    if type(i) == list:\n",
    "        j=0\n",
    "        if j < len(i):\n",
    "            if type(i[j]) is str:\n",
    "                print(\"Index of string {} is :{}\".format((i[j]),j))\n",
    "            \n",
    "        j=0\n",
    "        while j < len(i):\n",
    "            if type(i[j]) is str:\n",
    "                print(\"The string in the nested list is '{}'\".format(i[j]))\n",
    "                i.remove(i[j])\n",
    "                continue\n",
    "            j = j +1\n",
    "print(\"List after removal of string from nested list is\\r\",l,'\\n')"
   ]
  },
  {
   "cell_type": "code",
   "execution_count": 15,
   "id": "0bf1ebc6",
   "metadata": {},
   "outputs": [],
   "source": [
    "l = [[1, 2, 3],\n",
    " [11, 12, 'b', 'b', 'b'],\n",
    " [21, 't', 223],\n",
    " [4, 5, 6],\n",
    " [7, 8, 9],\n",
    " 'demo',\n",
    " 12.5]\n",
    "\n",
    "for i in l:\n",
    "    if type(i) == list:\n",
    "        j=0\n",
    "        if j < len(i):\n",
    "            if type(i[j]) is str:\n",
    "                print(\"Index of string {} is :{}\".format((i[j]),j))"
   ]
  },
  {
   "cell_type": "code",
   "execution_count": 70,
   "id": "45515808",
   "metadata": {},
   "outputs": [
    {
     "ename": "TypeError",
     "evalue": "'int' object is not iterable",
     "output_type": "error",
     "traceback": [
      "\u001b[1;31m---------------------------------------------------------------------------\u001b[0m",
      "\u001b[1;31mTypeError\u001b[0m                                 Traceback (most recent call last)",
      "\u001b[1;32m~\\AppData\\Local\\Temp/ipykernel_7376/839363883.py\u001b[0m in \u001b[0;36m<module>\u001b[1;34m\u001b[0m\n\u001b[0;32m      6\u001b[0m  \u001b[1;34m'demo'\u001b[0m\u001b[1;33m,\u001b[0m\u001b[1;33m\u001b[0m\u001b[1;33m\u001b[0m\u001b[0m\n\u001b[0;32m      7\u001b[0m  12.5]\n\u001b[1;32m----> 8\u001b[1;33m \u001b[1;32mfor\u001b[0m \u001b[0mi\u001b[0m\u001b[1;33m,\u001b[0m\u001b[0mj\u001b[0m \u001b[1;32min\u001b[0m \u001b[0menumerate\u001b[0m\u001b[1;33m(\u001b[0m\u001b[1;36m12\u001b[0m\u001b[1;33m)\u001b[0m\u001b[1;33m:\u001b[0m\u001b[1;33m\u001b[0m\u001b[1;33m\u001b[0m\u001b[0m\n\u001b[0m\u001b[0;32m      9\u001b[0m     \u001b[1;32mif\u001b[0m \u001b[0mtype\u001b[0m\u001b[1;33m(\u001b[0m\u001b[0mj\u001b[0m\u001b[1;33m)\u001b[0m\u001b[1;33m==\u001b[0m\u001b[0mlist\u001b[0m\u001b[1;33m:\u001b[0m\u001b[1;33m\u001b[0m\u001b[1;33m\u001b[0m\u001b[0m\n\u001b[0;32m     10\u001b[0m         \u001b[0mprint\u001b[0m\u001b[1;33m(\u001b[0m\u001b[0mi\u001b[0m\u001b[1;33m,\u001b[0m\u001b[0mj\u001b[0m\u001b[1;33m)\u001b[0m\u001b[1;33m\u001b[0m\u001b[1;33m\u001b[0m\u001b[0m\n",
      "\u001b[1;31mTypeError\u001b[0m: 'int' object is not iterable"
     ]
    }
   ],
   "source": [
    "l = [[1, 2, 3],\n",
    " [11, 12, 'b', 'b', 'b'],\n",
    " [21, 't', 223],\n",
    " [4, 5, 6],\n",
    " [7, 8, 9],\n",
    " 'demo',\n",
    " 12.5]\n",
    "for i,j in enumerate(12):\n",
    "    if type(j)==list:\n",
    "        print(i,j)\n",
    "        for a,b in enumerate(j):\n",
    "            \n",
    "            if type(b)==str:\n",
    "                print(f\"index of string {b} is :\",i,a)\n",
    "                j.pop(a)\n",
    "                continue"
   ]
  },
  {
   "cell_type": "code",
   "execution_count": 16,
   "id": "1a91d9e7",
   "metadata": {},
   "outputs": [
    {
     "data": {
      "text/plain": [
       "['s', 'u', 'd', 'h']"
      ]
     },
     "execution_count": 16,
     "metadata": {},
     "output_type": "execute_result"
    }
   ],
   "source": [
    "[i for i in 'sudh']"
   ]
  },
  {
   "cell_type": "code",
   "execution_count": 18,
   "id": "a6270661",
   "metadata": {},
   "outputs": [
    {
     "data": {
      "text/plain": [
       "[0, 3, 6, 9]"
      ]
     },
     "execution_count": 18,
     "metadata": {},
     "output_type": "execute_result"
    }
   ],
   "source": [
    "[i for i in range(10) if i%3==0]"
   ]
  },
  {
   "cell_type": "code",
   "execution_count": 21,
   "id": "617dedaf",
   "metadata": {},
   "outputs": [
    {
     "data": {
      "text/plain": [
       "['even', 'odd', 'even', 'odd', 'even', 'odd', 'even', 'odd', 'even', 'odd']"
      ]
     },
     "execution_count": 21,
     "metadata": {},
     "output_type": "execute_result"
    }
   ],
   "source": [
    "['odd' if i%2!=0 else 'even' for i in range(10)]"
   ]
  },
  {
   "cell_type": "code",
   "execution_count": 24,
   "id": "4b9314d8",
   "metadata": {},
   "outputs": [
    {
     "data": {
      "text/plain": [
       "['odd',\n",
       " 'shristi',\n",
       " 'shristi',\n",
       " 'odd',\n",
       " 'shristi',\n",
       " 'shristi',\n",
       " 'odd',\n",
       " 'shristi',\n",
       " 'shristi',\n",
       " 'odd']"
      ]
     },
     "execution_count": 24,
     "metadata": {},
     "output_type": "execute_result"
    }
   ],
   "source": [
    "[\"odd\" if i%3==0 else \"shristi\" for i in range(10)]"
   ]
  },
  {
   "cell_type": "code",
   "execution_count": 36,
   "id": "24a59b19",
   "metadata": {},
   "outputs": [],
   "source": [
    "mat=[]\n",
    "for i in range(4):\n",
    "    mat.append([])\n",
    "    for j in range(4):\n",
    "        mat[i].append(j)"
   ]
  },
  {
   "cell_type": "code",
   "execution_count": 37,
   "id": "63fedbe1",
   "metadata": {},
   "outputs": [
    {
     "data": {
      "text/plain": [
       "[[0, 1, 2, 3], [0, 1, 2, 3], [0, 1, 2, 3], [0, 1, 2, 3]]"
      ]
     },
     "execution_count": 37,
     "metadata": {},
     "output_type": "execute_result"
    }
   ],
   "source": [
    "mat\n"
   ]
  },
  {
   "cell_type": "code",
   "execution_count": 39,
   "id": "9ef848f3",
   "metadata": {},
   "outputs": [],
   "source": [
    "mat=[]\n",
    "for i in range(4):\n",
    "    mat.append([])\n",
    "    for j in range(4):\n",
    "        mat[i].append([])"
   ]
  },
  {
   "cell_type": "code",
   "execution_count": 40,
   "id": "b8a4b8bc",
   "metadata": {},
   "outputs": [
    {
     "data": {
      "text/plain": [
       "[[[], [], [], []], [[], [], [], []], [[], [], [], []], [[], [], [], []]]"
      ]
     },
     "execution_count": 40,
     "metadata": {},
     "output_type": "execute_result"
    }
   ],
   "source": [
    "mat"
   ]
  },
  {
   "cell_type": "code",
   "execution_count": 41,
   "id": "4d26c6f0",
   "metadata": {},
   "outputs": [
    {
     "data": {
      "text/plain": [
       "[[0, 1, 2], [0, 1, 2], [0, 1, 2]]"
      ]
     },
     "execution_count": 41,
     "metadata": {},
     "output_type": "execute_result"
    }
   ],
   "source": [
    "[[j for j in range(3)] for i in range(3)]"
   ]
  },
  {
   "cell_type": "code",
   "execution_count": 1,
   "id": "a8b522e7",
   "metadata": {},
   "outputs": [],
   "source": [
    "k=[9,9,9,7,8,6]"
   ]
  },
  {
   "cell_type": "code",
   "execution_count": 2,
   "id": "5fe2ba32",
   "metadata": {},
   "outputs": [
    {
     "data": {
      "text/plain": [
       "[9, 9]"
      ]
     },
     "execution_count": 2,
     "metadata": {},
     "output_type": "execute_result"
    }
   ],
   "source": [
    "k[:2]"
   ]
  },
  {
   "cell_type": "code",
   "execution_count": 3,
   "id": "cb4b49f7",
   "metadata": {},
   "outputs": [
    {
     "data": {
      "text/plain": [
       "[9, 7, 8, 6]"
      ]
     },
     "execution_count": 3,
     "metadata": {},
     "output_type": "execute_result"
    }
   ],
   "source": [
    "k[2:]"
   ]
  },
  {
   "cell_type": "code",
   "execution_count": 1,
   "id": "da2cb52c",
   "metadata": {},
   "outputs": [],
   "source": [
    "x=set()"
   ]
  },
  {
   "cell_type": "code",
   "execution_count": 2,
   "id": "ef8095b1",
   "metadata": {},
   "outputs": [],
   "source": [
    "l=[9,4,5,6]"
   ]
  },
  {
   "cell_type": "code",
   "execution_count": 3,
   "id": "d1532a6c",
   "metadata": {},
   "outputs": [],
   "source": [
    "x=set(l)"
   ]
  },
  {
   "cell_type": "code",
   "execution_count": 4,
   "id": "047ab99f",
   "metadata": {},
   "outputs": [
    {
     "data": {
      "text/plain": [
       "{4, 5, 6, 9}"
      ]
     },
     "execution_count": 4,
     "metadata": {},
     "output_type": "execute_result"
    }
   ],
   "source": [
    "x"
   ]
  },
  {
   "cell_type": "code",
   "execution_count": 5,
   "id": "a7d1ff2d",
   "metadata": {},
   "outputs": [
    {
     "ename": "AttributeError",
     "evalue": "'set' object has no attribute 'append'",
     "output_type": "error",
     "traceback": [
      "\u001b[1;31m---------------------------------------------------------------------------\u001b[0m",
      "\u001b[1;31mAttributeError\u001b[0m                            Traceback (most recent call last)",
      "\u001b[1;32m~\\AppData\\Local\\Temp/ipykernel_7376/2165375155.py\u001b[0m in \u001b[0;36m<module>\u001b[1;34m\u001b[0m\n\u001b[1;32m----> 1\u001b[1;33m \u001b[0mx\u001b[0m\u001b[1;33m.\u001b[0m\u001b[0mappend\u001b[0m\u001b[1;33m(\u001b[0m\u001b[1;36m7\u001b[0m\u001b[1;33m)\u001b[0m\u001b[1;33m\u001b[0m\u001b[1;33m\u001b[0m\u001b[0m\n\u001b[0m",
      "\u001b[1;31mAttributeError\u001b[0m: 'set' object has no attribute 'append'"
     ]
    }
   ],
   "source": [
    "x.append(7)"
   ]
  },
  {
   "cell_type": "code",
   "execution_count": 6,
   "id": "c4c63f0b",
   "metadata": {},
   "outputs": [],
   "source": [
    "l=[4,5,6]\n"
   ]
  },
  {
   "cell_type": "code",
   "execution_count": 9,
   "id": "f31aea95",
   "metadata": {},
   "outputs": [
    {
     "data": {
      "text/plain": [
       "[4, 5, 6]"
      ]
     },
     "execution_count": 9,
     "metadata": {},
     "output_type": "execute_result"
    }
   ],
   "source": [
    "l[0:]"
   ]
  },
  {
   "cell_type": "code",
   "execution_count": 10,
   "id": "825c5e6b",
   "metadata": {},
   "outputs": [
    {
     "data": {
      "text/plain": [
       "[4, 5, 6]"
      ]
     },
     "execution_count": 10,
     "metadata": {},
     "output_type": "execute_result"
    }
   ],
   "source": [
    "l[:3]"
   ]
  },
  {
   "cell_type": "markdown",
   "id": "04aeb3f7",
   "metadata": {},
   "source": [
    "## question"
   ]
  },
  {
   "cell_type": "code",
   "execution_count": 11,
   "id": "b38a25ce",
   "metadata": {},
   "outputs": [],
   "source": [
    "para=\"\"\"Football is a family of team sports that involve, to varying degrees, kicking a ball to score a goal. Unqualified, the word football normally means the form of football that is the most popular where the word is used. Sports commonly called football include association football (known as soccer in North America and Oceania); gridiron football (specifically American football or Canadian football); Australian rules football; rugby union and rugby league; and Gaelic football.[1] These various forms of football share to varying extent common origins and are known as football codes.\n",
    "\n",
    "There are a number of references to traditional, ancient, or prehistoric ball games played in many different parts of the world.[2][3][4] Contemporary codes of football can be traced back to the codification of these games at English public schools during the 19th century.[5][6] The expansion and cultural influence of the British Empire allowed these rules of football to spread to areas of British influence outside the directly controlled Empire.[7] By the end of the 19th century, distinct regional codes were already developing: Gaelic football, for example, deliberately incorporated the rules of local traditional football games in order to maintain their heritage.[8] In 1888, The Football League was founded in England, becoming the first of many professional football associations. During the 20th century, several of the various kinds of football grew to become some of the most popular team sports in the world.[9]\"\"\""
   ]
  },
  {
   "cell_type": "code",
   "execution_count": 12,
   "id": "c7ccb06b",
   "metadata": {},
   "outputs": [
    {
     "data": {
      "text/plain": [
       "'Football is a family of team sports that involve, to varying degrees, kicking a ball to score a goal. Unqualified, the word football normally means the form of football that is the most popular where the word is used. Sports commonly called football include association football (known as soccer in North America and Oceania); gridiron football (specifically American football or Canadian football); Australian rules football; rugby union and rugby league; and Gaelic football.[1] These various forms of football share to varying extent common origins and are known as football codes.\\n\\nThere are a number of references to traditional, ancient, or prehistoric ball games played in many different parts of the world.[2][3][4] Contemporary codes of football can be traced back to the codification of these games at English public schools during the 19th century.[5][6] The expansion and cultural influence of the British Empire allowed these rules of football to spread to areas of British influence outside the directly controlled Empire.[7] By the end of the 19th century, distinct regional codes were already developing: Gaelic football, for example, deliberately incorporated the rules of local traditional football games in order to maintain their heritage.[8] In 1888, The Football League was founded in England, becoming the first of many professional football associations. During the 20th century, several of the various kinds of football grew to become some of the most popular team sports in the world.[9]'"
      ]
     },
     "execution_count": 12,
     "metadata": {},
     "output_type": "execute_result"
    }
   ],
   "source": [
    "para"
   ]
  },
  {
   "cell_type": "code",
   "execution_count": 33,
   "id": "83e1e316",
   "metadata": {},
   "outputs": [],
   "source": [
    "x=para.split(\" \")"
   ]
  },
  {
   "cell_type": "code",
   "execution_count": 34,
   "id": "ca8c0995",
   "metadata": {},
   "outputs": [
    {
     "data": {
      "text/plain": [
       "['Football',\n",
       " 'is',\n",
       " 'a',\n",
       " 'family',\n",
       " 'of',\n",
       " 'team',\n",
       " 'sports',\n",
       " 'that',\n",
       " 'involve,',\n",
       " 'to',\n",
       " 'varying',\n",
       " 'degrees,',\n",
       " 'kicking',\n",
       " 'a',\n",
       " 'ball',\n",
       " 'to',\n",
       " 'score',\n",
       " 'a',\n",
       " 'goal.',\n",
       " 'Unqualified,',\n",
       " 'the',\n",
       " 'word',\n",
       " 'football',\n",
       " 'normally',\n",
       " 'means',\n",
       " 'the',\n",
       " 'form',\n",
       " 'of',\n",
       " 'football',\n",
       " 'that',\n",
       " 'is',\n",
       " 'the',\n",
       " 'most',\n",
       " 'popular',\n",
       " 'where',\n",
       " 'the',\n",
       " 'word',\n",
       " 'is',\n",
       " 'used.',\n",
       " 'Sports',\n",
       " 'commonly',\n",
       " 'called',\n",
       " 'football',\n",
       " 'include',\n",
       " 'association',\n",
       " 'football',\n",
       " '(known',\n",
       " 'as',\n",
       " 'soccer',\n",
       " 'in',\n",
       " 'North',\n",
       " 'America',\n",
       " 'and',\n",
       " 'Oceania);',\n",
       " 'gridiron',\n",
       " 'football',\n",
       " '(specifically',\n",
       " 'American',\n",
       " 'football',\n",
       " 'or',\n",
       " 'Canadian',\n",
       " 'football);',\n",
       " 'Australian',\n",
       " 'rules',\n",
       " 'football;',\n",
       " 'rugby',\n",
       " 'union',\n",
       " 'and',\n",
       " 'rugby',\n",
       " 'league;',\n",
       " 'and',\n",
       " 'Gaelic',\n",
       " 'football.[1]',\n",
       " 'These',\n",
       " 'various',\n",
       " 'forms',\n",
       " 'of',\n",
       " 'football',\n",
       " 'share',\n",
       " 'to',\n",
       " 'varying',\n",
       " 'extent',\n",
       " 'common',\n",
       " 'origins',\n",
       " 'and',\n",
       " 'are',\n",
       " 'known',\n",
       " 'as',\n",
       " 'football',\n",
       " 'codes.\\n\\nThere',\n",
       " 'are',\n",
       " 'a',\n",
       " 'number',\n",
       " 'of',\n",
       " 'references',\n",
       " 'to',\n",
       " 'traditional,',\n",
       " 'ancient,',\n",
       " 'or',\n",
       " 'prehistoric',\n",
       " 'ball',\n",
       " 'games',\n",
       " 'played',\n",
       " 'in',\n",
       " 'many',\n",
       " 'different',\n",
       " 'parts',\n",
       " 'of',\n",
       " 'the',\n",
       " 'world.[2][3][4]',\n",
       " 'Contemporary',\n",
       " 'codes',\n",
       " 'of',\n",
       " 'football',\n",
       " 'can',\n",
       " 'be',\n",
       " 'traced',\n",
       " 'back',\n",
       " 'to',\n",
       " 'the',\n",
       " 'codification',\n",
       " 'of',\n",
       " 'these',\n",
       " 'games',\n",
       " 'at',\n",
       " 'English',\n",
       " 'public',\n",
       " 'schools',\n",
       " 'during',\n",
       " 'the',\n",
       " '19th',\n",
       " 'century.[5][6]',\n",
       " 'The',\n",
       " 'expansion',\n",
       " 'and',\n",
       " 'cultural',\n",
       " 'influence',\n",
       " 'of',\n",
       " 'the',\n",
       " 'British',\n",
       " 'Empire',\n",
       " 'allowed',\n",
       " 'these',\n",
       " 'rules',\n",
       " 'of',\n",
       " 'football',\n",
       " 'to',\n",
       " 'spread',\n",
       " 'to',\n",
       " 'areas',\n",
       " 'of',\n",
       " 'British',\n",
       " 'influence',\n",
       " 'outside',\n",
       " 'the',\n",
       " 'directly',\n",
       " 'controlled',\n",
       " 'Empire.[7]',\n",
       " 'By',\n",
       " 'the',\n",
       " 'end',\n",
       " 'of',\n",
       " 'the',\n",
       " '19th',\n",
       " 'century,',\n",
       " 'distinct',\n",
       " 'regional',\n",
       " 'codes',\n",
       " 'were',\n",
       " 'already',\n",
       " 'developing:',\n",
       " 'Gaelic',\n",
       " 'football,',\n",
       " 'for',\n",
       " 'example,',\n",
       " 'deliberately',\n",
       " 'incorporated',\n",
       " 'the',\n",
       " 'rules',\n",
       " 'of',\n",
       " 'local',\n",
       " 'traditional',\n",
       " 'football',\n",
       " 'games',\n",
       " 'in',\n",
       " 'order',\n",
       " 'to',\n",
       " 'maintain',\n",
       " 'their',\n",
       " 'heritage.[8]',\n",
       " 'In',\n",
       " '1888,',\n",
       " 'The',\n",
       " 'Football',\n",
       " 'League',\n",
       " 'was',\n",
       " 'founded',\n",
       " 'in',\n",
       " 'England,',\n",
       " 'becoming',\n",
       " 'the',\n",
       " 'first',\n",
       " 'of',\n",
       " 'many',\n",
       " 'professional',\n",
       " 'football',\n",
       " 'associations.',\n",
       " 'During',\n",
       " 'the',\n",
       " '20th',\n",
       " 'century,',\n",
       " 'several',\n",
       " 'of',\n",
       " 'the',\n",
       " 'various',\n",
       " 'kinds',\n",
       " 'of',\n",
       " 'football',\n",
       " 'grew',\n",
       " 'to',\n",
       " 'become',\n",
       " 'some',\n",
       " 'of',\n",
       " 'the',\n",
       " 'most',\n",
       " 'popular',\n",
       " 'team',\n",
       " 'sports',\n",
       " 'in',\n",
       " 'the',\n",
       " 'world.[9]']"
      ]
     },
     "execution_count": 34,
     "metadata": {},
     "output_type": "execute_result"
    }
   ],
   "source": [
    "x"
   ]
  },
  {
   "cell_type": "code",
   "execution_count": 16,
   "id": "1e6c5691",
   "metadata": {},
   "outputs": [],
   "source": [
    "y=set(x)"
   ]
  },
  {
   "cell_type": "code",
   "execution_count": 17,
   "id": "f3f52a88",
   "metadata": {},
   "outputs": [
    {
     "data": {
      "text/plain": [
       "{'(known',\n",
       " '(specifically',\n",
       " '1888,',\n",
       " '19th',\n",
       " '20th',\n",
       " 'America',\n",
       " 'American',\n",
       " 'Australian',\n",
       " 'British',\n",
       " 'By',\n",
       " 'Canadian',\n",
       " 'Contemporary',\n",
       " 'During',\n",
       " 'Empire',\n",
       " 'Empire.[7]',\n",
       " 'England,',\n",
       " 'English',\n",
       " 'Football',\n",
       " 'Gaelic',\n",
       " 'In',\n",
       " 'League',\n",
       " 'North',\n",
       " 'Oceania);',\n",
       " 'Sports',\n",
       " 'The',\n",
       " 'There',\n",
       " 'These',\n",
       " 'Unqualified,',\n",
       " 'a',\n",
       " 'allowed',\n",
       " 'already',\n",
       " 'ancient,',\n",
       " 'and',\n",
       " 'are',\n",
       " 'areas',\n",
       " 'as',\n",
       " 'association',\n",
       " 'associations.',\n",
       " 'at',\n",
       " 'back',\n",
       " 'ball',\n",
       " 'be',\n",
       " 'become',\n",
       " 'becoming',\n",
       " 'called',\n",
       " 'can',\n",
       " 'century,',\n",
       " 'century.[5][6]',\n",
       " 'codes',\n",
       " 'codes.',\n",
       " 'codification',\n",
       " 'common',\n",
       " 'commonly',\n",
       " 'controlled',\n",
       " 'cultural',\n",
       " 'degrees,',\n",
       " 'deliberately',\n",
       " 'developing:',\n",
       " 'different',\n",
       " 'directly',\n",
       " 'distinct',\n",
       " 'during',\n",
       " 'end',\n",
       " 'example,',\n",
       " 'expansion',\n",
       " 'extent',\n",
       " 'family',\n",
       " 'first',\n",
       " 'football',\n",
       " 'football);',\n",
       " 'football,',\n",
       " 'football.[1]',\n",
       " 'football;',\n",
       " 'for',\n",
       " 'form',\n",
       " 'forms',\n",
       " 'founded',\n",
       " 'games',\n",
       " 'goal.',\n",
       " 'grew',\n",
       " 'gridiron',\n",
       " 'heritage.[8]',\n",
       " 'in',\n",
       " 'include',\n",
       " 'incorporated',\n",
       " 'influence',\n",
       " 'involve,',\n",
       " 'is',\n",
       " 'kicking',\n",
       " 'kinds',\n",
       " 'known',\n",
       " 'league;',\n",
       " 'local',\n",
       " 'maintain',\n",
       " 'many',\n",
       " 'means',\n",
       " 'most',\n",
       " 'normally',\n",
       " 'number',\n",
       " 'of',\n",
       " 'or',\n",
       " 'order',\n",
       " 'origins',\n",
       " 'outside',\n",
       " 'parts',\n",
       " 'played',\n",
       " 'popular',\n",
       " 'prehistoric',\n",
       " 'professional',\n",
       " 'public',\n",
       " 'references',\n",
       " 'regional',\n",
       " 'rugby',\n",
       " 'rules',\n",
       " 'schools',\n",
       " 'score',\n",
       " 'several',\n",
       " 'share',\n",
       " 'soccer',\n",
       " 'some',\n",
       " 'sports',\n",
       " 'spread',\n",
       " 'team',\n",
       " 'that',\n",
       " 'the',\n",
       " 'their',\n",
       " 'these',\n",
       " 'to',\n",
       " 'traced',\n",
       " 'traditional',\n",
       " 'traditional,',\n",
       " 'union',\n",
       " 'used.',\n",
       " 'various',\n",
       " 'varying',\n",
       " 'was',\n",
       " 'were',\n",
       " 'where',\n",
       " 'word',\n",
       " 'world.[2][3][4]',\n",
       " 'world.[9]'}"
      ]
     },
     "execution_count": 17,
     "metadata": {},
     "output_type": "execute_result"
    }
   ],
   "source": [
    "y"
   ]
  },
  {
   "cell_type": "code",
   "execution_count": 35,
   "id": "7a87b83a",
   "metadata": {},
   "outputs": [
    {
     "name": "stdout",
     "output_type": "stream",
     "text": [
      "{'America': 'shristi'}\n",
      "{'America': 'shristi', 'expansion': 'shristi'}\n",
      "{'America': 'shristi', 'expansion': 'shristi', 'Unqualified,': 'shristi'}\n",
      "{'America': 'shristi', 'expansion': 'shristi', 'Unqualified,': 'shristi', 'popular': 'shristi'}\n",
      "{'America': 'shristi', 'expansion': 'shristi', 'Unqualified,': 'shristi', 'popular': 'shristi', 'can': 'shristi'}\n",
      "{'America': 'shristi', 'expansion': 'shristi', 'Unqualified,': 'shristi', 'popular': 'shristi', 'can': 'shristi', '1888,': 'shristi'}\n",
      "{'America': 'shristi', 'expansion': 'shristi', 'Unqualified,': 'shristi', 'popular': 'shristi', 'can': 'shristi', '1888,': 'shristi', 'prehistoric': 'shristi'}\n",
      "{'America': 'shristi', 'expansion': 'shristi', 'Unqualified,': 'shristi', 'popular': 'shristi', 'can': 'shristi', '1888,': 'shristi', 'prehistoric': 'shristi', 'of': 'shristi'}\n",
      "{'America': 'shristi', 'expansion': 'shristi', 'Unqualified,': 'shristi', 'popular': 'shristi', 'can': 'shristi', '1888,': 'shristi', 'prehistoric': 'shristi', 'of': 'shristi', 'traditional': 'shristi'}\n",
      "{'America': 'shristi', 'expansion': 'shristi', 'Unqualified,': 'shristi', 'popular': 'shristi', 'can': 'shristi', '1888,': 'shristi', 'prehistoric': 'shristi', 'of': 'shristi', 'traditional': 'shristi', 'grew': 'shristi'}\n",
      "{'America': 'shristi', 'expansion': 'shristi', 'Unqualified,': 'shristi', 'popular': 'shristi', 'can': 'shristi', '1888,': 'shristi', 'prehistoric': 'shristi', 'of': 'shristi', 'traditional': 'shristi', 'grew': 'shristi', 'union': 'shristi'}\n",
      "{'America': 'shristi', 'expansion': 'shristi', 'Unqualified,': 'shristi', 'popular': 'shristi', 'can': 'shristi', '1888,': 'shristi', 'prehistoric': 'shristi', 'of': 'shristi', 'traditional': 'shristi', 'grew': 'shristi', 'union': 'shristi', 'parts': 'shristi'}\n",
      "{'America': 'shristi', 'expansion': 'shristi', 'Unqualified,': 'shristi', 'popular': 'shristi', 'can': 'shristi', '1888,': 'shristi', 'prehistoric': 'shristi', 'of': 'shristi', 'traditional': 'shristi', 'grew': 'shristi', 'union': 'shristi', 'parts': 'shristi', 'kicking': 'shristi'}\n",
      "{'America': 'shristi', 'expansion': 'shristi', 'Unqualified,': 'shristi', 'popular': 'shristi', 'can': 'shristi', '1888,': 'shristi', 'prehistoric': 'shristi', 'of': 'shristi', 'traditional': 'shristi', 'grew': 'shristi', 'union': 'shristi', 'parts': 'shristi', 'kicking': 'shristi', 'number': 'shristi'}\n",
      "{'America': 'shristi', 'expansion': 'shristi', 'Unqualified,': 'shristi', 'popular': 'shristi', 'can': 'shristi', '1888,': 'shristi', 'prehistoric': 'shristi', 'of': 'shristi', 'traditional': 'shristi', 'grew': 'shristi', 'union': 'shristi', 'parts': 'shristi', 'kicking': 'shristi', 'number': 'shristi', 'During': 'shristi'}\n",
      "{'America': 'shristi', 'expansion': 'shristi', 'Unqualified,': 'shristi', 'popular': 'shristi', 'can': 'shristi', '1888,': 'shristi', 'prehistoric': 'shristi', 'of': 'shristi', 'traditional': 'shristi', 'grew': 'shristi', 'union': 'shristi', 'parts': 'shristi', 'kicking': 'shristi', 'number': 'shristi', 'During': 'shristi', 'associations.': 'shristi'}\n",
      "{'America': 'shristi', 'expansion': 'shristi', 'Unqualified,': 'shristi', 'popular': 'shristi', 'can': 'shristi', '1888,': 'shristi', 'prehistoric': 'shristi', 'of': 'shristi', 'traditional': 'shristi', 'grew': 'shristi', 'union': 'shristi', 'parts': 'shristi', 'kicking': 'shristi', 'number': 'shristi', 'During': 'shristi', 'associations.': 'shristi', 'known': 'shristi'}\n",
      "{'America': 'shristi', 'expansion': 'shristi', 'Unqualified,': 'shristi', 'popular': 'shristi', 'can': 'shristi', '1888,': 'shristi', 'prehistoric': 'shristi', 'of': 'shristi', 'traditional': 'shristi', 'grew': 'shristi', 'union': 'shristi', 'parts': 'shristi', 'kicking': 'shristi', 'number': 'shristi', 'During': 'shristi', 'associations.': 'shristi', 'known': 'shristi', 'sports': 'shristi'}\n",
      "{'America': 'shristi', 'expansion': 'shristi', 'Unqualified,': 'shristi', 'popular': 'shristi', 'can': 'shristi', '1888,': 'shristi', 'prehistoric': 'shristi', 'of': 'shristi', 'traditional': 'shristi', 'grew': 'shristi', 'union': 'shristi', 'parts': 'shristi', 'kicking': 'shristi', 'number': 'shristi', 'During': 'shristi', 'associations.': 'shristi', 'known': 'shristi', 'sports': 'shristi', 'League': 'shristi'}\n",
      "{'America': 'shristi', 'expansion': 'shristi', 'Unqualified,': 'shristi', 'popular': 'shristi', 'can': 'shristi', '1888,': 'shristi', 'prehistoric': 'shristi', 'of': 'shristi', 'traditional': 'shristi', 'grew': 'shristi', 'union': 'shristi', 'parts': 'shristi', 'kicking': 'shristi', 'number': 'shristi', 'During': 'shristi', 'associations.': 'shristi', 'known': 'shristi', 'sports': 'shristi', 'League': 'shristi', 'forms': 'shristi'}\n",
      "{'America': 'shristi', 'expansion': 'shristi', 'Unqualified,': 'shristi', 'popular': 'shristi', 'can': 'shristi', '1888,': 'shristi', 'prehistoric': 'shristi', 'of': 'shristi', 'traditional': 'shristi', 'grew': 'shristi', 'union': 'shristi', 'parts': 'shristi', 'kicking': 'shristi', 'number': 'shristi', 'During': 'shristi', 'associations.': 'shristi', 'known': 'shristi', 'sports': 'shristi', 'League': 'shristi', 'forms': 'shristi', 'schools': 'shristi'}\n",
      "{'America': 'shristi', 'expansion': 'shristi', 'Unqualified,': 'shristi', 'popular': 'shristi', 'can': 'shristi', '1888,': 'shristi', 'prehistoric': 'shristi', 'of': 'shristi', 'traditional': 'shristi', 'grew': 'shristi', 'union': 'shristi', 'parts': 'shristi', 'kicking': 'shristi', 'number': 'shristi', 'During': 'shristi', 'associations.': 'shristi', 'known': 'shristi', 'sports': 'shristi', 'League': 'shristi', 'forms': 'shristi', 'schools': 'shristi', 'form': 'shristi'}\n",
      "{'America': 'shristi', 'expansion': 'shristi', 'Unqualified,': 'shristi', 'popular': 'shristi', 'can': 'shristi', '1888,': 'shristi', 'prehistoric': 'shristi', 'of': 'shristi', 'traditional': 'shristi', 'grew': 'shristi', 'union': 'shristi', 'parts': 'shristi', 'kicking': 'shristi', 'number': 'shristi', 'During': 'shristi', 'associations.': 'shristi', 'known': 'shristi', 'sports': 'shristi', 'League': 'shristi', 'forms': 'shristi', 'schools': 'shristi', 'form': 'shristi', 'football);': 'shristi'}\n",
      "{'America': 'shristi', 'expansion': 'shristi', 'Unqualified,': 'shristi', 'popular': 'shristi', 'can': 'shristi', '1888,': 'shristi', 'prehistoric': 'shristi', 'of': 'shristi', 'traditional': 'shristi', 'grew': 'shristi', 'union': 'shristi', 'parts': 'shristi', 'kicking': 'shristi', 'number': 'shristi', 'During': 'shristi', 'associations.': 'shristi', 'known': 'shristi', 'sports': 'shristi', 'League': 'shristi', 'forms': 'shristi', 'schools': 'shristi', 'form': 'shristi', 'football);': 'shristi', 'kinds': 'shristi'}\n",
      "{'America': 'shristi', 'expansion': 'shristi', 'Unqualified,': 'shristi', 'popular': 'shristi', 'can': 'shristi', '1888,': 'shristi', 'prehistoric': 'shristi', 'of': 'shristi', 'traditional': 'shristi', 'grew': 'shristi', 'union': 'shristi', 'parts': 'shristi', 'kicking': 'shristi', 'number': 'shristi', 'During': 'shristi', 'associations.': 'shristi', 'known': 'shristi', 'sports': 'shristi', 'League': 'shristi', 'forms': 'shristi', 'schools': 'shristi', 'form': 'shristi', 'football);': 'shristi', 'kinds': 'shristi', 'There': 'shristi'}\n",
      "{'America': 'shristi', 'expansion': 'shristi', 'Unqualified,': 'shristi', 'popular': 'shristi', 'can': 'shristi', '1888,': 'shristi', 'prehistoric': 'shristi', 'of': 'shristi', 'traditional': 'shristi', 'grew': 'shristi', 'union': 'shristi', 'parts': 'shristi', 'kicking': 'shristi', 'number': 'shristi', 'During': 'shristi', 'associations.': 'shristi', 'known': 'shristi', 'sports': 'shristi', 'League': 'shristi', 'forms': 'shristi', 'schools': 'shristi', 'form': 'shristi', 'football);': 'shristi', 'kinds': 'shristi', 'There': 'shristi', 'that': 'shristi'}\n",
      "{'America': 'shristi', 'expansion': 'shristi', 'Unqualified,': 'shristi', 'popular': 'shristi', 'can': 'shristi', '1888,': 'shristi', 'prehistoric': 'shristi', 'of': 'shristi', 'traditional': 'shristi', 'grew': 'shristi', 'union': 'shristi', 'parts': 'shristi', 'kicking': 'shristi', 'number': 'shristi', 'During': 'shristi', 'associations.': 'shristi', 'known': 'shristi', 'sports': 'shristi', 'League': 'shristi', 'forms': 'shristi', 'schools': 'shristi', 'form': 'shristi', 'football);': 'shristi', 'kinds': 'shristi', 'There': 'shristi', 'that': 'shristi', 'influence': 'shristi'}\n",
      "{'America': 'shristi', 'expansion': 'shristi', 'Unqualified,': 'shristi', 'popular': 'shristi', 'can': 'shristi', '1888,': 'shristi', 'prehistoric': 'shristi', 'of': 'shristi', 'traditional': 'shristi', 'grew': 'shristi', 'union': 'shristi', 'parts': 'shristi', 'kicking': 'shristi', 'number': 'shristi', 'During': 'shristi', 'associations.': 'shristi', 'known': 'shristi', 'sports': 'shristi', 'League': 'shristi', 'forms': 'shristi', 'schools': 'shristi', 'form': 'shristi', 'football);': 'shristi', 'kinds': 'shristi', 'There': 'shristi', 'that': 'shristi', 'influence': 'shristi', 'controlled': 'shristi'}\n",
      "{'America': 'shristi', 'expansion': 'shristi', 'Unqualified,': 'shristi', 'popular': 'shristi', 'can': 'shristi', '1888,': 'shristi', 'prehistoric': 'shristi', 'of': 'shristi', 'traditional': 'shristi', 'grew': 'shristi', 'union': 'shristi', 'parts': 'shristi', 'kicking': 'shristi', 'number': 'shristi', 'During': 'shristi', 'associations.': 'shristi', 'known': 'shristi', 'sports': 'shristi', 'League': 'shristi', 'forms': 'shristi', 'schools': 'shristi', 'form': 'shristi', 'football);': 'shristi', 'kinds': 'shristi', 'There': 'shristi', 'that': 'shristi', 'influence': 'shristi', 'controlled': 'shristi', 'By': 'shristi'}\n",
      "{'America': 'shristi', 'expansion': 'shristi', 'Unqualified,': 'shristi', 'popular': 'shristi', 'can': 'shristi', '1888,': 'shristi', 'prehistoric': 'shristi', 'of': 'shristi', 'traditional': 'shristi', 'grew': 'shristi', 'union': 'shristi', 'parts': 'shristi', 'kicking': 'shristi', 'number': 'shristi', 'During': 'shristi', 'associations.': 'shristi', 'known': 'shristi', 'sports': 'shristi', 'League': 'shristi', 'forms': 'shristi', 'schools': 'shristi', 'form': 'shristi', 'football);': 'shristi', 'kinds': 'shristi', 'There': 'shristi', 'that': 'shristi', 'influence': 'shristi', 'controlled': 'shristi', 'By': 'shristi', 'rules': 'shristi'}\n",
      "{'America': 'shristi', 'expansion': 'shristi', 'Unqualified,': 'shristi', 'popular': 'shristi', 'can': 'shristi', '1888,': 'shristi', 'prehistoric': 'shristi', 'of': 'shristi', 'traditional': 'shristi', 'grew': 'shristi', 'union': 'shristi', 'parts': 'shristi', 'kicking': 'shristi', 'number': 'shristi', 'During': 'shristi', 'associations.': 'shristi', 'known': 'shristi', 'sports': 'shristi', 'League': 'shristi', 'forms': 'shristi', 'schools': 'shristi', 'form': 'shristi', 'football);': 'shristi', 'kinds': 'shristi', 'There': 'shristi', 'that': 'shristi', 'influence': 'shristi', 'controlled': 'shristi', 'By': 'shristi', 'rules': 'shristi', 'deliberately': 'shristi'}\n",
      "{'America': 'shristi', 'expansion': 'shristi', 'Unqualified,': 'shristi', 'popular': 'shristi', 'can': 'shristi', '1888,': 'shristi', 'prehistoric': 'shristi', 'of': 'shristi', 'traditional': 'shristi', 'grew': 'shristi', 'union': 'shristi', 'parts': 'shristi', 'kicking': 'shristi', 'number': 'shristi', 'During': 'shristi', 'associations.': 'shristi', 'known': 'shristi', 'sports': 'shristi', 'League': 'shristi', 'forms': 'shristi', 'schools': 'shristi', 'form': 'shristi', 'football);': 'shristi', 'kinds': 'shristi', 'There': 'shristi', 'that': 'shristi', 'influence': 'shristi', 'controlled': 'shristi', 'By': 'shristi', 'rules': 'shristi', 'deliberately': 'shristi', 'example,': 'shristi'}\n",
      "{'America': 'shristi', 'expansion': 'shristi', 'Unqualified,': 'shristi', 'popular': 'shristi', 'can': 'shristi', '1888,': 'shristi', 'prehistoric': 'shristi', 'of': 'shristi', 'traditional': 'shristi', 'grew': 'shristi', 'union': 'shristi', 'parts': 'shristi', 'kicking': 'shristi', 'number': 'shristi', 'During': 'shristi', 'associations.': 'shristi', 'known': 'shristi', 'sports': 'shristi', 'League': 'shristi', 'forms': 'shristi', 'schools': 'shristi', 'form': 'shristi', 'football);': 'shristi', 'kinds': 'shristi', 'There': 'shristi', 'that': 'shristi', 'influence': 'shristi', 'controlled': 'shristi', 'By': 'shristi', 'rules': 'shristi', 'deliberately': 'shristi', 'example,': 'shristi', 'codification': 'shristi'}\n",
      "{'America': 'shristi', 'expansion': 'shristi', 'Unqualified,': 'shristi', 'popular': 'shristi', 'can': 'shristi', '1888,': 'shristi', 'prehistoric': 'shristi', 'of': 'shristi', 'traditional': 'shristi', 'grew': 'shristi', 'union': 'shristi', 'parts': 'shristi', 'kicking': 'shristi', 'number': 'shristi', 'During': 'shristi', 'associations.': 'shristi', 'known': 'shristi', 'sports': 'shristi', 'League': 'shristi', 'forms': 'shristi', 'schools': 'shristi', 'form': 'shristi', 'football);': 'shristi', 'kinds': 'shristi', 'There': 'shristi', 'that': 'shristi', 'influence': 'shristi', 'controlled': 'shristi', 'By': 'shristi', 'rules': 'shristi', 'deliberately': 'shristi', 'example,': 'shristi', 'codification': 'shristi', 'their': 'shristi'}\n",
      "{'America': 'shristi', 'expansion': 'shristi', 'Unqualified,': 'shristi', 'popular': 'shristi', 'can': 'shristi', '1888,': 'shristi', 'prehistoric': 'shristi', 'of': 'shristi', 'traditional': 'shristi', 'grew': 'shristi', 'union': 'shristi', 'parts': 'shristi', 'kicking': 'shristi', 'number': 'shristi', 'During': 'shristi', 'associations.': 'shristi', 'known': 'shristi', 'sports': 'shristi', 'League': 'shristi', 'forms': 'shristi', 'schools': 'shristi', 'form': 'shristi', 'football);': 'shristi', 'kinds': 'shristi', 'There': 'shristi', 'that': 'shristi', 'influence': 'shristi', 'controlled': 'shristi', 'By': 'shristi', 'rules': 'shristi', 'deliberately': 'shristi', 'example,': 'shristi', 'codification': 'shristi', 'their': 'shristi', 'professional': 'shristi'}\n",
      "{'America': 'shristi', 'expansion': 'shristi', 'Unqualified,': 'shristi', 'popular': 'shristi', 'can': 'shristi', '1888,': 'shristi', 'prehistoric': 'shristi', 'of': 'shristi', 'traditional': 'shristi', 'grew': 'shristi', 'union': 'shristi', 'parts': 'shristi', 'kicking': 'shristi', 'number': 'shristi', 'During': 'shristi', 'associations.': 'shristi', 'known': 'shristi', 'sports': 'shristi', 'League': 'shristi', 'forms': 'shristi', 'schools': 'shristi', 'form': 'shristi', 'football);': 'shristi', 'kinds': 'shristi', 'There': 'shristi', 'that': 'shristi', 'influence': 'shristi', 'controlled': 'shristi', 'By': 'shristi', 'rules': 'shristi', 'deliberately': 'shristi', 'example,': 'shristi', 'codification': 'shristi', 'their': 'shristi', 'professional': 'shristi', 'regional': 'shristi'}\n",
      "{'America': 'shristi', 'expansion': 'shristi', 'Unqualified,': 'shristi', 'popular': 'shristi', 'can': 'shristi', '1888,': 'shristi', 'prehistoric': 'shristi', 'of': 'shristi', 'traditional': 'shristi', 'grew': 'shristi', 'union': 'shristi', 'parts': 'shristi', 'kicking': 'shristi', 'number': 'shristi', 'During': 'shristi', 'associations.': 'shristi', 'known': 'shristi', 'sports': 'shristi', 'League': 'shristi', 'forms': 'shristi', 'schools': 'shristi', 'form': 'shristi', 'football);': 'shristi', 'kinds': 'shristi', 'There': 'shristi', 'that': 'shristi', 'influence': 'shristi', 'controlled': 'shristi', 'By': 'shristi', 'rules': 'shristi', 'deliberately': 'shristi', 'example,': 'shristi', 'codification': 'shristi', 'their': 'shristi', 'professional': 'shristi', 'regional': 'shristi', 'spread': 'shristi'}\n",
      "{'America': 'shristi', 'expansion': 'shristi', 'Unqualified,': 'shristi', 'popular': 'shristi', 'can': 'shristi', '1888,': 'shristi', 'prehistoric': 'shristi', 'of': 'shristi', 'traditional': 'shristi', 'grew': 'shristi', 'union': 'shristi', 'parts': 'shristi', 'kicking': 'shristi', 'number': 'shristi', 'During': 'shristi', 'associations.': 'shristi', 'known': 'shristi', 'sports': 'shristi', 'League': 'shristi', 'forms': 'shristi', 'schools': 'shristi', 'form': 'shristi', 'football);': 'shristi', 'kinds': 'shristi', 'There': 'shristi', 'that': 'shristi', 'influence': 'shristi', 'controlled': 'shristi', 'By': 'shristi', 'rules': 'shristi', 'deliberately': 'shristi', 'example,': 'shristi', 'codification': 'shristi', 'their': 'shristi', 'professional': 'shristi', 'regional': 'shristi', 'spread': 'shristi', 'in': 'shristi'}\n",
      "{'America': 'shristi', 'expansion': 'shristi', 'Unqualified,': 'shristi', 'popular': 'shristi', 'can': 'shristi', '1888,': 'shristi', 'prehistoric': 'shristi', 'of': 'shristi', 'traditional': 'shristi', 'grew': 'shristi', 'union': 'shristi', 'parts': 'shristi', 'kicking': 'shristi', 'number': 'shristi', 'During': 'shristi', 'associations.': 'shristi', 'known': 'shristi', 'sports': 'shristi', 'League': 'shristi', 'forms': 'shristi', 'schools': 'shristi', 'form': 'shristi', 'football);': 'shristi', 'kinds': 'shristi', 'There': 'shristi', 'that': 'shristi', 'influence': 'shristi', 'controlled': 'shristi', 'By': 'shristi', 'rules': 'shristi', 'deliberately': 'shristi', 'example,': 'shristi', 'codification': 'shristi', 'their': 'shristi', 'professional': 'shristi', 'regional': 'shristi', 'spread': 'shristi', 'in': 'shristi', 'references': 'shristi'}\n",
      "{'America': 'shristi', 'expansion': 'shristi', 'Unqualified,': 'shristi', 'popular': 'shristi', 'can': 'shristi', '1888,': 'shristi', 'prehistoric': 'shristi', 'of': 'shristi', 'traditional': 'shristi', 'grew': 'shristi', 'union': 'shristi', 'parts': 'shristi', 'kicking': 'shristi', 'number': 'shristi', 'During': 'shristi', 'associations.': 'shristi', 'known': 'shristi', 'sports': 'shristi', 'League': 'shristi', 'forms': 'shristi', 'schools': 'shristi', 'form': 'shristi', 'football);': 'shristi', 'kinds': 'shristi', 'There': 'shristi', 'that': 'shristi', 'influence': 'shristi', 'controlled': 'shristi', 'By': 'shristi', 'rules': 'shristi', 'deliberately': 'shristi', 'example,': 'shristi', 'codification': 'shristi', 'their': 'shristi', 'professional': 'shristi', 'regional': 'shristi', 'spread': 'shristi', 'in': 'shristi', 'references': 'shristi', 'played': 'shristi'}\n",
      "{'America': 'shristi', 'expansion': 'shristi', 'Unqualified,': 'shristi', 'popular': 'shristi', 'can': 'shristi', '1888,': 'shristi', 'prehistoric': 'shristi', 'of': 'shristi', 'traditional': 'shristi', 'grew': 'shristi', 'union': 'shristi', 'parts': 'shristi', 'kicking': 'shristi', 'number': 'shristi', 'During': 'shristi', 'associations.': 'shristi', 'known': 'shristi', 'sports': 'shristi', 'League': 'shristi', 'forms': 'shristi', 'schools': 'shristi', 'form': 'shristi', 'football);': 'shristi', 'kinds': 'shristi', 'There': 'shristi', 'that': 'shristi', 'influence': 'shristi', 'controlled': 'shristi', 'By': 'shristi', 'rules': 'shristi', 'deliberately': 'shristi', 'example,': 'shristi', 'codification': 'shristi', 'their': 'shristi', 'professional': 'shristi', 'regional': 'shristi', 'spread': 'shristi', 'in': 'shristi', 'references': 'shristi', 'played': 'shristi', 'some': 'shristi'}\n",
      "{'America': 'shristi', 'expansion': 'shristi', 'Unqualified,': 'shristi', 'popular': 'shristi', 'can': 'shristi', '1888,': 'shristi', 'prehistoric': 'shristi', 'of': 'shristi', 'traditional': 'shristi', 'grew': 'shristi', 'union': 'shristi', 'parts': 'shristi', 'kicking': 'shristi', 'number': 'shristi', 'During': 'shristi', 'associations.': 'shristi', 'known': 'shristi', 'sports': 'shristi', 'League': 'shristi', 'forms': 'shristi', 'schools': 'shristi', 'form': 'shristi', 'football);': 'shristi', 'kinds': 'shristi', 'There': 'shristi', 'that': 'shristi', 'influence': 'shristi', 'controlled': 'shristi', 'By': 'shristi', 'rules': 'shristi', 'deliberately': 'shristi', 'example,': 'shristi', 'codification': 'shristi', 'their': 'shristi', 'professional': 'shristi', 'regional': 'shristi', 'spread': 'shristi', 'in': 'shristi', 'references': 'shristi', 'played': 'shristi', 'some': 'shristi', 'include': 'shristi'}\n",
      "{'America': 'shristi', 'expansion': 'shristi', 'Unqualified,': 'shristi', 'popular': 'shristi', 'can': 'shristi', '1888,': 'shristi', 'prehistoric': 'shristi', 'of': 'shristi', 'traditional': 'shristi', 'grew': 'shristi', 'union': 'shristi', 'parts': 'shristi', 'kicking': 'shristi', 'number': 'shristi', 'During': 'shristi', 'associations.': 'shristi', 'known': 'shristi', 'sports': 'shristi', 'League': 'shristi', 'forms': 'shristi', 'schools': 'shristi', 'form': 'shristi', 'football);': 'shristi', 'kinds': 'shristi', 'There': 'shristi', 'that': 'shristi', 'influence': 'shristi', 'controlled': 'shristi', 'By': 'shristi', 'rules': 'shristi', 'deliberately': 'shristi', 'example,': 'shristi', 'codification': 'shristi', 'their': 'shristi', 'professional': 'shristi', 'regional': 'shristi', 'spread': 'shristi', 'in': 'shristi', 'references': 'shristi', 'played': 'shristi', 'some': 'shristi', 'include': 'shristi', 'ancient,': 'shristi'}\n",
      "{'America': 'shristi', 'expansion': 'shristi', 'Unqualified,': 'shristi', 'popular': 'shristi', 'can': 'shristi', '1888,': 'shristi', 'prehistoric': 'shristi', 'of': 'shristi', 'traditional': 'shristi', 'grew': 'shristi', 'union': 'shristi', 'parts': 'shristi', 'kicking': 'shristi', 'number': 'shristi', 'During': 'shristi', 'associations.': 'shristi', 'known': 'shristi', 'sports': 'shristi', 'League': 'shristi', 'forms': 'shristi', 'schools': 'shristi', 'form': 'shristi', 'football);': 'shristi', 'kinds': 'shristi', 'There': 'shristi', 'that': 'shristi', 'influence': 'shristi', 'controlled': 'shristi', 'By': 'shristi', 'rules': 'shristi', 'deliberately': 'shristi', 'example,': 'shristi', 'codification': 'shristi', 'their': 'shristi', 'professional': 'shristi', 'regional': 'shristi', 'spread': 'shristi', 'in': 'shristi', 'references': 'shristi', 'played': 'shristi', 'some': 'shristi', 'include': 'shristi', 'ancient,': 'shristi', 'means': 'shristi'}\n",
      "{'America': 'shristi', 'expansion': 'shristi', 'Unqualified,': 'shristi', 'popular': 'shristi', 'can': 'shristi', '1888,': 'shristi', 'prehistoric': 'shristi', 'of': 'shristi', 'traditional': 'shristi', 'grew': 'shristi', 'union': 'shristi', 'parts': 'shristi', 'kicking': 'shristi', 'number': 'shristi', 'During': 'shristi', 'associations.': 'shristi', 'known': 'shristi', 'sports': 'shristi', 'League': 'shristi', 'forms': 'shristi', 'schools': 'shristi', 'form': 'shristi', 'football);': 'shristi', 'kinds': 'shristi', 'There': 'shristi', 'that': 'shristi', 'influence': 'shristi', 'controlled': 'shristi', 'By': 'shristi', 'rules': 'shristi', 'deliberately': 'shristi', 'example,': 'shristi', 'codification': 'shristi', 'their': 'shristi', 'professional': 'shristi', 'regional': 'shristi', 'spread': 'shristi', 'in': 'shristi', 'references': 'shristi', 'played': 'shristi', 'some': 'shristi', 'include': 'shristi', 'ancient,': 'shristi', 'means': 'shristi', 'football,': 'shristi'}\n",
      "{'America': 'shristi', 'expansion': 'shristi', 'Unqualified,': 'shristi', 'popular': 'shristi', 'can': 'shristi', '1888,': 'shristi', 'prehistoric': 'shristi', 'of': 'shristi', 'traditional': 'shristi', 'grew': 'shristi', 'union': 'shristi', 'parts': 'shristi', 'kicking': 'shristi', 'number': 'shristi', 'During': 'shristi', 'associations.': 'shristi', 'known': 'shristi', 'sports': 'shristi', 'League': 'shristi', 'forms': 'shristi', 'schools': 'shristi', 'form': 'shristi', 'football);': 'shristi', 'kinds': 'shristi', 'There': 'shristi', 'that': 'shristi', 'influence': 'shristi', 'controlled': 'shristi', 'By': 'shristi', 'rules': 'shristi', 'deliberately': 'shristi', 'example,': 'shristi', 'codification': 'shristi', 'their': 'shristi', 'professional': 'shristi', 'regional': 'shristi', 'spread': 'shristi', 'in': 'shristi', 'references': 'shristi', 'played': 'shristi', 'some': 'shristi', 'include': 'shristi', 'ancient,': 'shristi', 'means': 'shristi', 'football,': 'shristi', 'at': 'shristi'}\n",
      "{'America': 'shristi', 'expansion': 'shristi', 'Unqualified,': 'shristi', 'popular': 'shristi', 'can': 'shristi', '1888,': 'shristi', 'prehistoric': 'shristi', 'of': 'shristi', 'traditional': 'shristi', 'grew': 'shristi', 'union': 'shristi', 'parts': 'shristi', 'kicking': 'shristi', 'number': 'shristi', 'During': 'shristi', 'associations.': 'shristi', 'known': 'shristi', 'sports': 'shristi', 'League': 'shristi', 'forms': 'shristi', 'schools': 'shristi', 'form': 'shristi', 'football);': 'shristi', 'kinds': 'shristi', 'There': 'shristi', 'that': 'shristi', 'influence': 'shristi', 'controlled': 'shristi', 'By': 'shristi', 'rules': 'shristi', 'deliberately': 'shristi', 'example,': 'shristi', 'codification': 'shristi', 'their': 'shristi', 'professional': 'shristi', 'regional': 'shristi', 'spread': 'shristi', 'in': 'shristi', 'references': 'shristi', 'played': 'shristi', 'some': 'shristi', 'include': 'shristi', 'ancient,': 'shristi', 'means': 'shristi', 'football,': 'shristi', 'at': 'shristi', 'Sports': 'shristi'}\n",
      "{'America': 'shristi', 'expansion': 'shristi', 'Unqualified,': 'shristi', 'popular': 'shristi', 'can': 'shristi', '1888,': 'shristi', 'prehistoric': 'shristi', 'of': 'shristi', 'traditional': 'shristi', 'grew': 'shristi', 'union': 'shristi', 'parts': 'shristi', 'kicking': 'shristi', 'number': 'shristi', 'During': 'shristi', 'associations.': 'shristi', 'known': 'shristi', 'sports': 'shristi', 'League': 'shristi', 'forms': 'shristi', 'schools': 'shristi', 'form': 'shristi', 'football);': 'shristi', 'kinds': 'shristi', 'There': 'shristi', 'that': 'shristi', 'influence': 'shristi', 'controlled': 'shristi', 'By': 'shristi', 'rules': 'shristi', 'deliberately': 'shristi', 'example,': 'shristi', 'codification': 'shristi', 'their': 'shristi', 'professional': 'shristi', 'regional': 'shristi', 'spread': 'shristi', 'in': 'shristi', 'references': 'shristi', 'played': 'shristi', 'some': 'shristi', 'include': 'shristi', 'ancient,': 'shristi', 'means': 'shristi', 'football,': 'shristi', 'at': 'shristi', 'Sports': 'shristi', 'back': 'shristi'}\n",
      "{'America': 'shristi', 'expansion': 'shristi', 'Unqualified,': 'shristi', 'popular': 'shristi', 'can': 'shristi', '1888,': 'shristi', 'prehistoric': 'shristi', 'of': 'shristi', 'traditional': 'shristi', 'grew': 'shristi', 'union': 'shristi', 'parts': 'shristi', 'kicking': 'shristi', 'number': 'shristi', 'During': 'shristi', 'associations.': 'shristi', 'known': 'shristi', 'sports': 'shristi', 'League': 'shristi', 'forms': 'shristi', 'schools': 'shristi', 'form': 'shristi', 'football);': 'shristi', 'kinds': 'shristi', 'There': 'shristi', 'that': 'shristi', 'influence': 'shristi', 'controlled': 'shristi', 'By': 'shristi', 'rules': 'shristi', 'deliberately': 'shristi', 'example,': 'shristi', 'codification': 'shristi', 'their': 'shristi', 'professional': 'shristi', 'regional': 'shristi', 'spread': 'shristi', 'in': 'shristi', 'references': 'shristi', 'played': 'shristi', 'some': 'shristi', 'include': 'shristi', 'ancient,': 'shristi', 'means': 'shristi', 'football,': 'shristi', 'at': 'shristi', 'Sports': 'shristi', 'back': 'shristi', 'Contemporary': 'shristi'}\n",
      "{'America': 'shristi', 'expansion': 'shristi', 'Unqualified,': 'shristi', 'popular': 'shristi', 'can': 'shristi', '1888,': 'shristi', 'prehistoric': 'shristi', 'of': 'shristi', 'traditional': 'shristi', 'grew': 'shristi', 'union': 'shristi', 'parts': 'shristi', 'kicking': 'shristi', 'number': 'shristi', 'During': 'shristi', 'associations.': 'shristi', 'known': 'shristi', 'sports': 'shristi', 'League': 'shristi', 'forms': 'shristi', 'schools': 'shristi', 'form': 'shristi', 'football);': 'shristi', 'kinds': 'shristi', 'There': 'shristi', 'that': 'shristi', 'influence': 'shristi', 'controlled': 'shristi', 'By': 'shristi', 'rules': 'shristi', 'deliberately': 'shristi', 'example,': 'shristi', 'codification': 'shristi', 'their': 'shristi', 'professional': 'shristi', 'regional': 'shristi', 'spread': 'shristi', 'in': 'shristi', 'references': 'shristi', 'played': 'shristi', 'some': 'shristi', 'include': 'shristi', 'ancient,': 'shristi', 'means': 'shristi', 'football,': 'shristi', 'at': 'shristi', 'Sports': 'shristi', 'back': 'shristi', 'Contemporary': 'shristi', 'association': 'shristi'}\n",
      "{'America': 'shristi', 'expansion': 'shristi', 'Unqualified,': 'shristi', 'popular': 'shristi', 'can': 'shristi', '1888,': 'shristi', 'prehistoric': 'shristi', 'of': 'shristi', 'traditional': 'shristi', 'grew': 'shristi', 'union': 'shristi', 'parts': 'shristi', 'kicking': 'shristi', 'number': 'shristi', 'During': 'shristi', 'associations.': 'shristi', 'known': 'shristi', 'sports': 'shristi', 'League': 'shristi', 'forms': 'shristi', 'schools': 'shristi', 'form': 'shristi', 'football);': 'shristi', 'kinds': 'shristi', 'There': 'shristi', 'that': 'shristi', 'influence': 'shristi', 'controlled': 'shristi', 'By': 'shristi', 'rules': 'shristi', 'deliberately': 'shristi', 'example,': 'shristi', 'codification': 'shristi', 'their': 'shristi', 'professional': 'shristi', 'regional': 'shristi', 'spread': 'shristi', 'in': 'shristi', 'references': 'shristi', 'played': 'shristi', 'some': 'shristi', 'include': 'shristi', 'ancient,': 'shristi', 'means': 'shristi', 'football,': 'shristi', 'at': 'shristi', 'Sports': 'shristi', 'back': 'shristi', 'Contemporary': 'shristi', 'association': 'shristi', 'end': 'shristi'}\n",
      "{'America': 'shristi', 'expansion': 'shristi', 'Unqualified,': 'shristi', 'popular': 'shristi', 'can': 'shristi', '1888,': 'shristi', 'prehistoric': 'shristi', 'of': 'shristi', 'traditional': 'shristi', 'grew': 'shristi', 'union': 'shristi', 'parts': 'shristi', 'kicking': 'shristi', 'number': 'shristi', 'During': 'shristi', 'associations.': 'shristi', 'known': 'shristi', 'sports': 'shristi', 'League': 'shristi', 'forms': 'shristi', 'schools': 'shristi', 'form': 'shristi', 'football);': 'shristi', 'kinds': 'shristi', 'There': 'shristi', 'that': 'shristi', 'influence': 'shristi', 'controlled': 'shristi', 'By': 'shristi', 'rules': 'shristi', 'deliberately': 'shristi', 'example,': 'shristi', 'codification': 'shristi', 'their': 'shristi', 'professional': 'shristi', 'regional': 'shristi', 'spread': 'shristi', 'in': 'shristi', 'references': 'shristi', 'played': 'shristi', 'some': 'shristi', 'include': 'shristi', 'ancient,': 'shristi', 'means': 'shristi', 'football,': 'shristi', 'at': 'shristi', 'Sports': 'shristi', 'back': 'shristi', 'Contemporary': 'shristi', 'association': 'shristi', 'end': 'shristi', 'gridiron': 'shristi'}\n",
      "{'America': 'shristi', 'expansion': 'shristi', 'Unqualified,': 'shristi', 'popular': 'shristi', 'can': 'shristi', '1888,': 'shristi', 'prehistoric': 'shristi', 'of': 'shristi', 'traditional': 'shristi', 'grew': 'shristi', 'union': 'shristi', 'parts': 'shristi', 'kicking': 'shristi', 'number': 'shristi', 'During': 'shristi', 'associations.': 'shristi', 'known': 'shristi', 'sports': 'shristi', 'League': 'shristi', 'forms': 'shristi', 'schools': 'shristi', 'form': 'shristi', 'football);': 'shristi', 'kinds': 'shristi', 'There': 'shristi', 'that': 'shristi', 'influence': 'shristi', 'controlled': 'shristi', 'By': 'shristi', 'rules': 'shristi', 'deliberately': 'shristi', 'example,': 'shristi', 'codification': 'shristi', 'their': 'shristi', 'professional': 'shristi', 'regional': 'shristi', 'spread': 'shristi', 'in': 'shristi', 'references': 'shristi', 'played': 'shristi', 'some': 'shristi', 'include': 'shristi', 'ancient,': 'shristi', 'means': 'shristi', 'football,': 'shristi', 'at': 'shristi', 'Sports': 'shristi', 'back': 'shristi', 'Contemporary': 'shristi', 'association': 'shristi', 'end': 'shristi', 'gridiron': 'shristi', 'traditional,': 'shristi'}\n",
      "{'America': 'shristi', 'expansion': 'shristi', 'Unqualified,': 'shristi', 'popular': 'shristi', 'can': 'shristi', '1888,': 'shristi', 'prehistoric': 'shristi', 'of': 'shristi', 'traditional': 'shristi', 'grew': 'shristi', 'union': 'shristi', 'parts': 'shristi', 'kicking': 'shristi', 'number': 'shristi', 'During': 'shristi', 'associations.': 'shristi', 'known': 'shristi', 'sports': 'shristi', 'League': 'shristi', 'forms': 'shristi', 'schools': 'shristi', 'form': 'shristi', 'football);': 'shristi', 'kinds': 'shristi', 'There': 'shristi', 'that': 'shristi', 'influence': 'shristi', 'controlled': 'shristi', 'By': 'shristi', 'rules': 'shristi', 'deliberately': 'shristi', 'example,': 'shristi', 'codification': 'shristi', 'their': 'shristi', 'professional': 'shristi', 'regional': 'shristi', 'spread': 'shristi', 'in': 'shristi', 'references': 'shristi', 'played': 'shristi', 'some': 'shristi', 'include': 'shristi', 'ancient,': 'shristi', 'means': 'shristi', 'football,': 'shristi', 'at': 'shristi', 'Sports': 'shristi', 'back': 'shristi', 'Contemporary': 'shristi', 'association': 'shristi', 'end': 'shristi', 'gridiron': 'shristi', 'traditional,': 'shristi', 'as': 'shristi'}\n",
      "{'America': 'shristi', 'expansion': 'shristi', 'Unqualified,': 'shristi', 'popular': 'shristi', 'can': 'shristi', '1888,': 'shristi', 'prehistoric': 'shristi', 'of': 'shristi', 'traditional': 'shristi', 'grew': 'shristi', 'union': 'shristi', 'parts': 'shristi', 'kicking': 'shristi', 'number': 'shristi', 'During': 'shristi', 'associations.': 'shristi', 'known': 'shristi', 'sports': 'shristi', 'League': 'shristi', 'forms': 'shristi', 'schools': 'shristi', 'form': 'shristi', 'football);': 'shristi', 'kinds': 'shristi', 'There': 'shristi', 'that': 'shristi', 'influence': 'shristi', 'controlled': 'shristi', 'By': 'shristi', 'rules': 'shristi', 'deliberately': 'shristi', 'example,': 'shristi', 'codification': 'shristi', 'their': 'shristi', 'professional': 'shristi', 'regional': 'shristi', 'spread': 'shristi', 'in': 'shristi', 'references': 'shristi', 'played': 'shristi', 'some': 'shristi', 'include': 'shristi', 'ancient,': 'shristi', 'means': 'shristi', 'football,': 'shristi', 'at': 'shristi', 'Sports': 'shristi', 'back': 'shristi', 'Contemporary': 'shristi', 'association': 'shristi', 'end': 'shristi', 'gridiron': 'shristi', 'traditional,': 'shristi', 'as': 'shristi', 'the': 'shristi'}\n",
      "{'America': 'shristi', 'expansion': 'shristi', 'Unqualified,': 'shristi', 'popular': 'shristi', 'can': 'shristi', '1888,': 'shristi', 'prehistoric': 'shristi', 'of': 'shristi', 'traditional': 'shristi', 'grew': 'shristi', 'union': 'shristi', 'parts': 'shristi', 'kicking': 'shristi', 'number': 'shristi', 'During': 'shristi', 'associations.': 'shristi', 'known': 'shristi', 'sports': 'shristi', 'League': 'shristi', 'forms': 'shristi', 'schools': 'shristi', 'form': 'shristi', 'football);': 'shristi', 'kinds': 'shristi', 'There': 'shristi', 'that': 'shristi', 'influence': 'shristi', 'controlled': 'shristi', 'By': 'shristi', 'rules': 'shristi', 'deliberately': 'shristi', 'example,': 'shristi', 'codification': 'shristi', 'their': 'shristi', 'professional': 'shristi', 'regional': 'shristi', 'spread': 'shristi', 'in': 'shristi', 'references': 'shristi', 'played': 'shristi', 'some': 'shristi', 'include': 'shristi', 'ancient,': 'shristi', 'means': 'shristi', 'football,': 'shristi', 'at': 'shristi', 'Sports': 'shristi', 'back': 'shristi', 'Contemporary': 'shristi', 'association': 'shristi', 'end': 'shristi', 'gridiron': 'shristi', 'traditional,': 'shristi', 'as': 'shristi', 'the': 'shristi', 'football;': 'shristi'}\n",
      "{'America': 'shristi', 'expansion': 'shristi', 'Unqualified,': 'shristi', 'popular': 'shristi', 'can': 'shristi', '1888,': 'shristi', 'prehistoric': 'shristi', 'of': 'shristi', 'traditional': 'shristi', 'grew': 'shristi', 'union': 'shristi', 'parts': 'shristi', 'kicking': 'shristi', 'number': 'shristi', 'During': 'shristi', 'associations.': 'shristi', 'known': 'shristi', 'sports': 'shristi', 'League': 'shristi', 'forms': 'shristi', 'schools': 'shristi', 'form': 'shristi', 'football);': 'shristi', 'kinds': 'shristi', 'There': 'shristi', 'that': 'shristi', 'influence': 'shristi', 'controlled': 'shristi', 'By': 'shristi', 'rules': 'shristi', 'deliberately': 'shristi', 'example,': 'shristi', 'codification': 'shristi', 'their': 'shristi', 'professional': 'shristi', 'regional': 'shristi', 'spread': 'shristi', 'in': 'shristi', 'references': 'shristi', 'played': 'shristi', 'some': 'shristi', 'include': 'shristi', 'ancient,': 'shristi', 'means': 'shristi', 'football,': 'shristi', 'at': 'shristi', 'Sports': 'shristi', 'back': 'shristi', 'Contemporary': 'shristi', 'association': 'shristi', 'end': 'shristi', 'gridiron': 'shristi', 'traditional,': 'shristi', 'as': 'shristi', 'the': 'shristi', 'football;': 'shristi', '(known': 'shristi'}\n",
      "{'America': 'shristi', 'expansion': 'shristi', 'Unqualified,': 'shristi', 'popular': 'shristi', 'can': 'shristi', '1888,': 'shristi', 'prehistoric': 'shristi', 'of': 'shristi', 'traditional': 'shristi', 'grew': 'shristi', 'union': 'shristi', 'parts': 'shristi', 'kicking': 'shristi', 'number': 'shristi', 'During': 'shristi', 'associations.': 'shristi', 'known': 'shristi', 'sports': 'shristi', 'League': 'shristi', 'forms': 'shristi', 'schools': 'shristi', 'form': 'shristi', 'football);': 'shristi', 'kinds': 'shristi', 'There': 'shristi', 'that': 'shristi', 'influence': 'shristi', 'controlled': 'shristi', 'By': 'shristi', 'rules': 'shristi', 'deliberately': 'shristi', 'example,': 'shristi', 'codification': 'shristi', 'their': 'shristi', 'professional': 'shristi', 'regional': 'shristi', 'spread': 'shristi', 'in': 'shristi', 'references': 'shristi', 'played': 'shristi', 'some': 'shristi', 'include': 'shristi', 'ancient,': 'shristi', 'means': 'shristi', 'football,': 'shristi', 'at': 'shristi', 'Sports': 'shristi', 'back': 'shristi', 'Contemporary': 'shristi', 'association': 'shristi', 'end': 'shristi', 'gridiron': 'shristi', 'traditional,': 'shristi', 'as': 'shristi', 'the': 'shristi', 'football;': 'shristi', '(known': 'shristi', 'and': 'shristi'}\n",
      "{'America': 'shristi', 'expansion': 'shristi', 'Unqualified,': 'shristi', 'popular': 'shristi', 'can': 'shristi', '1888,': 'shristi', 'prehistoric': 'shristi', 'of': 'shristi', 'traditional': 'shristi', 'grew': 'shristi', 'union': 'shristi', 'parts': 'shristi', 'kicking': 'shristi', 'number': 'shristi', 'During': 'shristi', 'associations.': 'shristi', 'known': 'shristi', 'sports': 'shristi', 'League': 'shristi', 'forms': 'shristi', 'schools': 'shristi', 'form': 'shristi', 'football);': 'shristi', 'kinds': 'shristi', 'There': 'shristi', 'that': 'shristi', 'influence': 'shristi', 'controlled': 'shristi', 'By': 'shristi', 'rules': 'shristi', 'deliberately': 'shristi', 'example,': 'shristi', 'codification': 'shristi', 'their': 'shristi', 'professional': 'shristi', 'regional': 'shristi', 'spread': 'shristi', 'in': 'shristi', 'references': 'shristi', 'played': 'shristi', 'some': 'shristi', 'include': 'shristi', 'ancient,': 'shristi', 'means': 'shristi', 'football,': 'shristi', 'at': 'shristi', 'Sports': 'shristi', 'back': 'shristi', 'Contemporary': 'shristi', 'association': 'shristi', 'end': 'shristi', 'gridiron': 'shristi', 'traditional,': 'shristi', 'as': 'shristi', 'the': 'shristi', 'football;': 'shristi', '(known': 'shristi', 'and': 'shristi', 'normally': 'shristi'}\n",
      "{'America': 'shristi', 'expansion': 'shristi', 'Unqualified,': 'shristi', 'popular': 'shristi', 'can': 'shristi', '1888,': 'shristi', 'prehistoric': 'shristi', 'of': 'shristi', 'traditional': 'shristi', 'grew': 'shristi', 'union': 'shristi', 'parts': 'shristi', 'kicking': 'shristi', 'number': 'shristi', 'During': 'shristi', 'associations.': 'shristi', 'known': 'shristi', 'sports': 'shristi', 'League': 'shristi', 'forms': 'shristi', 'schools': 'shristi', 'form': 'shristi', 'football);': 'shristi', 'kinds': 'shristi', 'There': 'shristi', 'that': 'shristi', 'influence': 'shristi', 'controlled': 'shristi', 'By': 'shristi', 'rules': 'shristi', 'deliberately': 'shristi', 'example,': 'shristi', 'codification': 'shristi', 'their': 'shristi', 'professional': 'shristi', 'regional': 'shristi', 'spread': 'shristi', 'in': 'shristi', 'references': 'shristi', 'played': 'shristi', 'some': 'shristi', 'include': 'shristi', 'ancient,': 'shristi', 'means': 'shristi', 'football,': 'shristi', 'at': 'shristi', 'Sports': 'shristi', 'back': 'shristi', 'Contemporary': 'shristi', 'association': 'shristi', 'end': 'shristi', 'gridiron': 'shristi', 'traditional,': 'shristi', 'as': 'shristi', 'the': 'shristi', 'football;': 'shristi', '(known': 'shristi', 'and': 'shristi', 'normally': 'shristi', 'public': 'shristi'}\n",
      "{'America': 'shristi', 'expansion': 'shristi', 'Unqualified,': 'shristi', 'popular': 'shristi', 'can': 'shristi', '1888,': 'shristi', 'prehistoric': 'shristi', 'of': 'shristi', 'traditional': 'shristi', 'grew': 'shristi', 'union': 'shristi', 'parts': 'shristi', 'kicking': 'shristi', 'number': 'shristi', 'During': 'shristi', 'associations.': 'shristi', 'known': 'shristi', 'sports': 'shristi', 'League': 'shristi', 'forms': 'shristi', 'schools': 'shristi', 'form': 'shristi', 'football);': 'shristi', 'kinds': 'shristi', 'There': 'shristi', 'that': 'shristi', 'influence': 'shristi', 'controlled': 'shristi', 'By': 'shristi', 'rules': 'shristi', 'deliberately': 'shristi', 'example,': 'shristi', 'codification': 'shristi', 'their': 'shristi', 'professional': 'shristi', 'regional': 'shristi', 'spread': 'shristi', 'in': 'shristi', 'references': 'shristi', 'played': 'shristi', 'some': 'shristi', 'include': 'shristi', 'ancient,': 'shristi', 'means': 'shristi', 'football,': 'shristi', 'at': 'shristi', 'Sports': 'shristi', 'back': 'shristi', 'Contemporary': 'shristi', 'association': 'shristi', 'end': 'shristi', 'gridiron': 'shristi', 'traditional,': 'shristi', 'as': 'shristi', 'the': 'shristi', 'football;': 'shristi', '(known': 'shristi', 'and': 'shristi', 'normally': 'shristi', 'public': 'shristi', 'degrees,': 'shristi'}\n",
      "{'America': 'shristi', 'expansion': 'shristi', 'Unqualified,': 'shristi', 'popular': 'shristi', 'can': 'shristi', '1888,': 'shristi', 'prehistoric': 'shristi', 'of': 'shristi', 'traditional': 'shristi', 'grew': 'shristi', 'union': 'shristi', 'parts': 'shristi', 'kicking': 'shristi', 'number': 'shristi', 'During': 'shristi', 'associations.': 'shristi', 'known': 'shristi', 'sports': 'shristi', 'League': 'shristi', 'forms': 'shristi', 'schools': 'shristi', 'form': 'shristi', 'football);': 'shristi', 'kinds': 'shristi', 'There': 'shristi', 'that': 'shristi', 'influence': 'shristi', 'controlled': 'shristi', 'By': 'shristi', 'rules': 'shristi', 'deliberately': 'shristi', 'example,': 'shristi', 'codification': 'shristi', 'their': 'shristi', 'professional': 'shristi', 'regional': 'shristi', 'spread': 'shristi', 'in': 'shristi', 'references': 'shristi', 'played': 'shristi', 'some': 'shristi', 'include': 'shristi', 'ancient,': 'shristi', 'means': 'shristi', 'football,': 'shristi', 'at': 'shristi', 'Sports': 'shristi', 'back': 'shristi', 'Contemporary': 'shristi', 'association': 'shristi', 'end': 'shristi', 'gridiron': 'shristi', 'traditional,': 'shristi', 'as': 'shristi', 'the': 'shristi', 'football;': 'shristi', '(known': 'shristi', 'and': 'shristi', 'normally': 'shristi', 'public': 'shristi', 'degrees,': 'shristi', 'Australian': 'shristi'}\n",
      "{'America': 'shristi', 'expansion': 'shristi', 'Unqualified,': 'shristi', 'popular': 'shristi', 'can': 'shristi', '1888,': 'shristi', 'prehistoric': 'shristi', 'of': 'shristi', 'traditional': 'shristi', 'grew': 'shristi', 'union': 'shristi', 'parts': 'shristi', 'kicking': 'shristi', 'number': 'shristi', 'During': 'shristi', 'associations.': 'shristi', 'known': 'shristi', 'sports': 'shristi', 'League': 'shristi', 'forms': 'shristi', 'schools': 'shristi', 'form': 'shristi', 'football);': 'shristi', 'kinds': 'shristi', 'There': 'shristi', 'that': 'shristi', 'influence': 'shristi', 'controlled': 'shristi', 'By': 'shristi', 'rules': 'shristi', 'deliberately': 'shristi', 'example,': 'shristi', 'codification': 'shristi', 'their': 'shristi', 'professional': 'shristi', 'regional': 'shristi', 'spread': 'shristi', 'in': 'shristi', 'references': 'shristi', 'played': 'shristi', 'some': 'shristi', 'include': 'shristi', 'ancient,': 'shristi', 'means': 'shristi', 'football,': 'shristi', 'at': 'shristi', 'Sports': 'shristi', 'back': 'shristi', 'Contemporary': 'shristi', 'association': 'shristi', 'end': 'shristi', 'gridiron': 'shristi', 'traditional,': 'shristi', 'as': 'shristi', 'the': 'shristi', 'football;': 'shristi', '(known': 'shristi', 'and': 'shristi', 'normally': 'shristi', 'public': 'shristi', 'degrees,': 'shristi', 'Australian': 'shristi', 'extent': 'shristi'}\n",
      "{'America': 'shristi', 'expansion': 'shristi', 'Unqualified,': 'shristi', 'popular': 'shristi', 'can': 'shristi', '1888,': 'shristi', 'prehistoric': 'shristi', 'of': 'shristi', 'traditional': 'shristi', 'grew': 'shristi', 'union': 'shristi', 'parts': 'shristi', 'kicking': 'shristi', 'number': 'shristi', 'During': 'shristi', 'associations.': 'shristi', 'known': 'shristi', 'sports': 'shristi', 'League': 'shristi', 'forms': 'shristi', 'schools': 'shristi', 'form': 'shristi', 'football);': 'shristi', 'kinds': 'shristi', 'There': 'shristi', 'that': 'shristi', 'influence': 'shristi', 'controlled': 'shristi', 'By': 'shristi', 'rules': 'shristi', 'deliberately': 'shristi', 'example,': 'shristi', 'codification': 'shristi', 'their': 'shristi', 'professional': 'shristi', 'regional': 'shristi', 'spread': 'shristi', 'in': 'shristi', 'references': 'shristi', 'played': 'shristi', 'some': 'shristi', 'include': 'shristi', 'ancient,': 'shristi', 'means': 'shristi', 'football,': 'shristi', 'at': 'shristi', 'Sports': 'shristi', 'back': 'shristi', 'Contemporary': 'shristi', 'association': 'shristi', 'end': 'shristi', 'gridiron': 'shristi', 'traditional,': 'shristi', 'as': 'shristi', 'the': 'shristi', 'football;': 'shristi', '(known': 'shristi', 'and': 'shristi', 'normally': 'shristi', 'public': 'shristi', 'degrees,': 'shristi', 'Australian': 'shristi', 'extent': 'shristi', 'Empire.[7]': 'shristi'}\n",
      "{'America': 'shristi', 'expansion': 'shristi', 'Unqualified,': 'shristi', 'popular': 'shristi', 'can': 'shristi', '1888,': 'shristi', 'prehistoric': 'shristi', 'of': 'shristi', 'traditional': 'shristi', 'grew': 'shristi', 'union': 'shristi', 'parts': 'shristi', 'kicking': 'shristi', 'number': 'shristi', 'During': 'shristi', 'associations.': 'shristi', 'known': 'shristi', 'sports': 'shristi', 'League': 'shristi', 'forms': 'shristi', 'schools': 'shristi', 'form': 'shristi', 'football);': 'shristi', 'kinds': 'shristi', 'There': 'shristi', 'that': 'shristi', 'influence': 'shristi', 'controlled': 'shristi', 'By': 'shristi', 'rules': 'shristi', 'deliberately': 'shristi', 'example,': 'shristi', 'codification': 'shristi', 'their': 'shristi', 'professional': 'shristi', 'regional': 'shristi', 'spread': 'shristi', 'in': 'shristi', 'references': 'shristi', 'played': 'shristi', 'some': 'shristi', 'include': 'shristi', 'ancient,': 'shristi', 'means': 'shristi', 'football,': 'shristi', 'at': 'shristi', 'Sports': 'shristi', 'back': 'shristi', 'Contemporary': 'shristi', 'association': 'shristi', 'end': 'shristi', 'gridiron': 'shristi', 'traditional,': 'shristi', 'as': 'shristi', 'the': 'shristi', 'football;': 'shristi', '(known': 'shristi', 'and': 'shristi', 'normally': 'shristi', 'public': 'shristi', 'degrees,': 'shristi', 'Australian': 'shristi', 'extent': 'shristi', 'Empire.[7]': 'shristi', 'word': 'shristi'}\n",
      "{'America': 'shristi', 'expansion': 'shristi', 'Unqualified,': 'shristi', 'popular': 'shristi', 'can': 'shristi', '1888,': 'shristi', 'prehistoric': 'shristi', 'of': 'shristi', 'traditional': 'shristi', 'grew': 'shristi', 'union': 'shristi', 'parts': 'shristi', 'kicking': 'shristi', 'number': 'shristi', 'During': 'shristi', 'associations.': 'shristi', 'known': 'shristi', 'sports': 'shristi', 'League': 'shristi', 'forms': 'shristi', 'schools': 'shristi', 'form': 'shristi', 'football);': 'shristi', 'kinds': 'shristi', 'There': 'shristi', 'that': 'shristi', 'influence': 'shristi', 'controlled': 'shristi', 'By': 'shristi', 'rules': 'shristi', 'deliberately': 'shristi', 'example,': 'shristi', 'codification': 'shristi', 'their': 'shristi', 'professional': 'shristi', 'regional': 'shristi', 'spread': 'shristi', 'in': 'shristi', 'references': 'shristi', 'played': 'shristi', 'some': 'shristi', 'include': 'shristi', 'ancient,': 'shristi', 'means': 'shristi', 'football,': 'shristi', 'at': 'shristi', 'Sports': 'shristi', 'back': 'shristi', 'Contemporary': 'shristi', 'association': 'shristi', 'end': 'shristi', 'gridiron': 'shristi', 'traditional,': 'shristi', 'as': 'shristi', 'the': 'shristi', 'football;': 'shristi', '(known': 'shristi', 'and': 'shristi', 'normally': 'shristi', 'public': 'shristi', 'degrees,': 'shristi', 'Australian': 'shristi', 'extent': 'shristi', 'Empire.[7]': 'shristi', 'word': 'shristi', 'Oceania);': 'shristi'}\n",
      "{'America': 'shristi', 'expansion': 'shristi', 'Unqualified,': 'shristi', 'popular': 'shristi', 'can': 'shristi', '1888,': 'shristi', 'prehistoric': 'shristi', 'of': 'shristi', 'traditional': 'shristi', 'grew': 'shristi', 'union': 'shristi', 'parts': 'shristi', 'kicking': 'shristi', 'number': 'shristi', 'During': 'shristi', 'associations.': 'shristi', 'known': 'shristi', 'sports': 'shristi', 'League': 'shristi', 'forms': 'shristi', 'schools': 'shristi', 'form': 'shristi', 'football);': 'shristi', 'kinds': 'shristi', 'There': 'shristi', 'that': 'shristi', 'influence': 'shristi', 'controlled': 'shristi', 'By': 'shristi', 'rules': 'shristi', 'deliberately': 'shristi', 'example,': 'shristi', 'codification': 'shristi', 'their': 'shristi', 'professional': 'shristi', 'regional': 'shristi', 'spread': 'shristi', 'in': 'shristi', 'references': 'shristi', 'played': 'shristi', 'some': 'shristi', 'include': 'shristi', 'ancient,': 'shristi', 'means': 'shristi', 'football,': 'shristi', 'at': 'shristi', 'Sports': 'shristi', 'back': 'shristi', 'Contemporary': 'shristi', 'association': 'shristi', 'end': 'shristi', 'gridiron': 'shristi', 'traditional,': 'shristi', 'as': 'shristi', 'the': 'shristi', 'football;': 'shristi', '(known': 'shristi', 'and': 'shristi', 'normally': 'shristi', 'public': 'shristi', 'degrees,': 'shristi', 'Australian': 'shristi', 'extent': 'shristi', 'Empire.[7]': 'shristi', 'word': 'shristi', 'Oceania);': 'shristi', 'most': 'shristi'}\n",
      "{'America': 'shristi', 'expansion': 'shristi', 'Unqualified,': 'shristi', 'popular': 'shristi', 'can': 'shristi', '1888,': 'shristi', 'prehistoric': 'shristi', 'of': 'shristi', 'traditional': 'shristi', 'grew': 'shristi', 'union': 'shristi', 'parts': 'shristi', 'kicking': 'shristi', 'number': 'shristi', 'During': 'shristi', 'associations.': 'shristi', 'known': 'shristi', 'sports': 'shristi', 'League': 'shristi', 'forms': 'shristi', 'schools': 'shristi', 'form': 'shristi', 'football);': 'shristi', 'kinds': 'shristi', 'There': 'shristi', 'that': 'shristi', 'influence': 'shristi', 'controlled': 'shristi', 'By': 'shristi', 'rules': 'shristi', 'deliberately': 'shristi', 'example,': 'shristi', 'codification': 'shristi', 'their': 'shristi', 'professional': 'shristi', 'regional': 'shristi', 'spread': 'shristi', 'in': 'shristi', 'references': 'shristi', 'played': 'shristi', 'some': 'shristi', 'include': 'shristi', 'ancient,': 'shristi', 'means': 'shristi', 'football,': 'shristi', 'at': 'shristi', 'Sports': 'shristi', 'back': 'shristi', 'Contemporary': 'shristi', 'association': 'shristi', 'end': 'shristi', 'gridiron': 'shristi', 'traditional,': 'shristi', 'as': 'shristi', 'the': 'shristi', 'football;': 'shristi', '(known': 'shristi', 'and': 'shristi', 'normally': 'shristi', 'public': 'shristi', 'degrees,': 'shristi', 'Australian': 'shristi', 'extent': 'shristi', 'Empire.[7]': 'shristi', 'word': 'shristi', 'Oceania);': 'shristi', 'most': 'shristi', 'football': 'shristi'}\n",
      "{'America': 'shristi', 'expansion': 'shristi', 'Unqualified,': 'shristi', 'popular': 'shristi', 'can': 'shristi', '1888,': 'shristi', 'prehistoric': 'shristi', 'of': 'shristi', 'traditional': 'shristi', 'grew': 'shristi', 'union': 'shristi', 'parts': 'shristi', 'kicking': 'shristi', 'number': 'shristi', 'During': 'shristi', 'associations.': 'shristi', 'known': 'shristi', 'sports': 'shristi', 'League': 'shristi', 'forms': 'shristi', 'schools': 'shristi', 'form': 'shristi', 'football);': 'shristi', 'kinds': 'shristi', 'There': 'shristi', 'that': 'shristi', 'influence': 'shristi', 'controlled': 'shristi', 'By': 'shristi', 'rules': 'shristi', 'deliberately': 'shristi', 'example,': 'shristi', 'codification': 'shristi', 'their': 'shristi', 'professional': 'shristi', 'regional': 'shristi', 'spread': 'shristi', 'in': 'shristi', 'references': 'shristi', 'played': 'shristi', 'some': 'shristi', 'include': 'shristi', 'ancient,': 'shristi', 'means': 'shristi', 'football,': 'shristi', 'at': 'shristi', 'Sports': 'shristi', 'back': 'shristi', 'Contemporary': 'shristi', 'association': 'shristi', 'end': 'shristi', 'gridiron': 'shristi', 'traditional,': 'shristi', 'as': 'shristi', 'the': 'shristi', 'football;': 'shristi', '(known': 'shristi', 'and': 'shristi', 'normally': 'shristi', 'public': 'shristi', 'degrees,': 'shristi', 'Australian': 'shristi', 'extent': 'shristi', 'Empire.[7]': 'shristi', 'word': 'shristi', 'Oceania);': 'shristi', 'most': 'shristi', 'football': 'shristi', 'cultural': 'shristi'}\n",
      "{'America': 'shristi', 'expansion': 'shristi', 'Unqualified,': 'shristi', 'popular': 'shristi', 'can': 'shristi', '1888,': 'shristi', 'prehistoric': 'shristi', 'of': 'shristi', 'traditional': 'shristi', 'grew': 'shristi', 'union': 'shristi', 'parts': 'shristi', 'kicking': 'shristi', 'number': 'shristi', 'During': 'shristi', 'associations.': 'shristi', 'known': 'shristi', 'sports': 'shristi', 'League': 'shristi', 'forms': 'shristi', 'schools': 'shristi', 'form': 'shristi', 'football);': 'shristi', 'kinds': 'shristi', 'There': 'shristi', 'that': 'shristi', 'influence': 'shristi', 'controlled': 'shristi', 'By': 'shristi', 'rules': 'shristi', 'deliberately': 'shristi', 'example,': 'shristi', 'codification': 'shristi', 'their': 'shristi', 'professional': 'shristi', 'regional': 'shristi', 'spread': 'shristi', 'in': 'shristi', 'references': 'shristi', 'played': 'shristi', 'some': 'shristi', 'include': 'shristi', 'ancient,': 'shristi', 'means': 'shristi', 'football,': 'shristi', 'at': 'shristi', 'Sports': 'shristi', 'back': 'shristi', 'Contemporary': 'shristi', 'association': 'shristi', 'end': 'shristi', 'gridiron': 'shristi', 'traditional,': 'shristi', 'as': 'shristi', 'the': 'shristi', 'football;': 'shristi', '(known': 'shristi', 'and': 'shristi', 'normally': 'shristi', 'public': 'shristi', 'degrees,': 'shristi', 'Australian': 'shristi', 'extent': 'shristi', 'Empire.[7]': 'shristi', 'word': 'shristi', 'Oceania);': 'shristi', 'most': 'shristi', 'football': 'shristi', 'cultural': 'shristi', 'In': 'shristi'}\n",
      "{'America': 'shristi', 'expansion': 'shristi', 'Unqualified,': 'shristi', 'popular': 'shristi', 'can': 'shristi', '1888,': 'shristi', 'prehistoric': 'shristi', 'of': 'shristi', 'traditional': 'shristi', 'grew': 'shristi', 'union': 'shristi', 'parts': 'shristi', 'kicking': 'shristi', 'number': 'shristi', 'During': 'shristi', 'associations.': 'shristi', 'known': 'shristi', 'sports': 'shristi', 'League': 'shristi', 'forms': 'shristi', 'schools': 'shristi', 'form': 'shristi', 'football);': 'shristi', 'kinds': 'shristi', 'There': 'shristi', 'that': 'shristi', 'influence': 'shristi', 'controlled': 'shristi', 'By': 'shristi', 'rules': 'shristi', 'deliberately': 'shristi', 'example,': 'shristi', 'codification': 'shristi', 'their': 'shristi', 'professional': 'shristi', 'regional': 'shristi', 'spread': 'shristi', 'in': 'shristi', 'references': 'shristi', 'played': 'shristi', 'some': 'shristi', 'include': 'shristi', 'ancient,': 'shristi', 'means': 'shristi', 'football,': 'shristi', 'at': 'shristi', 'Sports': 'shristi', 'back': 'shristi', 'Contemporary': 'shristi', 'association': 'shristi', 'end': 'shristi', 'gridiron': 'shristi', 'traditional,': 'shristi', 'as': 'shristi', 'the': 'shristi', 'football;': 'shristi', '(known': 'shristi', 'and': 'shristi', 'normally': 'shristi', 'public': 'shristi', 'degrees,': 'shristi', 'Australian': 'shristi', 'extent': 'shristi', 'Empire.[7]': 'shristi', 'word': 'shristi', 'Oceania);': 'shristi', 'most': 'shristi', 'football': 'shristi', 'cultural': 'shristi', 'In': 'shristi', 'to': 'shristi'}\n",
      "{'America': 'shristi', 'expansion': 'shristi', 'Unqualified,': 'shristi', 'popular': 'shristi', 'can': 'shristi', '1888,': 'shristi', 'prehistoric': 'shristi', 'of': 'shristi', 'traditional': 'shristi', 'grew': 'shristi', 'union': 'shristi', 'parts': 'shristi', 'kicking': 'shristi', 'number': 'shristi', 'During': 'shristi', 'associations.': 'shristi', 'known': 'shristi', 'sports': 'shristi', 'League': 'shristi', 'forms': 'shristi', 'schools': 'shristi', 'form': 'shristi', 'football);': 'shristi', 'kinds': 'shristi', 'There': 'shristi', 'that': 'shristi', 'influence': 'shristi', 'controlled': 'shristi', 'By': 'shristi', 'rules': 'shristi', 'deliberately': 'shristi', 'example,': 'shristi', 'codification': 'shristi', 'their': 'shristi', 'professional': 'shristi', 'regional': 'shristi', 'spread': 'shristi', 'in': 'shristi', 'references': 'shristi', 'played': 'shristi', 'some': 'shristi', 'include': 'shristi', 'ancient,': 'shristi', 'means': 'shristi', 'football,': 'shristi', 'at': 'shristi', 'Sports': 'shristi', 'back': 'shristi', 'Contemporary': 'shristi', 'association': 'shristi', 'end': 'shristi', 'gridiron': 'shristi', 'traditional,': 'shristi', 'as': 'shristi', 'the': 'shristi', 'football;': 'shristi', '(known': 'shristi', 'and': 'shristi', 'normally': 'shristi', 'public': 'shristi', 'degrees,': 'shristi', 'Australian': 'shristi', 'extent': 'shristi', 'Empire.[7]': 'shristi', 'word': 'shristi', 'Oceania);': 'shristi', 'most': 'shristi', 'football': 'shristi', 'cultural': 'shristi', 'In': 'shristi', 'to': 'shristi', 'commonly': 'shristi'}\n",
      "{'America': 'shristi', 'expansion': 'shristi', 'Unqualified,': 'shristi', 'popular': 'shristi', 'can': 'shristi', '1888,': 'shristi', 'prehistoric': 'shristi', 'of': 'shristi', 'traditional': 'shristi', 'grew': 'shristi', 'union': 'shristi', 'parts': 'shristi', 'kicking': 'shristi', 'number': 'shristi', 'During': 'shristi', 'associations.': 'shristi', 'known': 'shristi', 'sports': 'shristi', 'League': 'shristi', 'forms': 'shristi', 'schools': 'shristi', 'form': 'shristi', 'football);': 'shristi', 'kinds': 'shristi', 'There': 'shristi', 'that': 'shristi', 'influence': 'shristi', 'controlled': 'shristi', 'By': 'shristi', 'rules': 'shristi', 'deliberately': 'shristi', 'example,': 'shristi', 'codification': 'shristi', 'their': 'shristi', 'professional': 'shristi', 'regional': 'shristi', 'spread': 'shristi', 'in': 'shristi', 'references': 'shristi', 'played': 'shristi', 'some': 'shristi', 'include': 'shristi', 'ancient,': 'shristi', 'means': 'shristi', 'football,': 'shristi', 'at': 'shristi', 'Sports': 'shristi', 'back': 'shristi', 'Contemporary': 'shristi', 'association': 'shristi', 'end': 'shristi', 'gridiron': 'shristi', 'traditional,': 'shristi', 'as': 'shristi', 'the': 'shristi', 'football;': 'shristi', '(known': 'shristi', 'and': 'shristi', 'normally': 'shristi', 'public': 'shristi', 'degrees,': 'shristi', 'Australian': 'shristi', 'extent': 'shristi', 'Empire.[7]': 'shristi', 'word': 'shristi', 'Oceania);': 'shristi', 'most': 'shristi', 'football': 'shristi', 'cultural': 'shristi', 'In': 'shristi', 'to': 'shristi', 'commonly': 'shristi', 'league;': 'shristi'}\n",
      "{'America': 'shristi', 'expansion': 'shristi', 'Unqualified,': 'shristi', 'popular': 'shristi', 'can': 'shristi', '1888,': 'shristi', 'prehistoric': 'shristi', 'of': 'shristi', 'traditional': 'shristi', 'grew': 'shristi', 'union': 'shristi', 'parts': 'shristi', 'kicking': 'shristi', 'number': 'shristi', 'During': 'shristi', 'associations.': 'shristi', 'known': 'shristi', 'sports': 'shristi', 'League': 'shristi', 'forms': 'shristi', 'schools': 'shristi', 'form': 'shristi', 'football);': 'shristi', 'kinds': 'shristi', 'There': 'shristi', 'that': 'shristi', 'influence': 'shristi', 'controlled': 'shristi', 'By': 'shristi', 'rules': 'shristi', 'deliberately': 'shristi', 'example,': 'shristi', 'codification': 'shristi', 'their': 'shristi', 'professional': 'shristi', 'regional': 'shristi', 'spread': 'shristi', 'in': 'shristi', 'references': 'shristi', 'played': 'shristi', 'some': 'shristi', 'include': 'shristi', 'ancient,': 'shristi', 'means': 'shristi', 'football,': 'shristi', 'at': 'shristi', 'Sports': 'shristi', 'back': 'shristi', 'Contemporary': 'shristi', 'association': 'shristi', 'end': 'shristi', 'gridiron': 'shristi', 'traditional,': 'shristi', 'as': 'shristi', 'the': 'shristi', 'football;': 'shristi', '(known': 'shristi', 'and': 'shristi', 'normally': 'shristi', 'public': 'shristi', 'degrees,': 'shristi', 'Australian': 'shristi', 'extent': 'shristi', 'Empire.[7]': 'shristi', 'word': 'shristi', 'Oceania);': 'shristi', 'most': 'shristi', 'football': 'shristi', 'cultural': 'shristi', 'In': 'shristi', 'to': 'shristi', 'commonly': 'shristi', 'league;': 'shristi', 'areas': 'shristi'}\n",
      "{'America': 'shristi', 'expansion': 'shristi', 'Unqualified,': 'shristi', 'popular': 'shristi', 'can': 'shristi', '1888,': 'shristi', 'prehistoric': 'shristi', 'of': 'shristi', 'traditional': 'shristi', 'grew': 'shristi', 'union': 'shristi', 'parts': 'shristi', 'kicking': 'shristi', 'number': 'shristi', 'During': 'shristi', 'associations.': 'shristi', 'known': 'shristi', 'sports': 'shristi', 'League': 'shristi', 'forms': 'shristi', 'schools': 'shristi', 'form': 'shristi', 'football);': 'shristi', 'kinds': 'shristi', 'There': 'shristi', 'that': 'shristi', 'influence': 'shristi', 'controlled': 'shristi', 'By': 'shristi', 'rules': 'shristi', 'deliberately': 'shristi', 'example,': 'shristi', 'codification': 'shristi', 'their': 'shristi', 'professional': 'shristi', 'regional': 'shristi', 'spread': 'shristi', 'in': 'shristi', 'references': 'shristi', 'played': 'shristi', 'some': 'shristi', 'include': 'shristi', 'ancient,': 'shristi', 'means': 'shristi', 'football,': 'shristi', 'at': 'shristi', 'Sports': 'shristi', 'back': 'shristi', 'Contemporary': 'shristi', 'association': 'shristi', 'end': 'shristi', 'gridiron': 'shristi', 'traditional,': 'shristi', 'as': 'shristi', 'the': 'shristi', 'football;': 'shristi', '(known': 'shristi', 'and': 'shristi', 'normally': 'shristi', 'public': 'shristi', 'degrees,': 'shristi', 'Australian': 'shristi', 'extent': 'shristi', 'Empire.[7]': 'shristi', 'word': 'shristi', 'Oceania);': 'shristi', 'most': 'shristi', 'football': 'shristi', 'cultural': 'shristi', 'In': 'shristi', 'to': 'shristi', 'commonly': 'shristi', 'league;': 'shristi', 'areas': 'shristi', 'already': 'shristi'}\n",
      "{'America': 'shristi', 'expansion': 'shristi', 'Unqualified,': 'shristi', 'popular': 'shristi', 'can': 'shristi', '1888,': 'shristi', 'prehistoric': 'shristi', 'of': 'shristi', 'traditional': 'shristi', 'grew': 'shristi', 'union': 'shristi', 'parts': 'shristi', 'kicking': 'shristi', 'number': 'shristi', 'During': 'shristi', 'associations.': 'shristi', 'known': 'shristi', 'sports': 'shristi', 'League': 'shristi', 'forms': 'shristi', 'schools': 'shristi', 'form': 'shristi', 'football);': 'shristi', 'kinds': 'shristi', 'There': 'shristi', 'that': 'shristi', 'influence': 'shristi', 'controlled': 'shristi', 'By': 'shristi', 'rules': 'shristi', 'deliberately': 'shristi', 'example,': 'shristi', 'codification': 'shristi', 'their': 'shristi', 'professional': 'shristi', 'regional': 'shristi', 'spread': 'shristi', 'in': 'shristi', 'references': 'shristi', 'played': 'shristi', 'some': 'shristi', 'include': 'shristi', 'ancient,': 'shristi', 'means': 'shristi', 'football,': 'shristi', 'at': 'shristi', 'Sports': 'shristi', 'back': 'shristi', 'Contemporary': 'shristi', 'association': 'shristi', 'end': 'shristi', 'gridiron': 'shristi', 'traditional,': 'shristi', 'as': 'shristi', 'the': 'shristi', 'football;': 'shristi', '(known': 'shristi', 'and': 'shristi', 'normally': 'shristi', 'public': 'shristi', 'degrees,': 'shristi', 'Australian': 'shristi', 'extent': 'shristi', 'Empire.[7]': 'shristi', 'word': 'shristi', 'Oceania);': 'shristi', 'most': 'shristi', 'football': 'shristi', 'cultural': 'shristi', 'In': 'shristi', 'to': 'shristi', 'commonly': 'shristi', 'league;': 'shristi', 'areas': 'shristi', 'already': 'shristi', 'world.[9]': 'shristi'}\n",
      "{'America': 'shristi', 'expansion': 'shristi', 'Unqualified,': 'shristi', 'popular': 'shristi', 'can': 'shristi', '1888,': 'shristi', 'prehistoric': 'shristi', 'of': 'shristi', 'traditional': 'shristi', 'grew': 'shristi', 'union': 'shristi', 'parts': 'shristi', 'kicking': 'shristi', 'number': 'shristi', 'During': 'shristi', 'associations.': 'shristi', 'known': 'shristi', 'sports': 'shristi', 'League': 'shristi', 'forms': 'shristi', 'schools': 'shristi', 'form': 'shristi', 'football);': 'shristi', 'kinds': 'shristi', 'There': 'shristi', 'that': 'shristi', 'influence': 'shristi', 'controlled': 'shristi', 'By': 'shristi', 'rules': 'shristi', 'deliberately': 'shristi', 'example,': 'shristi', 'codification': 'shristi', 'their': 'shristi', 'professional': 'shristi', 'regional': 'shristi', 'spread': 'shristi', 'in': 'shristi', 'references': 'shristi', 'played': 'shristi', 'some': 'shristi', 'include': 'shristi', 'ancient,': 'shristi', 'means': 'shristi', 'football,': 'shristi', 'at': 'shristi', 'Sports': 'shristi', 'back': 'shristi', 'Contemporary': 'shristi', 'association': 'shristi', 'end': 'shristi', 'gridiron': 'shristi', 'traditional,': 'shristi', 'as': 'shristi', 'the': 'shristi', 'football;': 'shristi', '(known': 'shristi', 'and': 'shristi', 'normally': 'shristi', 'public': 'shristi', 'degrees,': 'shristi', 'Australian': 'shristi', 'extent': 'shristi', 'Empire.[7]': 'shristi', 'word': 'shristi', 'Oceania);': 'shristi', 'most': 'shristi', 'football': 'shristi', 'cultural': 'shristi', 'In': 'shristi', 'to': 'shristi', 'commonly': 'shristi', 'league;': 'shristi', 'areas': 'shristi', 'already': 'shristi', 'world.[9]': 'shristi', 'different': 'shristi'}\n",
      "{'America': 'shristi', 'expansion': 'shristi', 'Unqualified,': 'shristi', 'popular': 'shristi', 'can': 'shristi', '1888,': 'shristi', 'prehistoric': 'shristi', 'of': 'shristi', 'traditional': 'shristi', 'grew': 'shristi', 'union': 'shristi', 'parts': 'shristi', 'kicking': 'shristi', 'number': 'shristi', 'During': 'shristi', 'associations.': 'shristi', 'known': 'shristi', 'sports': 'shristi', 'League': 'shristi', 'forms': 'shristi', 'schools': 'shristi', 'form': 'shristi', 'football);': 'shristi', 'kinds': 'shristi', 'There': 'shristi', 'that': 'shristi', 'influence': 'shristi', 'controlled': 'shristi', 'By': 'shristi', 'rules': 'shristi', 'deliberately': 'shristi', 'example,': 'shristi', 'codification': 'shristi', 'their': 'shristi', 'professional': 'shristi', 'regional': 'shristi', 'spread': 'shristi', 'in': 'shristi', 'references': 'shristi', 'played': 'shristi', 'some': 'shristi', 'include': 'shristi', 'ancient,': 'shristi', 'means': 'shristi', 'football,': 'shristi', 'at': 'shristi', 'Sports': 'shristi', 'back': 'shristi', 'Contemporary': 'shristi', 'association': 'shristi', 'end': 'shristi', 'gridiron': 'shristi', 'traditional,': 'shristi', 'as': 'shristi', 'the': 'shristi', 'football;': 'shristi', '(known': 'shristi', 'and': 'shristi', 'normally': 'shristi', 'public': 'shristi', 'degrees,': 'shristi', 'Australian': 'shristi', 'extent': 'shristi', 'Empire.[7]': 'shristi', 'word': 'shristi', 'Oceania);': 'shristi', 'most': 'shristi', 'football': 'shristi', 'cultural': 'shristi', 'In': 'shristi', 'to': 'shristi', 'commonly': 'shristi', 'league;': 'shristi', 'areas': 'shristi', 'already': 'shristi', 'world.[9]': 'shristi', 'different': 'shristi', 'British': 'shristi'}\n",
      "{'America': 'shristi', 'expansion': 'shristi', 'Unqualified,': 'shristi', 'popular': 'shristi', 'can': 'shristi', '1888,': 'shristi', 'prehistoric': 'shristi', 'of': 'shristi', 'traditional': 'shristi', 'grew': 'shristi', 'union': 'shristi', 'parts': 'shristi', 'kicking': 'shristi', 'number': 'shristi', 'During': 'shristi', 'associations.': 'shristi', 'known': 'shristi', 'sports': 'shristi', 'League': 'shristi', 'forms': 'shristi', 'schools': 'shristi', 'form': 'shristi', 'football);': 'shristi', 'kinds': 'shristi', 'There': 'shristi', 'that': 'shristi', 'influence': 'shristi', 'controlled': 'shristi', 'By': 'shristi', 'rules': 'shristi', 'deliberately': 'shristi', 'example,': 'shristi', 'codification': 'shristi', 'their': 'shristi', 'professional': 'shristi', 'regional': 'shristi', 'spread': 'shristi', 'in': 'shristi', 'references': 'shristi', 'played': 'shristi', 'some': 'shristi', 'include': 'shristi', 'ancient,': 'shristi', 'means': 'shristi', 'football,': 'shristi', 'at': 'shristi', 'Sports': 'shristi', 'back': 'shristi', 'Contemporary': 'shristi', 'association': 'shristi', 'end': 'shristi', 'gridiron': 'shristi', 'traditional,': 'shristi', 'as': 'shristi', 'the': 'shristi', 'football;': 'shristi', '(known': 'shristi', 'and': 'shristi', 'normally': 'shristi', 'public': 'shristi', 'degrees,': 'shristi', 'Australian': 'shristi', 'extent': 'shristi', 'Empire.[7]': 'shristi', 'word': 'shristi', 'Oceania);': 'shristi', 'most': 'shristi', 'football': 'shristi', 'cultural': 'shristi', 'In': 'shristi', 'to': 'shristi', 'commonly': 'shristi', 'league;': 'shristi', 'areas': 'shristi', 'already': 'shristi', 'world.[9]': 'shristi', 'different': 'shristi', 'British': 'shristi', 'century.[5][6]': 'shristi'}\n",
      "{'America': 'shristi', 'expansion': 'shristi', 'Unqualified,': 'shristi', 'popular': 'shristi', 'can': 'shristi', '1888,': 'shristi', 'prehistoric': 'shristi', 'of': 'shristi', 'traditional': 'shristi', 'grew': 'shristi', 'union': 'shristi', 'parts': 'shristi', 'kicking': 'shristi', 'number': 'shristi', 'During': 'shristi', 'associations.': 'shristi', 'known': 'shristi', 'sports': 'shristi', 'League': 'shristi', 'forms': 'shristi', 'schools': 'shristi', 'form': 'shristi', 'football);': 'shristi', 'kinds': 'shristi', 'There': 'shristi', 'that': 'shristi', 'influence': 'shristi', 'controlled': 'shristi', 'By': 'shristi', 'rules': 'shristi', 'deliberately': 'shristi', 'example,': 'shristi', 'codification': 'shristi', 'their': 'shristi', 'professional': 'shristi', 'regional': 'shristi', 'spread': 'shristi', 'in': 'shristi', 'references': 'shristi', 'played': 'shristi', 'some': 'shristi', 'include': 'shristi', 'ancient,': 'shristi', 'means': 'shristi', 'football,': 'shristi', 'at': 'shristi', 'Sports': 'shristi', 'back': 'shristi', 'Contemporary': 'shristi', 'association': 'shristi', 'end': 'shristi', 'gridiron': 'shristi', 'traditional,': 'shristi', 'as': 'shristi', 'the': 'shristi', 'football;': 'shristi', '(known': 'shristi', 'and': 'shristi', 'normally': 'shristi', 'public': 'shristi', 'degrees,': 'shristi', 'Australian': 'shristi', 'extent': 'shristi', 'Empire.[7]': 'shristi', 'word': 'shristi', 'Oceania);': 'shristi', 'most': 'shristi', 'football': 'shristi', 'cultural': 'shristi', 'In': 'shristi', 'to': 'shristi', 'commonly': 'shristi', 'league;': 'shristi', 'areas': 'shristi', 'already': 'shristi', 'world.[9]': 'shristi', 'different': 'shristi', 'British': 'shristi', 'century.[5][6]': 'shristi', 'local': 'shristi'}\n",
      "{'America': 'shristi', 'expansion': 'shristi', 'Unqualified,': 'shristi', 'popular': 'shristi', 'can': 'shristi', '1888,': 'shristi', 'prehistoric': 'shristi', 'of': 'shristi', 'traditional': 'shristi', 'grew': 'shristi', 'union': 'shristi', 'parts': 'shristi', 'kicking': 'shristi', 'number': 'shristi', 'During': 'shristi', 'associations.': 'shristi', 'known': 'shristi', 'sports': 'shristi', 'League': 'shristi', 'forms': 'shristi', 'schools': 'shristi', 'form': 'shristi', 'football);': 'shristi', 'kinds': 'shristi', 'There': 'shristi', 'that': 'shristi', 'influence': 'shristi', 'controlled': 'shristi', 'By': 'shristi', 'rules': 'shristi', 'deliberately': 'shristi', 'example,': 'shristi', 'codification': 'shristi', 'their': 'shristi', 'professional': 'shristi', 'regional': 'shristi', 'spread': 'shristi', 'in': 'shristi', 'references': 'shristi', 'played': 'shristi', 'some': 'shristi', 'include': 'shristi', 'ancient,': 'shristi', 'means': 'shristi', 'football,': 'shristi', 'at': 'shristi', 'Sports': 'shristi', 'back': 'shristi', 'Contemporary': 'shristi', 'association': 'shristi', 'end': 'shristi', 'gridiron': 'shristi', 'traditional,': 'shristi', 'as': 'shristi', 'the': 'shristi', 'football;': 'shristi', '(known': 'shristi', 'and': 'shristi', 'normally': 'shristi', 'public': 'shristi', 'degrees,': 'shristi', 'Australian': 'shristi', 'extent': 'shristi', 'Empire.[7]': 'shristi', 'word': 'shristi', 'Oceania);': 'shristi', 'most': 'shristi', 'football': 'shristi', 'cultural': 'shristi', 'In': 'shristi', 'to': 'shristi', 'commonly': 'shristi', 'league;': 'shristi', 'areas': 'shristi', 'already': 'shristi', 'world.[9]': 'shristi', 'different': 'shristi', 'British': 'shristi', 'century.[5][6]': 'shristi', 'local': 'shristi', 'score': 'shristi'}\n",
      "{'America': 'shristi', 'expansion': 'shristi', 'Unqualified,': 'shristi', 'popular': 'shristi', 'can': 'shristi', '1888,': 'shristi', 'prehistoric': 'shristi', 'of': 'shristi', 'traditional': 'shristi', 'grew': 'shristi', 'union': 'shristi', 'parts': 'shristi', 'kicking': 'shristi', 'number': 'shristi', 'During': 'shristi', 'associations.': 'shristi', 'known': 'shristi', 'sports': 'shristi', 'League': 'shristi', 'forms': 'shristi', 'schools': 'shristi', 'form': 'shristi', 'football);': 'shristi', 'kinds': 'shristi', 'There': 'shristi', 'that': 'shristi', 'influence': 'shristi', 'controlled': 'shristi', 'By': 'shristi', 'rules': 'shristi', 'deliberately': 'shristi', 'example,': 'shristi', 'codification': 'shristi', 'their': 'shristi', 'professional': 'shristi', 'regional': 'shristi', 'spread': 'shristi', 'in': 'shristi', 'references': 'shristi', 'played': 'shristi', 'some': 'shristi', 'include': 'shristi', 'ancient,': 'shristi', 'means': 'shristi', 'football,': 'shristi', 'at': 'shristi', 'Sports': 'shristi', 'back': 'shristi', 'Contemporary': 'shristi', 'association': 'shristi', 'end': 'shristi', 'gridiron': 'shristi', 'traditional,': 'shristi', 'as': 'shristi', 'the': 'shristi', 'football;': 'shristi', '(known': 'shristi', 'and': 'shristi', 'normally': 'shristi', 'public': 'shristi', 'degrees,': 'shristi', 'Australian': 'shristi', 'extent': 'shristi', 'Empire.[7]': 'shristi', 'word': 'shristi', 'Oceania);': 'shristi', 'most': 'shristi', 'football': 'shristi', 'cultural': 'shristi', 'In': 'shristi', 'to': 'shristi', 'commonly': 'shristi', 'league;': 'shristi', 'areas': 'shristi', 'already': 'shristi', 'world.[9]': 'shristi', 'different': 'shristi', 'British': 'shristi', 'century.[5][6]': 'shristi', 'local': 'shristi', 'score': 'shristi', 'games': 'shristi'}\n",
      "{'America': 'shristi', 'expansion': 'shristi', 'Unqualified,': 'shristi', 'popular': 'shristi', 'can': 'shristi', '1888,': 'shristi', 'prehistoric': 'shristi', 'of': 'shristi', 'traditional': 'shristi', 'grew': 'shristi', 'union': 'shristi', 'parts': 'shristi', 'kicking': 'shristi', 'number': 'shristi', 'During': 'shristi', 'associations.': 'shristi', 'known': 'shristi', 'sports': 'shristi', 'League': 'shristi', 'forms': 'shristi', 'schools': 'shristi', 'form': 'shristi', 'football);': 'shristi', 'kinds': 'shristi', 'There': 'shristi', 'that': 'shristi', 'influence': 'shristi', 'controlled': 'shristi', 'By': 'shristi', 'rules': 'shristi', 'deliberately': 'shristi', 'example,': 'shristi', 'codification': 'shristi', 'their': 'shristi', 'professional': 'shristi', 'regional': 'shristi', 'spread': 'shristi', 'in': 'shristi', 'references': 'shristi', 'played': 'shristi', 'some': 'shristi', 'include': 'shristi', 'ancient,': 'shristi', 'means': 'shristi', 'football,': 'shristi', 'at': 'shristi', 'Sports': 'shristi', 'back': 'shristi', 'Contemporary': 'shristi', 'association': 'shristi', 'end': 'shristi', 'gridiron': 'shristi', 'traditional,': 'shristi', 'as': 'shristi', 'the': 'shristi', 'football;': 'shristi', '(known': 'shristi', 'and': 'shristi', 'normally': 'shristi', 'public': 'shristi', 'degrees,': 'shristi', 'Australian': 'shristi', 'extent': 'shristi', 'Empire.[7]': 'shristi', 'word': 'shristi', 'Oceania);': 'shristi', 'most': 'shristi', 'football': 'shristi', 'cultural': 'shristi', 'In': 'shristi', 'to': 'shristi', 'commonly': 'shristi', 'league;': 'shristi', 'areas': 'shristi', 'already': 'shristi', 'world.[9]': 'shristi', 'different': 'shristi', 'British': 'shristi', 'century.[5][6]': 'shristi', 'local': 'shristi', 'score': 'shristi', 'games': 'shristi', 'becoming': 'shristi'}\n",
      "{'America': 'shristi', 'expansion': 'shristi', 'Unqualified,': 'shristi', 'popular': 'shristi', 'can': 'shristi', '1888,': 'shristi', 'prehistoric': 'shristi', 'of': 'shristi', 'traditional': 'shristi', 'grew': 'shristi', 'union': 'shristi', 'parts': 'shristi', 'kicking': 'shristi', 'number': 'shristi', 'During': 'shristi', 'associations.': 'shristi', 'known': 'shristi', 'sports': 'shristi', 'League': 'shristi', 'forms': 'shristi', 'schools': 'shristi', 'form': 'shristi', 'football);': 'shristi', 'kinds': 'shristi', 'There': 'shristi', 'that': 'shristi', 'influence': 'shristi', 'controlled': 'shristi', 'By': 'shristi', 'rules': 'shristi', 'deliberately': 'shristi', 'example,': 'shristi', 'codification': 'shristi', 'their': 'shristi', 'professional': 'shristi', 'regional': 'shristi', 'spread': 'shristi', 'in': 'shristi', 'references': 'shristi', 'played': 'shristi', 'some': 'shristi', 'include': 'shristi', 'ancient,': 'shristi', 'means': 'shristi', 'football,': 'shristi', 'at': 'shristi', 'Sports': 'shristi', 'back': 'shristi', 'Contemporary': 'shristi', 'association': 'shristi', 'end': 'shristi', 'gridiron': 'shristi', 'traditional,': 'shristi', 'as': 'shristi', 'the': 'shristi', 'football;': 'shristi', '(known': 'shristi', 'and': 'shristi', 'normally': 'shristi', 'public': 'shristi', 'degrees,': 'shristi', 'Australian': 'shristi', 'extent': 'shristi', 'Empire.[7]': 'shristi', 'word': 'shristi', 'Oceania);': 'shristi', 'most': 'shristi', 'football': 'shristi', 'cultural': 'shristi', 'In': 'shristi', 'to': 'shristi', 'commonly': 'shristi', 'league;': 'shristi', 'areas': 'shristi', 'already': 'shristi', 'world.[9]': 'shristi', 'different': 'shristi', 'British': 'shristi', 'century.[5][6]': 'shristi', 'local': 'shristi', 'score': 'shristi', 'games': 'shristi', 'becoming': 'shristi', 'are': 'shristi'}\n",
      "{'America': 'shristi', 'expansion': 'shristi', 'Unqualified,': 'shristi', 'popular': 'shristi', 'can': 'shristi', '1888,': 'shristi', 'prehistoric': 'shristi', 'of': 'shristi', 'traditional': 'shristi', 'grew': 'shristi', 'union': 'shristi', 'parts': 'shristi', 'kicking': 'shristi', 'number': 'shristi', 'During': 'shristi', 'associations.': 'shristi', 'known': 'shristi', 'sports': 'shristi', 'League': 'shristi', 'forms': 'shristi', 'schools': 'shristi', 'form': 'shristi', 'football);': 'shristi', 'kinds': 'shristi', 'There': 'shristi', 'that': 'shristi', 'influence': 'shristi', 'controlled': 'shristi', 'By': 'shristi', 'rules': 'shristi', 'deliberately': 'shristi', 'example,': 'shristi', 'codification': 'shristi', 'their': 'shristi', 'professional': 'shristi', 'regional': 'shristi', 'spread': 'shristi', 'in': 'shristi', 'references': 'shristi', 'played': 'shristi', 'some': 'shristi', 'include': 'shristi', 'ancient,': 'shristi', 'means': 'shristi', 'football,': 'shristi', 'at': 'shristi', 'Sports': 'shristi', 'back': 'shristi', 'Contemporary': 'shristi', 'association': 'shristi', 'end': 'shristi', 'gridiron': 'shristi', 'traditional,': 'shristi', 'as': 'shristi', 'the': 'shristi', 'football;': 'shristi', '(known': 'shristi', 'and': 'shristi', 'normally': 'shristi', 'public': 'shristi', 'degrees,': 'shristi', 'Australian': 'shristi', 'extent': 'shristi', 'Empire.[7]': 'shristi', 'word': 'shristi', 'Oceania);': 'shristi', 'most': 'shristi', 'football': 'shristi', 'cultural': 'shristi', 'In': 'shristi', 'to': 'shristi', 'commonly': 'shristi', 'league;': 'shristi', 'areas': 'shristi', 'already': 'shristi', 'world.[9]': 'shristi', 'different': 'shristi', 'British': 'shristi', 'century.[5][6]': 'shristi', 'local': 'shristi', 'score': 'shristi', 'games': 'shristi', 'becoming': 'shristi', 'are': 'shristi', 'England,': 'shristi'}\n",
      "{'America': 'shristi', 'expansion': 'shristi', 'Unqualified,': 'shristi', 'popular': 'shristi', 'can': 'shristi', '1888,': 'shristi', 'prehistoric': 'shristi', 'of': 'shristi', 'traditional': 'shristi', 'grew': 'shristi', 'union': 'shristi', 'parts': 'shristi', 'kicking': 'shristi', 'number': 'shristi', 'During': 'shristi', 'associations.': 'shristi', 'known': 'shristi', 'sports': 'shristi', 'League': 'shristi', 'forms': 'shristi', 'schools': 'shristi', 'form': 'shristi', 'football);': 'shristi', 'kinds': 'shristi', 'There': 'shristi', 'that': 'shristi', 'influence': 'shristi', 'controlled': 'shristi', 'By': 'shristi', 'rules': 'shristi', 'deliberately': 'shristi', 'example,': 'shristi', 'codification': 'shristi', 'their': 'shristi', 'professional': 'shristi', 'regional': 'shristi', 'spread': 'shristi', 'in': 'shristi', 'references': 'shristi', 'played': 'shristi', 'some': 'shristi', 'include': 'shristi', 'ancient,': 'shristi', 'means': 'shristi', 'football,': 'shristi', 'at': 'shristi', 'Sports': 'shristi', 'back': 'shristi', 'Contemporary': 'shristi', 'association': 'shristi', 'end': 'shristi', 'gridiron': 'shristi', 'traditional,': 'shristi', 'as': 'shristi', 'the': 'shristi', 'football;': 'shristi', '(known': 'shristi', 'and': 'shristi', 'normally': 'shristi', 'public': 'shristi', 'degrees,': 'shristi', 'Australian': 'shristi', 'extent': 'shristi', 'Empire.[7]': 'shristi', 'word': 'shristi', 'Oceania);': 'shristi', 'most': 'shristi', 'football': 'shristi', 'cultural': 'shristi', 'In': 'shristi', 'to': 'shristi', 'commonly': 'shristi', 'league;': 'shristi', 'areas': 'shristi', 'already': 'shristi', 'world.[9]': 'shristi', 'different': 'shristi', 'British': 'shristi', 'century.[5][6]': 'shristi', 'local': 'shristi', 'score': 'shristi', 'games': 'shristi', 'becoming': 'shristi', 'are': 'shristi', 'England,': 'shristi', 'maintain': 'shristi'}\n",
      "{'America': 'shristi', 'expansion': 'shristi', 'Unqualified,': 'shristi', 'popular': 'shristi', 'can': 'shristi', '1888,': 'shristi', 'prehistoric': 'shristi', 'of': 'shristi', 'traditional': 'shristi', 'grew': 'shristi', 'union': 'shristi', 'parts': 'shristi', 'kicking': 'shristi', 'number': 'shristi', 'During': 'shristi', 'associations.': 'shristi', 'known': 'shristi', 'sports': 'shristi', 'League': 'shristi', 'forms': 'shristi', 'schools': 'shristi', 'form': 'shristi', 'football);': 'shristi', 'kinds': 'shristi', 'There': 'shristi', 'that': 'shristi', 'influence': 'shristi', 'controlled': 'shristi', 'By': 'shristi', 'rules': 'shristi', 'deliberately': 'shristi', 'example,': 'shristi', 'codification': 'shristi', 'their': 'shristi', 'professional': 'shristi', 'regional': 'shristi', 'spread': 'shristi', 'in': 'shristi', 'references': 'shristi', 'played': 'shristi', 'some': 'shristi', 'include': 'shristi', 'ancient,': 'shristi', 'means': 'shristi', 'football,': 'shristi', 'at': 'shristi', 'Sports': 'shristi', 'back': 'shristi', 'Contemporary': 'shristi', 'association': 'shristi', 'end': 'shristi', 'gridiron': 'shristi', 'traditional,': 'shristi', 'as': 'shristi', 'the': 'shristi', 'football;': 'shristi', '(known': 'shristi', 'and': 'shristi', 'normally': 'shristi', 'public': 'shristi', 'degrees,': 'shristi', 'Australian': 'shristi', 'extent': 'shristi', 'Empire.[7]': 'shristi', 'word': 'shristi', 'Oceania);': 'shristi', 'most': 'shristi', 'football': 'shristi', 'cultural': 'shristi', 'In': 'shristi', 'to': 'shristi', 'commonly': 'shristi', 'league;': 'shristi', 'areas': 'shristi', 'already': 'shristi', 'world.[9]': 'shristi', 'different': 'shristi', 'British': 'shristi', 'century.[5][6]': 'shristi', 'local': 'shristi', 'score': 'shristi', 'games': 'shristi', 'becoming': 'shristi', 'are': 'shristi', 'England,': 'shristi', 'maintain': 'shristi', 'for': 'shristi'}\n",
      "{'America': 'shristi', 'expansion': 'shristi', 'Unqualified,': 'shristi', 'popular': 'shristi', 'can': 'shristi', '1888,': 'shristi', 'prehistoric': 'shristi', 'of': 'shristi', 'traditional': 'shristi', 'grew': 'shristi', 'union': 'shristi', 'parts': 'shristi', 'kicking': 'shristi', 'number': 'shristi', 'During': 'shristi', 'associations.': 'shristi', 'known': 'shristi', 'sports': 'shristi', 'League': 'shristi', 'forms': 'shristi', 'schools': 'shristi', 'form': 'shristi', 'football);': 'shristi', 'kinds': 'shristi', 'There': 'shristi', 'that': 'shristi', 'influence': 'shristi', 'controlled': 'shristi', 'By': 'shristi', 'rules': 'shristi', 'deliberately': 'shristi', 'example,': 'shristi', 'codification': 'shristi', 'their': 'shristi', 'professional': 'shristi', 'regional': 'shristi', 'spread': 'shristi', 'in': 'shristi', 'references': 'shristi', 'played': 'shristi', 'some': 'shristi', 'include': 'shristi', 'ancient,': 'shristi', 'means': 'shristi', 'football,': 'shristi', 'at': 'shristi', 'Sports': 'shristi', 'back': 'shristi', 'Contemporary': 'shristi', 'association': 'shristi', 'end': 'shristi', 'gridiron': 'shristi', 'traditional,': 'shristi', 'as': 'shristi', 'the': 'shristi', 'football;': 'shristi', '(known': 'shristi', 'and': 'shristi', 'normally': 'shristi', 'public': 'shristi', 'degrees,': 'shristi', 'Australian': 'shristi', 'extent': 'shristi', 'Empire.[7]': 'shristi', 'word': 'shristi', 'Oceania);': 'shristi', 'most': 'shristi', 'football': 'shristi', 'cultural': 'shristi', 'In': 'shristi', 'to': 'shristi', 'commonly': 'shristi', 'league;': 'shristi', 'areas': 'shristi', 'already': 'shristi', 'world.[9]': 'shristi', 'different': 'shristi', 'British': 'shristi', 'century.[5][6]': 'shristi', 'local': 'shristi', 'score': 'shristi', 'games': 'shristi', 'becoming': 'shristi', 'are': 'shristi', 'England,': 'shristi', 'maintain': 'shristi', 'for': 'shristi', 'traced': 'shristi'}\n",
      "{'America': 'shristi', 'expansion': 'shristi', 'Unqualified,': 'shristi', 'popular': 'shristi', 'can': 'shristi', '1888,': 'shristi', 'prehistoric': 'shristi', 'of': 'shristi', 'traditional': 'shristi', 'grew': 'shristi', 'union': 'shristi', 'parts': 'shristi', 'kicking': 'shristi', 'number': 'shristi', 'During': 'shristi', 'associations.': 'shristi', 'known': 'shristi', 'sports': 'shristi', 'League': 'shristi', 'forms': 'shristi', 'schools': 'shristi', 'form': 'shristi', 'football);': 'shristi', 'kinds': 'shristi', 'There': 'shristi', 'that': 'shristi', 'influence': 'shristi', 'controlled': 'shristi', 'By': 'shristi', 'rules': 'shristi', 'deliberately': 'shristi', 'example,': 'shristi', 'codification': 'shristi', 'their': 'shristi', 'professional': 'shristi', 'regional': 'shristi', 'spread': 'shristi', 'in': 'shristi', 'references': 'shristi', 'played': 'shristi', 'some': 'shristi', 'include': 'shristi', 'ancient,': 'shristi', 'means': 'shristi', 'football,': 'shristi', 'at': 'shristi', 'Sports': 'shristi', 'back': 'shristi', 'Contemporary': 'shristi', 'association': 'shristi', 'end': 'shristi', 'gridiron': 'shristi', 'traditional,': 'shristi', 'as': 'shristi', 'the': 'shristi', 'football;': 'shristi', '(known': 'shristi', 'and': 'shristi', 'normally': 'shristi', 'public': 'shristi', 'degrees,': 'shristi', 'Australian': 'shristi', 'extent': 'shristi', 'Empire.[7]': 'shristi', 'word': 'shristi', 'Oceania);': 'shristi', 'most': 'shristi', 'football': 'shristi', 'cultural': 'shristi', 'In': 'shristi', 'to': 'shristi', 'commonly': 'shristi', 'league;': 'shristi', 'areas': 'shristi', 'already': 'shristi', 'world.[9]': 'shristi', 'different': 'shristi', 'British': 'shristi', 'century.[5][6]': 'shristi', 'local': 'shristi', 'score': 'shristi', 'games': 'shristi', 'becoming': 'shristi', 'are': 'shristi', 'England,': 'shristi', 'maintain': 'shristi', 'for': 'shristi', 'traced': 'shristi', 'various': 'shristi'}\n",
      "{'America': 'shristi', 'expansion': 'shristi', 'Unqualified,': 'shristi', 'popular': 'shristi', 'can': 'shristi', '1888,': 'shristi', 'prehistoric': 'shristi', 'of': 'shristi', 'traditional': 'shristi', 'grew': 'shristi', 'union': 'shristi', 'parts': 'shristi', 'kicking': 'shristi', 'number': 'shristi', 'During': 'shristi', 'associations.': 'shristi', 'known': 'shristi', 'sports': 'shristi', 'League': 'shristi', 'forms': 'shristi', 'schools': 'shristi', 'form': 'shristi', 'football);': 'shristi', 'kinds': 'shristi', 'There': 'shristi', 'that': 'shristi', 'influence': 'shristi', 'controlled': 'shristi', 'By': 'shristi', 'rules': 'shristi', 'deliberately': 'shristi', 'example,': 'shristi', 'codification': 'shristi', 'their': 'shristi', 'professional': 'shristi', 'regional': 'shristi', 'spread': 'shristi', 'in': 'shristi', 'references': 'shristi', 'played': 'shristi', 'some': 'shristi', 'include': 'shristi', 'ancient,': 'shristi', 'means': 'shristi', 'football,': 'shristi', 'at': 'shristi', 'Sports': 'shristi', 'back': 'shristi', 'Contemporary': 'shristi', 'association': 'shristi', 'end': 'shristi', 'gridiron': 'shristi', 'traditional,': 'shristi', 'as': 'shristi', 'the': 'shristi', 'football;': 'shristi', '(known': 'shristi', 'and': 'shristi', 'normally': 'shristi', 'public': 'shristi', 'degrees,': 'shristi', 'Australian': 'shristi', 'extent': 'shristi', 'Empire.[7]': 'shristi', 'word': 'shristi', 'Oceania);': 'shristi', 'most': 'shristi', 'football': 'shristi', 'cultural': 'shristi', 'In': 'shristi', 'to': 'shristi', 'commonly': 'shristi', 'league;': 'shristi', 'areas': 'shristi', 'already': 'shristi', 'world.[9]': 'shristi', 'different': 'shristi', 'British': 'shristi', 'century.[5][6]': 'shristi', 'local': 'shristi', 'score': 'shristi', 'games': 'shristi', 'becoming': 'shristi', 'are': 'shristi', 'England,': 'shristi', 'maintain': 'shristi', 'for': 'shristi', 'traced': 'shristi', 'various': 'shristi', 'family': 'shristi'}\n",
      "{'America': 'shristi', 'expansion': 'shristi', 'Unqualified,': 'shristi', 'popular': 'shristi', 'can': 'shristi', '1888,': 'shristi', 'prehistoric': 'shristi', 'of': 'shristi', 'traditional': 'shristi', 'grew': 'shristi', 'union': 'shristi', 'parts': 'shristi', 'kicking': 'shristi', 'number': 'shristi', 'During': 'shristi', 'associations.': 'shristi', 'known': 'shristi', 'sports': 'shristi', 'League': 'shristi', 'forms': 'shristi', 'schools': 'shristi', 'form': 'shristi', 'football);': 'shristi', 'kinds': 'shristi', 'There': 'shristi', 'that': 'shristi', 'influence': 'shristi', 'controlled': 'shristi', 'By': 'shristi', 'rules': 'shristi', 'deliberately': 'shristi', 'example,': 'shristi', 'codification': 'shristi', 'their': 'shristi', 'professional': 'shristi', 'regional': 'shristi', 'spread': 'shristi', 'in': 'shristi', 'references': 'shristi', 'played': 'shristi', 'some': 'shristi', 'include': 'shristi', 'ancient,': 'shristi', 'means': 'shristi', 'football,': 'shristi', 'at': 'shristi', 'Sports': 'shristi', 'back': 'shristi', 'Contemporary': 'shristi', 'association': 'shristi', 'end': 'shristi', 'gridiron': 'shristi', 'traditional,': 'shristi', 'as': 'shristi', 'the': 'shristi', 'football;': 'shristi', '(known': 'shristi', 'and': 'shristi', 'normally': 'shristi', 'public': 'shristi', 'degrees,': 'shristi', 'Australian': 'shristi', 'extent': 'shristi', 'Empire.[7]': 'shristi', 'word': 'shristi', 'Oceania);': 'shristi', 'most': 'shristi', 'football': 'shristi', 'cultural': 'shristi', 'In': 'shristi', 'to': 'shristi', 'commonly': 'shristi', 'league;': 'shristi', 'areas': 'shristi', 'already': 'shristi', 'world.[9]': 'shristi', 'different': 'shristi', 'British': 'shristi', 'century.[5][6]': 'shristi', 'local': 'shristi', 'score': 'shristi', 'games': 'shristi', 'becoming': 'shristi', 'are': 'shristi', 'England,': 'shristi', 'maintain': 'shristi', 'for': 'shristi', 'traced': 'shristi', 'various': 'shristi', 'family': 'shristi', '(specifically': 'shristi'}\n",
      "{'America': 'shristi', 'expansion': 'shristi', 'Unqualified,': 'shristi', 'popular': 'shristi', 'can': 'shristi', '1888,': 'shristi', 'prehistoric': 'shristi', 'of': 'shristi', 'traditional': 'shristi', 'grew': 'shristi', 'union': 'shristi', 'parts': 'shristi', 'kicking': 'shristi', 'number': 'shristi', 'During': 'shristi', 'associations.': 'shristi', 'known': 'shristi', 'sports': 'shristi', 'League': 'shristi', 'forms': 'shristi', 'schools': 'shristi', 'form': 'shristi', 'football);': 'shristi', 'kinds': 'shristi', 'There': 'shristi', 'that': 'shristi', 'influence': 'shristi', 'controlled': 'shristi', 'By': 'shristi', 'rules': 'shristi', 'deliberately': 'shristi', 'example,': 'shristi', 'codification': 'shristi', 'their': 'shristi', 'professional': 'shristi', 'regional': 'shristi', 'spread': 'shristi', 'in': 'shristi', 'references': 'shristi', 'played': 'shristi', 'some': 'shristi', 'include': 'shristi', 'ancient,': 'shristi', 'means': 'shristi', 'football,': 'shristi', 'at': 'shristi', 'Sports': 'shristi', 'back': 'shristi', 'Contemporary': 'shristi', 'association': 'shristi', 'end': 'shristi', 'gridiron': 'shristi', 'traditional,': 'shristi', 'as': 'shristi', 'the': 'shristi', 'football;': 'shristi', '(known': 'shristi', 'and': 'shristi', 'normally': 'shristi', 'public': 'shristi', 'degrees,': 'shristi', 'Australian': 'shristi', 'extent': 'shristi', 'Empire.[7]': 'shristi', 'word': 'shristi', 'Oceania);': 'shristi', 'most': 'shristi', 'football': 'shristi', 'cultural': 'shristi', 'In': 'shristi', 'to': 'shristi', 'commonly': 'shristi', 'league;': 'shristi', 'areas': 'shristi', 'already': 'shristi', 'world.[9]': 'shristi', 'different': 'shristi', 'British': 'shristi', 'century.[5][6]': 'shristi', 'local': 'shristi', 'score': 'shristi', 'games': 'shristi', 'becoming': 'shristi', 'are': 'shristi', 'England,': 'shristi', 'maintain': 'shristi', 'for': 'shristi', 'traced': 'shristi', 'various': 'shristi', 'family': 'shristi', '(specifically': 'shristi', 'involve,': 'shristi'}\n",
      "{'America': 'shristi', 'expansion': 'shristi', 'Unqualified,': 'shristi', 'popular': 'shristi', 'can': 'shristi', '1888,': 'shristi', 'prehistoric': 'shristi', 'of': 'shristi', 'traditional': 'shristi', 'grew': 'shristi', 'union': 'shristi', 'parts': 'shristi', 'kicking': 'shristi', 'number': 'shristi', 'During': 'shristi', 'associations.': 'shristi', 'known': 'shristi', 'sports': 'shristi', 'League': 'shristi', 'forms': 'shristi', 'schools': 'shristi', 'form': 'shristi', 'football);': 'shristi', 'kinds': 'shristi', 'There': 'shristi', 'that': 'shristi', 'influence': 'shristi', 'controlled': 'shristi', 'By': 'shristi', 'rules': 'shristi', 'deliberately': 'shristi', 'example,': 'shristi', 'codification': 'shristi', 'their': 'shristi', 'professional': 'shristi', 'regional': 'shristi', 'spread': 'shristi', 'in': 'shristi', 'references': 'shristi', 'played': 'shristi', 'some': 'shristi', 'include': 'shristi', 'ancient,': 'shristi', 'means': 'shristi', 'football,': 'shristi', 'at': 'shristi', 'Sports': 'shristi', 'back': 'shristi', 'Contemporary': 'shristi', 'association': 'shristi', 'end': 'shristi', 'gridiron': 'shristi', 'traditional,': 'shristi', 'as': 'shristi', 'the': 'shristi', 'football;': 'shristi', '(known': 'shristi', 'and': 'shristi', 'normally': 'shristi', 'public': 'shristi', 'degrees,': 'shristi', 'Australian': 'shristi', 'extent': 'shristi', 'Empire.[7]': 'shristi', 'word': 'shristi', 'Oceania);': 'shristi', 'most': 'shristi', 'football': 'shristi', 'cultural': 'shristi', 'In': 'shristi', 'to': 'shristi', 'commonly': 'shristi', 'league;': 'shristi', 'areas': 'shristi', 'already': 'shristi', 'world.[9]': 'shristi', 'different': 'shristi', 'British': 'shristi', 'century.[5][6]': 'shristi', 'local': 'shristi', 'score': 'shristi', 'games': 'shristi', 'becoming': 'shristi', 'are': 'shristi', 'England,': 'shristi', 'maintain': 'shristi', 'for': 'shristi', 'traced': 'shristi', 'various': 'shristi', 'family': 'shristi', '(specifically': 'shristi', 'involve,': 'shristi', 'founded': 'shristi'}\n",
      "{'America': 'shristi', 'expansion': 'shristi', 'Unqualified,': 'shristi', 'popular': 'shristi', 'can': 'shristi', '1888,': 'shristi', 'prehistoric': 'shristi', 'of': 'shristi', 'traditional': 'shristi', 'grew': 'shristi', 'union': 'shristi', 'parts': 'shristi', 'kicking': 'shristi', 'number': 'shristi', 'During': 'shristi', 'associations.': 'shristi', 'known': 'shristi', 'sports': 'shristi', 'League': 'shristi', 'forms': 'shristi', 'schools': 'shristi', 'form': 'shristi', 'football);': 'shristi', 'kinds': 'shristi', 'There': 'shristi', 'that': 'shristi', 'influence': 'shristi', 'controlled': 'shristi', 'By': 'shristi', 'rules': 'shristi', 'deliberately': 'shristi', 'example,': 'shristi', 'codification': 'shristi', 'their': 'shristi', 'professional': 'shristi', 'regional': 'shristi', 'spread': 'shristi', 'in': 'shristi', 'references': 'shristi', 'played': 'shristi', 'some': 'shristi', 'include': 'shristi', 'ancient,': 'shristi', 'means': 'shristi', 'football,': 'shristi', 'at': 'shristi', 'Sports': 'shristi', 'back': 'shristi', 'Contemporary': 'shristi', 'association': 'shristi', 'end': 'shristi', 'gridiron': 'shristi', 'traditional,': 'shristi', 'as': 'shristi', 'the': 'shristi', 'football;': 'shristi', '(known': 'shristi', 'and': 'shristi', 'normally': 'shristi', 'public': 'shristi', 'degrees,': 'shristi', 'Australian': 'shristi', 'extent': 'shristi', 'Empire.[7]': 'shristi', 'word': 'shristi', 'Oceania);': 'shristi', 'most': 'shristi', 'football': 'shristi', 'cultural': 'shristi', 'In': 'shristi', 'to': 'shristi', 'commonly': 'shristi', 'league;': 'shristi', 'areas': 'shristi', 'already': 'shristi', 'world.[9]': 'shristi', 'different': 'shristi', 'British': 'shristi', 'century.[5][6]': 'shristi', 'local': 'shristi', 'score': 'shristi', 'games': 'shristi', 'becoming': 'shristi', 'are': 'shristi', 'England,': 'shristi', 'maintain': 'shristi', 'for': 'shristi', 'traced': 'shristi', 'various': 'shristi', 'family': 'shristi', '(specifically': 'shristi', 'involve,': 'shristi', 'founded': 'shristi', 'during': 'shristi'}\n",
      "{'America': 'shristi', 'expansion': 'shristi', 'Unqualified,': 'shristi', 'popular': 'shristi', 'can': 'shristi', '1888,': 'shristi', 'prehistoric': 'shristi', 'of': 'shristi', 'traditional': 'shristi', 'grew': 'shristi', 'union': 'shristi', 'parts': 'shristi', 'kicking': 'shristi', 'number': 'shristi', 'During': 'shristi', 'associations.': 'shristi', 'known': 'shristi', 'sports': 'shristi', 'League': 'shristi', 'forms': 'shristi', 'schools': 'shristi', 'form': 'shristi', 'football);': 'shristi', 'kinds': 'shristi', 'There': 'shristi', 'that': 'shristi', 'influence': 'shristi', 'controlled': 'shristi', 'By': 'shristi', 'rules': 'shristi', 'deliberately': 'shristi', 'example,': 'shristi', 'codification': 'shristi', 'their': 'shristi', 'professional': 'shristi', 'regional': 'shristi', 'spread': 'shristi', 'in': 'shristi', 'references': 'shristi', 'played': 'shristi', 'some': 'shristi', 'include': 'shristi', 'ancient,': 'shristi', 'means': 'shristi', 'football,': 'shristi', 'at': 'shristi', 'Sports': 'shristi', 'back': 'shristi', 'Contemporary': 'shristi', 'association': 'shristi', 'end': 'shristi', 'gridiron': 'shristi', 'traditional,': 'shristi', 'as': 'shristi', 'the': 'shristi', 'football;': 'shristi', '(known': 'shristi', 'and': 'shristi', 'normally': 'shristi', 'public': 'shristi', 'degrees,': 'shristi', 'Australian': 'shristi', 'extent': 'shristi', 'Empire.[7]': 'shristi', 'word': 'shristi', 'Oceania);': 'shristi', 'most': 'shristi', 'football': 'shristi', 'cultural': 'shristi', 'In': 'shristi', 'to': 'shristi', 'commonly': 'shristi', 'league;': 'shristi', 'areas': 'shristi', 'already': 'shristi', 'world.[9]': 'shristi', 'different': 'shristi', 'British': 'shristi', 'century.[5][6]': 'shristi', 'local': 'shristi', 'score': 'shristi', 'games': 'shristi', 'becoming': 'shristi', 'are': 'shristi', 'England,': 'shristi', 'maintain': 'shristi', 'for': 'shristi', 'traced': 'shristi', 'various': 'shristi', 'family': 'shristi', '(specifically': 'shristi', 'involve,': 'shristi', 'founded': 'shristi', 'during': 'shristi', 'allowed': 'shristi'}\n",
      "{'America': 'shristi', 'expansion': 'shristi', 'Unqualified,': 'shristi', 'popular': 'shristi', 'can': 'shristi', '1888,': 'shristi', 'prehistoric': 'shristi', 'of': 'shristi', 'traditional': 'shristi', 'grew': 'shristi', 'union': 'shristi', 'parts': 'shristi', 'kicking': 'shristi', 'number': 'shristi', 'During': 'shristi', 'associations.': 'shristi', 'known': 'shristi', 'sports': 'shristi', 'League': 'shristi', 'forms': 'shristi', 'schools': 'shristi', 'form': 'shristi', 'football);': 'shristi', 'kinds': 'shristi', 'There': 'shristi', 'that': 'shristi', 'influence': 'shristi', 'controlled': 'shristi', 'By': 'shristi', 'rules': 'shristi', 'deliberately': 'shristi', 'example,': 'shristi', 'codification': 'shristi', 'their': 'shristi', 'professional': 'shristi', 'regional': 'shristi', 'spread': 'shristi', 'in': 'shristi', 'references': 'shristi', 'played': 'shristi', 'some': 'shristi', 'include': 'shristi', 'ancient,': 'shristi', 'means': 'shristi', 'football,': 'shristi', 'at': 'shristi', 'Sports': 'shristi', 'back': 'shristi', 'Contemporary': 'shristi', 'association': 'shristi', 'end': 'shristi', 'gridiron': 'shristi', 'traditional,': 'shristi', 'as': 'shristi', 'the': 'shristi', 'football;': 'shristi', '(known': 'shristi', 'and': 'shristi', 'normally': 'shristi', 'public': 'shristi', 'degrees,': 'shristi', 'Australian': 'shristi', 'extent': 'shristi', 'Empire.[7]': 'shristi', 'word': 'shristi', 'Oceania);': 'shristi', 'most': 'shristi', 'football': 'shristi', 'cultural': 'shristi', 'In': 'shristi', 'to': 'shristi', 'commonly': 'shristi', 'league;': 'shristi', 'areas': 'shristi', 'already': 'shristi', 'world.[9]': 'shristi', 'different': 'shristi', 'British': 'shristi', 'century.[5][6]': 'shristi', 'local': 'shristi', 'score': 'shristi', 'games': 'shristi', 'becoming': 'shristi', 'are': 'shristi', 'England,': 'shristi', 'maintain': 'shristi', 'for': 'shristi', 'traced': 'shristi', 'various': 'shristi', 'family': 'shristi', '(specifically': 'shristi', 'involve,': 'shristi', 'founded': 'shristi', 'during': 'shristi', 'allowed': 'shristi', 'varying': 'shristi'}\n",
      "{'America': 'shristi', 'expansion': 'shristi', 'Unqualified,': 'shristi', 'popular': 'shristi', 'can': 'shristi', '1888,': 'shristi', 'prehistoric': 'shristi', 'of': 'shristi', 'traditional': 'shristi', 'grew': 'shristi', 'union': 'shristi', 'parts': 'shristi', 'kicking': 'shristi', 'number': 'shristi', 'During': 'shristi', 'associations.': 'shristi', 'known': 'shristi', 'sports': 'shristi', 'League': 'shristi', 'forms': 'shristi', 'schools': 'shristi', 'form': 'shristi', 'football);': 'shristi', 'kinds': 'shristi', 'There': 'shristi', 'that': 'shristi', 'influence': 'shristi', 'controlled': 'shristi', 'By': 'shristi', 'rules': 'shristi', 'deliberately': 'shristi', 'example,': 'shristi', 'codification': 'shristi', 'their': 'shristi', 'professional': 'shristi', 'regional': 'shristi', 'spread': 'shristi', 'in': 'shristi', 'references': 'shristi', 'played': 'shristi', 'some': 'shristi', 'include': 'shristi', 'ancient,': 'shristi', 'means': 'shristi', 'football,': 'shristi', 'at': 'shristi', 'Sports': 'shristi', 'back': 'shristi', 'Contemporary': 'shristi', 'association': 'shristi', 'end': 'shristi', 'gridiron': 'shristi', 'traditional,': 'shristi', 'as': 'shristi', 'the': 'shristi', 'football;': 'shristi', '(known': 'shristi', 'and': 'shristi', 'normally': 'shristi', 'public': 'shristi', 'degrees,': 'shristi', 'Australian': 'shristi', 'extent': 'shristi', 'Empire.[7]': 'shristi', 'word': 'shristi', 'Oceania);': 'shristi', 'most': 'shristi', 'football': 'shristi', 'cultural': 'shristi', 'In': 'shristi', 'to': 'shristi', 'commonly': 'shristi', 'league;': 'shristi', 'areas': 'shristi', 'already': 'shristi', 'world.[9]': 'shristi', 'different': 'shristi', 'British': 'shristi', 'century.[5][6]': 'shristi', 'local': 'shristi', 'score': 'shristi', 'games': 'shristi', 'becoming': 'shristi', 'are': 'shristi', 'England,': 'shristi', 'maintain': 'shristi', 'for': 'shristi', 'traced': 'shristi', 'various': 'shristi', 'family': 'shristi', '(specifically': 'shristi', 'involve,': 'shristi', 'founded': 'shristi', 'during': 'shristi', 'allowed': 'shristi', 'varying': 'shristi', 'outside': 'shristi'}\n",
      "{'America': 'shristi', 'expansion': 'shristi', 'Unqualified,': 'shristi', 'popular': 'shristi', 'can': 'shristi', '1888,': 'shristi', 'prehistoric': 'shristi', 'of': 'shristi', 'traditional': 'shristi', 'grew': 'shristi', 'union': 'shristi', 'parts': 'shristi', 'kicking': 'shristi', 'number': 'shristi', 'During': 'shristi', 'associations.': 'shristi', 'known': 'shristi', 'sports': 'shristi', 'League': 'shristi', 'forms': 'shristi', 'schools': 'shristi', 'form': 'shristi', 'football);': 'shristi', 'kinds': 'shristi', 'There': 'shristi', 'that': 'shristi', 'influence': 'shristi', 'controlled': 'shristi', 'By': 'shristi', 'rules': 'shristi', 'deliberately': 'shristi', 'example,': 'shristi', 'codification': 'shristi', 'their': 'shristi', 'professional': 'shristi', 'regional': 'shristi', 'spread': 'shristi', 'in': 'shristi', 'references': 'shristi', 'played': 'shristi', 'some': 'shristi', 'include': 'shristi', 'ancient,': 'shristi', 'means': 'shristi', 'football,': 'shristi', 'at': 'shristi', 'Sports': 'shristi', 'back': 'shristi', 'Contemporary': 'shristi', 'association': 'shristi', 'end': 'shristi', 'gridiron': 'shristi', 'traditional,': 'shristi', 'as': 'shristi', 'the': 'shristi', 'football;': 'shristi', '(known': 'shristi', 'and': 'shristi', 'normally': 'shristi', 'public': 'shristi', 'degrees,': 'shristi', 'Australian': 'shristi', 'extent': 'shristi', 'Empire.[7]': 'shristi', 'word': 'shristi', 'Oceania);': 'shristi', 'most': 'shristi', 'football': 'shristi', 'cultural': 'shristi', 'In': 'shristi', 'to': 'shristi', 'commonly': 'shristi', 'league;': 'shristi', 'areas': 'shristi', 'already': 'shristi', 'world.[9]': 'shristi', 'different': 'shristi', 'British': 'shristi', 'century.[5][6]': 'shristi', 'local': 'shristi', 'score': 'shristi', 'games': 'shristi', 'becoming': 'shristi', 'are': 'shristi', 'England,': 'shristi', 'maintain': 'shristi', 'for': 'shristi', 'traced': 'shristi', 'various': 'shristi', 'family': 'shristi', '(specifically': 'shristi', 'involve,': 'shristi', 'founded': 'shristi', 'during': 'shristi', 'allowed': 'shristi', 'varying': 'shristi', 'outside': 'shristi', 'North': 'shristi'}\n",
      "{'America': 'shristi', 'expansion': 'shristi', 'Unqualified,': 'shristi', 'popular': 'shristi', 'can': 'shristi', '1888,': 'shristi', 'prehistoric': 'shristi', 'of': 'shristi', 'traditional': 'shristi', 'grew': 'shristi', 'union': 'shristi', 'parts': 'shristi', 'kicking': 'shristi', 'number': 'shristi', 'During': 'shristi', 'associations.': 'shristi', 'known': 'shristi', 'sports': 'shristi', 'League': 'shristi', 'forms': 'shristi', 'schools': 'shristi', 'form': 'shristi', 'football);': 'shristi', 'kinds': 'shristi', 'There': 'shristi', 'that': 'shristi', 'influence': 'shristi', 'controlled': 'shristi', 'By': 'shristi', 'rules': 'shristi', 'deliberately': 'shristi', 'example,': 'shristi', 'codification': 'shristi', 'their': 'shristi', 'professional': 'shristi', 'regional': 'shristi', 'spread': 'shristi', 'in': 'shristi', 'references': 'shristi', 'played': 'shristi', 'some': 'shristi', 'include': 'shristi', 'ancient,': 'shristi', 'means': 'shristi', 'football,': 'shristi', 'at': 'shristi', 'Sports': 'shristi', 'back': 'shristi', 'Contemporary': 'shristi', 'association': 'shristi', 'end': 'shristi', 'gridiron': 'shristi', 'traditional,': 'shristi', 'as': 'shristi', 'the': 'shristi', 'football;': 'shristi', '(known': 'shristi', 'and': 'shristi', 'normally': 'shristi', 'public': 'shristi', 'degrees,': 'shristi', 'Australian': 'shristi', 'extent': 'shristi', 'Empire.[7]': 'shristi', 'word': 'shristi', 'Oceania);': 'shristi', 'most': 'shristi', 'football': 'shristi', 'cultural': 'shristi', 'In': 'shristi', 'to': 'shristi', 'commonly': 'shristi', 'league;': 'shristi', 'areas': 'shristi', 'already': 'shristi', 'world.[9]': 'shristi', 'different': 'shristi', 'British': 'shristi', 'century.[5][6]': 'shristi', 'local': 'shristi', 'score': 'shristi', 'games': 'shristi', 'becoming': 'shristi', 'are': 'shristi', 'England,': 'shristi', 'maintain': 'shristi', 'for': 'shristi', 'traced': 'shristi', 'various': 'shristi', 'family': 'shristi', '(specifically': 'shristi', 'involve,': 'shristi', 'founded': 'shristi', 'during': 'shristi', 'allowed': 'shristi', 'varying': 'shristi', 'outside': 'shristi', 'North': 'shristi', 'called': 'shristi'}\n",
      "{'America': 'shristi', 'expansion': 'shristi', 'Unqualified,': 'shristi', 'popular': 'shristi', 'can': 'shristi', '1888,': 'shristi', 'prehistoric': 'shristi', 'of': 'shristi', 'traditional': 'shristi', 'grew': 'shristi', 'union': 'shristi', 'parts': 'shristi', 'kicking': 'shristi', 'number': 'shristi', 'During': 'shristi', 'associations.': 'shristi', 'known': 'shristi', 'sports': 'shristi', 'League': 'shristi', 'forms': 'shristi', 'schools': 'shristi', 'form': 'shristi', 'football);': 'shristi', 'kinds': 'shristi', 'There': 'shristi', 'that': 'shristi', 'influence': 'shristi', 'controlled': 'shristi', 'By': 'shristi', 'rules': 'shristi', 'deliberately': 'shristi', 'example,': 'shristi', 'codification': 'shristi', 'their': 'shristi', 'professional': 'shristi', 'regional': 'shristi', 'spread': 'shristi', 'in': 'shristi', 'references': 'shristi', 'played': 'shristi', 'some': 'shristi', 'include': 'shristi', 'ancient,': 'shristi', 'means': 'shristi', 'football,': 'shristi', 'at': 'shristi', 'Sports': 'shristi', 'back': 'shristi', 'Contemporary': 'shristi', 'association': 'shristi', 'end': 'shristi', 'gridiron': 'shristi', 'traditional,': 'shristi', 'as': 'shristi', 'the': 'shristi', 'football;': 'shristi', '(known': 'shristi', 'and': 'shristi', 'normally': 'shristi', 'public': 'shristi', 'degrees,': 'shristi', 'Australian': 'shristi', 'extent': 'shristi', 'Empire.[7]': 'shristi', 'word': 'shristi', 'Oceania);': 'shristi', 'most': 'shristi', 'football': 'shristi', 'cultural': 'shristi', 'In': 'shristi', 'to': 'shristi', 'commonly': 'shristi', 'league;': 'shristi', 'areas': 'shristi', 'already': 'shristi', 'world.[9]': 'shristi', 'different': 'shristi', 'British': 'shristi', 'century.[5][6]': 'shristi', 'local': 'shristi', 'score': 'shristi', 'games': 'shristi', 'becoming': 'shristi', 'are': 'shristi', 'England,': 'shristi', 'maintain': 'shristi', 'for': 'shristi', 'traced': 'shristi', 'various': 'shristi', 'family': 'shristi', '(specifically': 'shristi', 'involve,': 'shristi', 'founded': 'shristi', 'during': 'shristi', 'allowed': 'shristi', 'varying': 'shristi', 'outside': 'shristi', 'North': 'shristi', 'called': 'shristi', 'goal.': 'shristi'}\n",
      "{'America': 'shristi', 'expansion': 'shristi', 'Unqualified,': 'shristi', 'popular': 'shristi', 'can': 'shristi', '1888,': 'shristi', 'prehistoric': 'shristi', 'of': 'shristi', 'traditional': 'shristi', 'grew': 'shristi', 'union': 'shristi', 'parts': 'shristi', 'kicking': 'shristi', 'number': 'shristi', 'During': 'shristi', 'associations.': 'shristi', 'known': 'shristi', 'sports': 'shristi', 'League': 'shristi', 'forms': 'shristi', 'schools': 'shristi', 'form': 'shristi', 'football);': 'shristi', 'kinds': 'shristi', 'There': 'shristi', 'that': 'shristi', 'influence': 'shristi', 'controlled': 'shristi', 'By': 'shristi', 'rules': 'shristi', 'deliberately': 'shristi', 'example,': 'shristi', 'codification': 'shristi', 'their': 'shristi', 'professional': 'shristi', 'regional': 'shristi', 'spread': 'shristi', 'in': 'shristi', 'references': 'shristi', 'played': 'shristi', 'some': 'shristi', 'include': 'shristi', 'ancient,': 'shristi', 'means': 'shristi', 'football,': 'shristi', 'at': 'shristi', 'Sports': 'shristi', 'back': 'shristi', 'Contemporary': 'shristi', 'association': 'shristi', 'end': 'shristi', 'gridiron': 'shristi', 'traditional,': 'shristi', 'as': 'shristi', 'the': 'shristi', 'football;': 'shristi', '(known': 'shristi', 'and': 'shristi', 'normally': 'shristi', 'public': 'shristi', 'degrees,': 'shristi', 'Australian': 'shristi', 'extent': 'shristi', 'Empire.[7]': 'shristi', 'word': 'shristi', 'Oceania);': 'shristi', 'most': 'shristi', 'football': 'shristi', 'cultural': 'shristi', 'In': 'shristi', 'to': 'shristi', 'commonly': 'shristi', 'league;': 'shristi', 'areas': 'shristi', 'already': 'shristi', 'world.[9]': 'shristi', 'different': 'shristi', 'British': 'shristi', 'century.[5][6]': 'shristi', 'local': 'shristi', 'score': 'shristi', 'games': 'shristi', 'becoming': 'shristi', 'are': 'shristi', 'England,': 'shristi', 'maintain': 'shristi', 'for': 'shristi', 'traced': 'shristi', 'various': 'shristi', 'family': 'shristi', '(specifically': 'shristi', 'involve,': 'shristi', 'founded': 'shristi', 'during': 'shristi', 'allowed': 'shristi', 'varying': 'shristi', 'outside': 'shristi', 'North': 'shristi', 'called': 'shristi', 'goal.': 'shristi', 'ball': 'shristi'}\n",
      "{'America': 'shristi', 'expansion': 'shristi', 'Unqualified,': 'shristi', 'popular': 'shristi', 'can': 'shristi', '1888,': 'shristi', 'prehistoric': 'shristi', 'of': 'shristi', 'traditional': 'shristi', 'grew': 'shristi', 'union': 'shristi', 'parts': 'shristi', 'kicking': 'shristi', 'number': 'shristi', 'During': 'shristi', 'associations.': 'shristi', 'known': 'shristi', 'sports': 'shristi', 'League': 'shristi', 'forms': 'shristi', 'schools': 'shristi', 'form': 'shristi', 'football);': 'shristi', 'kinds': 'shristi', 'There': 'shristi', 'that': 'shristi', 'influence': 'shristi', 'controlled': 'shristi', 'By': 'shristi', 'rules': 'shristi', 'deliberately': 'shristi', 'example,': 'shristi', 'codification': 'shristi', 'their': 'shristi', 'professional': 'shristi', 'regional': 'shristi', 'spread': 'shristi', 'in': 'shristi', 'references': 'shristi', 'played': 'shristi', 'some': 'shristi', 'include': 'shristi', 'ancient,': 'shristi', 'means': 'shristi', 'football,': 'shristi', 'at': 'shristi', 'Sports': 'shristi', 'back': 'shristi', 'Contemporary': 'shristi', 'association': 'shristi', 'end': 'shristi', 'gridiron': 'shristi', 'traditional,': 'shristi', 'as': 'shristi', 'the': 'shristi', 'football;': 'shristi', '(known': 'shristi', 'and': 'shristi', 'normally': 'shristi', 'public': 'shristi', 'degrees,': 'shristi', 'Australian': 'shristi', 'extent': 'shristi', 'Empire.[7]': 'shristi', 'word': 'shristi', 'Oceania);': 'shristi', 'most': 'shristi', 'football': 'shristi', 'cultural': 'shristi', 'In': 'shristi', 'to': 'shristi', 'commonly': 'shristi', 'league;': 'shristi', 'areas': 'shristi', 'already': 'shristi', 'world.[9]': 'shristi', 'different': 'shristi', 'British': 'shristi', 'century.[5][6]': 'shristi', 'local': 'shristi', 'score': 'shristi', 'games': 'shristi', 'becoming': 'shristi', 'are': 'shristi', 'England,': 'shristi', 'maintain': 'shristi', 'for': 'shristi', 'traced': 'shristi', 'various': 'shristi', 'family': 'shristi', '(specifically': 'shristi', 'involve,': 'shristi', 'founded': 'shristi', 'during': 'shristi', 'allowed': 'shristi', 'varying': 'shristi', 'outside': 'shristi', 'North': 'shristi', 'called': 'shristi', 'goal.': 'shristi', 'ball': 'shristi', '19th': 'shristi'}\n",
      "{'America': 'shristi', 'expansion': 'shristi', 'Unqualified,': 'shristi', 'popular': 'shristi', 'can': 'shristi', '1888,': 'shristi', 'prehistoric': 'shristi', 'of': 'shristi', 'traditional': 'shristi', 'grew': 'shristi', 'union': 'shristi', 'parts': 'shristi', 'kicking': 'shristi', 'number': 'shristi', 'During': 'shristi', 'associations.': 'shristi', 'known': 'shristi', 'sports': 'shristi', 'League': 'shristi', 'forms': 'shristi', 'schools': 'shristi', 'form': 'shristi', 'football);': 'shristi', 'kinds': 'shristi', 'There': 'shristi', 'that': 'shristi', 'influence': 'shristi', 'controlled': 'shristi', 'By': 'shristi', 'rules': 'shristi', 'deliberately': 'shristi', 'example,': 'shristi', 'codification': 'shristi', 'their': 'shristi', 'professional': 'shristi', 'regional': 'shristi', 'spread': 'shristi', 'in': 'shristi', 'references': 'shristi', 'played': 'shristi', 'some': 'shristi', 'include': 'shristi', 'ancient,': 'shristi', 'means': 'shristi', 'football,': 'shristi', 'at': 'shristi', 'Sports': 'shristi', 'back': 'shristi', 'Contemporary': 'shristi', 'association': 'shristi', 'end': 'shristi', 'gridiron': 'shristi', 'traditional,': 'shristi', 'as': 'shristi', 'the': 'shristi', 'football;': 'shristi', '(known': 'shristi', 'and': 'shristi', 'normally': 'shristi', 'public': 'shristi', 'degrees,': 'shristi', 'Australian': 'shristi', 'extent': 'shristi', 'Empire.[7]': 'shristi', 'word': 'shristi', 'Oceania);': 'shristi', 'most': 'shristi', 'football': 'shristi', 'cultural': 'shristi', 'In': 'shristi', 'to': 'shristi', 'commonly': 'shristi', 'league;': 'shristi', 'areas': 'shristi', 'already': 'shristi', 'world.[9]': 'shristi', 'different': 'shristi', 'British': 'shristi', 'century.[5][6]': 'shristi', 'local': 'shristi', 'score': 'shristi', 'games': 'shristi', 'becoming': 'shristi', 'are': 'shristi', 'England,': 'shristi', 'maintain': 'shristi', 'for': 'shristi', 'traced': 'shristi', 'various': 'shristi', 'family': 'shristi', '(specifically': 'shristi', 'involve,': 'shristi', 'founded': 'shristi', 'during': 'shristi', 'allowed': 'shristi', 'varying': 'shristi', 'outside': 'shristi', 'North': 'shristi', 'called': 'shristi', 'goal.': 'shristi', 'ball': 'shristi', '19th': 'shristi', 'developing:': 'shristi'}\n",
      "{'America': 'shristi', 'expansion': 'shristi', 'Unqualified,': 'shristi', 'popular': 'shristi', 'can': 'shristi', '1888,': 'shristi', 'prehistoric': 'shristi', 'of': 'shristi', 'traditional': 'shristi', 'grew': 'shristi', 'union': 'shristi', 'parts': 'shristi', 'kicking': 'shristi', 'number': 'shristi', 'During': 'shristi', 'associations.': 'shristi', 'known': 'shristi', 'sports': 'shristi', 'League': 'shristi', 'forms': 'shristi', 'schools': 'shristi', 'form': 'shristi', 'football);': 'shristi', 'kinds': 'shristi', 'There': 'shristi', 'that': 'shristi', 'influence': 'shristi', 'controlled': 'shristi', 'By': 'shristi', 'rules': 'shristi', 'deliberately': 'shristi', 'example,': 'shristi', 'codification': 'shristi', 'their': 'shristi', 'professional': 'shristi', 'regional': 'shristi', 'spread': 'shristi', 'in': 'shristi', 'references': 'shristi', 'played': 'shristi', 'some': 'shristi', 'include': 'shristi', 'ancient,': 'shristi', 'means': 'shristi', 'football,': 'shristi', 'at': 'shristi', 'Sports': 'shristi', 'back': 'shristi', 'Contemporary': 'shristi', 'association': 'shristi', 'end': 'shristi', 'gridiron': 'shristi', 'traditional,': 'shristi', 'as': 'shristi', 'the': 'shristi', 'football;': 'shristi', '(known': 'shristi', 'and': 'shristi', 'normally': 'shristi', 'public': 'shristi', 'degrees,': 'shristi', 'Australian': 'shristi', 'extent': 'shristi', 'Empire.[7]': 'shristi', 'word': 'shristi', 'Oceania);': 'shristi', 'most': 'shristi', 'football': 'shristi', 'cultural': 'shristi', 'In': 'shristi', 'to': 'shristi', 'commonly': 'shristi', 'league;': 'shristi', 'areas': 'shristi', 'already': 'shristi', 'world.[9]': 'shristi', 'different': 'shristi', 'British': 'shristi', 'century.[5][6]': 'shristi', 'local': 'shristi', 'score': 'shristi', 'games': 'shristi', 'becoming': 'shristi', 'are': 'shristi', 'England,': 'shristi', 'maintain': 'shristi', 'for': 'shristi', 'traced': 'shristi', 'various': 'shristi', 'family': 'shristi', '(specifically': 'shristi', 'involve,': 'shristi', 'founded': 'shristi', 'during': 'shristi', 'allowed': 'shristi', 'varying': 'shristi', 'outside': 'shristi', 'North': 'shristi', 'called': 'shristi', 'goal.': 'shristi', 'ball': 'shristi', '19th': 'shristi', 'developing:': 'shristi', 'codes': 'shristi'}\n",
      "{'America': 'shristi', 'expansion': 'shristi', 'Unqualified,': 'shristi', 'popular': 'shristi', 'can': 'shristi', '1888,': 'shristi', 'prehistoric': 'shristi', 'of': 'shristi', 'traditional': 'shristi', 'grew': 'shristi', 'union': 'shristi', 'parts': 'shristi', 'kicking': 'shristi', 'number': 'shristi', 'During': 'shristi', 'associations.': 'shristi', 'known': 'shristi', 'sports': 'shristi', 'League': 'shristi', 'forms': 'shristi', 'schools': 'shristi', 'form': 'shristi', 'football);': 'shristi', 'kinds': 'shristi', 'There': 'shristi', 'that': 'shristi', 'influence': 'shristi', 'controlled': 'shristi', 'By': 'shristi', 'rules': 'shristi', 'deliberately': 'shristi', 'example,': 'shristi', 'codification': 'shristi', 'their': 'shristi', 'professional': 'shristi', 'regional': 'shristi', 'spread': 'shristi', 'in': 'shristi', 'references': 'shristi', 'played': 'shristi', 'some': 'shristi', 'include': 'shristi', 'ancient,': 'shristi', 'means': 'shristi', 'football,': 'shristi', 'at': 'shristi', 'Sports': 'shristi', 'back': 'shristi', 'Contemporary': 'shristi', 'association': 'shristi', 'end': 'shristi', 'gridiron': 'shristi', 'traditional,': 'shristi', 'as': 'shristi', 'the': 'shristi', 'football;': 'shristi', '(known': 'shristi', 'and': 'shristi', 'normally': 'shristi', 'public': 'shristi', 'degrees,': 'shristi', 'Australian': 'shristi', 'extent': 'shristi', 'Empire.[7]': 'shristi', 'word': 'shristi', 'Oceania);': 'shristi', 'most': 'shristi', 'football': 'shristi', 'cultural': 'shristi', 'In': 'shristi', 'to': 'shristi', 'commonly': 'shristi', 'league;': 'shristi', 'areas': 'shristi', 'already': 'shristi', 'world.[9]': 'shristi', 'different': 'shristi', 'British': 'shristi', 'century.[5][6]': 'shristi', 'local': 'shristi', 'score': 'shristi', 'games': 'shristi', 'becoming': 'shristi', 'are': 'shristi', 'England,': 'shristi', 'maintain': 'shristi', 'for': 'shristi', 'traced': 'shristi', 'various': 'shristi', 'family': 'shristi', '(specifically': 'shristi', 'involve,': 'shristi', 'founded': 'shristi', 'during': 'shristi', 'allowed': 'shristi', 'varying': 'shristi', 'outside': 'shristi', 'North': 'shristi', 'called': 'shristi', 'goal.': 'shristi', 'ball': 'shristi', '19th': 'shristi', 'developing:': 'shristi', 'codes': 'shristi', 'Football': 'shristi'}\n",
      "{'America': 'shristi', 'expansion': 'shristi', 'Unqualified,': 'shristi', 'popular': 'shristi', 'can': 'shristi', '1888,': 'shristi', 'prehistoric': 'shristi', 'of': 'shristi', 'traditional': 'shristi', 'grew': 'shristi', 'union': 'shristi', 'parts': 'shristi', 'kicking': 'shristi', 'number': 'shristi', 'During': 'shristi', 'associations.': 'shristi', 'known': 'shristi', 'sports': 'shristi', 'League': 'shristi', 'forms': 'shristi', 'schools': 'shristi', 'form': 'shristi', 'football);': 'shristi', 'kinds': 'shristi', 'There': 'shristi', 'that': 'shristi', 'influence': 'shristi', 'controlled': 'shristi', 'By': 'shristi', 'rules': 'shristi', 'deliberately': 'shristi', 'example,': 'shristi', 'codification': 'shristi', 'their': 'shristi', 'professional': 'shristi', 'regional': 'shristi', 'spread': 'shristi', 'in': 'shristi', 'references': 'shristi', 'played': 'shristi', 'some': 'shristi', 'include': 'shristi', 'ancient,': 'shristi', 'means': 'shristi', 'football,': 'shristi', 'at': 'shristi', 'Sports': 'shristi', 'back': 'shristi', 'Contemporary': 'shristi', 'association': 'shristi', 'end': 'shristi', 'gridiron': 'shristi', 'traditional,': 'shristi', 'as': 'shristi', 'the': 'shristi', 'football;': 'shristi', '(known': 'shristi', 'and': 'shristi', 'normally': 'shristi', 'public': 'shristi', 'degrees,': 'shristi', 'Australian': 'shristi', 'extent': 'shristi', 'Empire.[7]': 'shristi', 'word': 'shristi', 'Oceania);': 'shristi', 'most': 'shristi', 'football': 'shristi', 'cultural': 'shristi', 'In': 'shristi', 'to': 'shristi', 'commonly': 'shristi', 'league;': 'shristi', 'areas': 'shristi', 'already': 'shristi', 'world.[9]': 'shristi', 'different': 'shristi', 'British': 'shristi', 'century.[5][6]': 'shristi', 'local': 'shristi', 'score': 'shristi', 'games': 'shristi', 'becoming': 'shristi', 'are': 'shristi', 'England,': 'shristi', 'maintain': 'shristi', 'for': 'shristi', 'traced': 'shristi', 'various': 'shristi', 'family': 'shristi', '(specifically': 'shristi', 'involve,': 'shristi', 'founded': 'shristi', 'during': 'shristi', 'allowed': 'shristi', 'varying': 'shristi', 'outside': 'shristi', 'North': 'shristi', 'called': 'shristi', 'goal.': 'shristi', 'ball': 'shristi', '19th': 'shristi', 'developing:': 'shristi', 'codes': 'shristi', 'Football': 'shristi', 'be': 'shristi'}\n",
      "{'America': 'shristi', 'expansion': 'shristi', 'Unqualified,': 'shristi', 'popular': 'shristi', 'can': 'shristi', '1888,': 'shristi', 'prehistoric': 'shristi', 'of': 'shristi', 'traditional': 'shristi', 'grew': 'shristi', 'union': 'shristi', 'parts': 'shristi', 'kicking': 'shristi', 'number': 'shristi', 'During': 'shristi', 'associations.': 'shristi', 'known': 'shristi', 'sports': 'shristi', 'League': 'shristi', 'forms': 'shristi', 'schools': 'shristi', 'form': 'shristi', 'football);': 'shristi', 'kinds': 'shristi', 'There': 'shristi', 'that': 'shristi', 'influence': 'shristi', 'controlled': 'shristi', 'By': 'shristi', 'rules': 'shristi', 'deliberately': 'shristi', 'example,': 'shristi', 'codification': 'shristi', 'their': 'shristi', 'professional': 'shristi', 'regional': 'shristi', 'spread': 'shristi', 'in': 'shristi', 'references': 'shristi', 'played': 'shristi', 'some': 'shristi', 'include': 'shristi', 'ancient,': 'shristi', 'means': 'shristi', 'football,': 'shristi', 'at': 'shristi', 'Sports': 'shristi', 'back': 'shristi', 'Contemporary': 'shristi', 'association': 'shristi', 'end': 'shristi', 'gridiron': 'shristi', 'traditional,': 'shristi', 'as': 'shristi', 'the': 'shristi', 'football;': 'shristi', '(known': 'shristi', 'and': 'shristi', 'normally': 'shristi', 'public': 'shristi', 'degrees,': 'shristi', 'Australian': 'shristi', 'extent': 'shristi', 'Empire.[7]': 'shristi', 'word': 'shristi', 'Oceania);': 'shristi', 'most': 'shristi', 'football': 'shristi', 'cultural': 'shristi', 'In': 'shristi', 'to': 'shristi', 'commonly': 'shristi', 'league;': 'shristi', 'areas': 'shristi', 'already': 'shristi', 'world.[9]': 'shristi', 'different': 'shristi', 'British': 'shristi', 'century.[5][6]': 'shristi', 'local': 'shristi', 'score': 'shristi', 'games': 'shristi', 'becoming': 'shristi', 'are': 'shristi', 'England,': 'shristi', 'maintain': 'shristi', 'for': 'shristi', 'traced': 'shristi', 'various': 'shristi', 'family': 'shristi', '(specifically': 'shristi', 'involve,': 'shristi', 'founded': 'shristi', 'during': 'shristi', 'allowed': 'shristi', 'varying': 'shristi', 'outside': 'shristi', 'North': 'shristi', 'called': 'shristi', 'goal.': 'shristi', 'ball': 'shristi', '19th': 'shristi', 'developing:': 'shristi', 'codes': 'shristi', 'Football': 'shristi', 'be': 'shristi', 'directly': 'shristi'}\n",
      "{'America': 'shristi', 'expansion': 'shristi', 'Unqualified,': 'shristi', 'popular': 'shristi', 'can': 'shristi', '1888,': 'shristi', 'prehistoric': 'shristi', 'of': 'shristi', 'traditional': 'shristi', 'grew': 'shristi', 'union': 'shristi', 'parts': 'shristi', 'kicking': 'shristi', 'number': 'shristi', 'During': 'shristi', 'associations.': 'shristi', 'known': 'shristi', 'sports': 'shristi', 'League': 'shristi', 'forms': 'shristi', 'schools': 'shristi', 'form': 'shristi', 'football);': 'shristi', 'kinds': 'shristi', 'There': 'shristi', 'that': 'shristi', 'influence': 'shristi', 'controlled': 'shristi', 'By': 'shristi', 'rules': 'shristi', 'deliberately': 'shristi', 'example,': 'shristi', 'codification': 'shristi', 'their': 'shristi', 'professional': 'shristi', 'regional': 'shristi', 'spread': 'shristi', 'in': 'shristi', 'references': 'shristi', 'played': 'shristi', 'some': 'shristi', 'include': 'shristi', 'ancient,': 'shristi', 'means': 'shristi', 'football,': 'shristi', 'at': 'shristi', 'Sports': 'shristi', 'back': 'shristi', 'Contemporary': 'shristi', 'association': 'shristi', 'end': 'shristi', 'gridiron': 'shristi', 'traditional,': 'shristi', 'as': 'shristi', 'the': 'shristi', 'football;': 'shristi', '(known': 'shristi', 'and': 'shristi', 'normally': 'shristi', 'public': 'shristi', 'degrees,': 'shristi', 'Australian': 'shristi', 'extent': 'shristi', 'Empire.[7]': 'shristi', 'word': 'shristi', 'Oceania);': 'shristi', 'most': 'shristi', 'football': 'shristi', 'cultural': 'shristi', 'In': 'shristi', 'to': 'shristi', 'commonly': 'shristi', 'league;': 'shristi', 'areas': 'shristi', 'already': 'shristi', 'world.[9]': 'shristi', 'different': 'shristi', 'British': 'shristi', 'century.[5][6]': 'shristi', 'local': 'shristi', 'score': 'shristi', 'games': 'shristi', 'becoming': 'shristi', 'are': 'shristi', 'England,': 'shristi', 'maintain': 'shristi', 'for': 'shristi', 'traced': 'shristi', 'various': 'shristi', 'family': 'shristi', '(specifically': 'shristi', 'involve,': 'shristi', 'founded': 'shristi', 'during': 'shristi', 'allowed': 'shristi', 'varying': 'shristi', 'outside': 'shristi', 'North': 'shristi', 'called': 'shristi', 'goal.': 'shristi', 'ball': 'shristi', '19th': 'shristi', 'developing:': 'shristi', 'codes': 'shristi', 'Football': 'shristi', 'be': 'shristi', 'directly': 'shristi', 'many': 'shristi'}\n",
      "{'America': 'shristi', 'expansion': 'shristi', 'Unqualified,': 'shristi', 'popular': 'shristi', 'can': 'shristi', '1888,': 'shristi', 'prehistoric': 'shristi', 'of': 'shristi', 'traditional': 'shristi', 'grew': 'shristi', 'union': 'shristi', 'parts': 'shristi', 'kicking': 'shristi', 'number': 'shristi', 'During': 'shristi', 'associations.': 'shristi', 'known': 'shristi', 'sports': 'shristi', 'League': 'shristi', 'forms': 'shristi', 'schools': 'shristi', 'form': 'shristi', 'football);': 'shristi', 'kinds': 'shristi', 'There': 'shristi', 'that': 'shristi', 'influence': 'shristi', 'controlled': 'shristi', 'By': 'shristi', 'rules': 'shristi', 'deliberately': 'shristi', 'example,': 'shristi', 'codification': 'shristi', 'their': 'shristi', 'professional': 'shristi', 'regional': 'shristi', 'spread': 'shristi', 'in': 'shristi', 'references': 'shristi', 'played': 'shristi', 'some': 'shristi', 'include': 'shristi', 'ancient,': 'shristi', 'means': 'shristi', 'football,': 'shristi', 'at': 'shristi', 'Sports': 'shristi', 'back': 'shristi', 'Contemporary': 'shristi', 'association': 'shristi', 'end': 'shristi', 'gridiron': 'shristi', 'traditional,': 'shristi', 'as': 'shristi', 'the': 'shristi', 'football;': 'shristi', '(known': 'shristi', 'and': 'shristi', 'normally': 'shristi', 'public': 'shristi', 'degrees,': 'shristi', 'Australian': 'shristi', 'extent': 'shristi', 'Empire.[7]': 'shristi', 'word': 'shristi', 'Oceania);': 'shristi', 'most': 'shristi', 'football': 'shristi', 'cultural': 'shristi', 'In': 'shristi', 'to': 'shristi', 'commonly': 'shristi', 'league;': 'shristi', 'areas': 'shristi', 'already': 'shristi', 'world.[9]': 'shristi', 'different': 'shristi', 'British': 'shristi', 'century.[5][6]': 'shristi', 'local': 'shristi', 'score': 'shristi', 'games': 'shristi', 'becoming': 'shristi', 'are': 'shristi', 'England,': 'shristi', 'maintain': 'shristi', 'for': 'shristi', 'traced': 'shristi', 'various': 'shristi', 'family': 'shristi', '(specifically': 'shristi', 'involve,': 'shristi', 'founded': 'shristi', 'during': 'shristi', 'allowed': 'shristi', 'varying': 'shristi', 'outside': 'shristi', 'North': 'shristi', 'called': 'shristi', 'goal.': 'shristi', 'ball': 'shristi', '19th': 'shristi', 'developing:': 'shristi', 'codes': 'shristi', 'Football': 'shristi', 'be': 'shristi', 'directly': 'shristi', 'many': 'shristi', 'several': 'shristi'}\n",
      "{'America': 'shristi', 'expansion': 'shristi', 'Unqualified,': 'shristi', 'popular': 'shristi', 'can': 'shristi', '1888,': 'shristi', 'prehistoric': 'shristi', 'of': 'shristi', 'traditional': 'shristi', 'grew': 'shristi', 'union': 'shristi', 'parts': 'shristi', 'kicking': 'shristi', 'number': 'shristi', 'During': 'shristi', 'associations.': 'shristi', 'known': 'shristi', 'sports': 'shristi', 'League': 'shristi', 'forms': 'shristi', 'schools': 'shristi', 'form': 'shristi', 'football);': 'shristi', 'kinds': 'shristi', 'There': 'shristi', 'that': 'shristi', 'influence': 'shristi', 'controlled': 'shristi', 'By': 'shristi', 'rules': 'shristi', 'deliberately': 'shristi', 'example,': 'shristi', 'codification': 'shristi', 'their': 'shristi', 'professional': 'shristi', 'regional': 'shristi', 'spread': 'shristi', 'in': 'shristi', 'references': 'shristi', 'played': 'shristi', 'some': 'shristi', 'include': 'shristi', 'ancient,': 'shristi', 'means': 'shristi', 'football,': 'shristi', 'at': 'shristi', 'Sports': 'shristi', 'back': 'shristi', 'Contemporary': 'shristi', 'association': 'shristi', 'end': 'shristi', 'gridiron': 'shristi', 'traditional,': 'shristi', 'as': 'shristi', 'the': 'shristi', 'football;': 'shristi', '(known': 'shristi', 'and': 'shristi', 'normally': 'shristi', 'public': 'shristi', 'degrees,': 'shristi', 'Australian': 'shristi', 'extent': 'shristi', 'Empire.[7]': 'shristi', 'word': 'shristi', 'Oceania);': 'shristi', 'most': 'shristi', 'football': 'shristi', 'cultural': 'shristi', 'In': 'shristi', 'to': 'shristi', 'commonly': 'shristi', 'league;': 'shristi', 'areas': 'shristi', 'already': 'shristi', 'world.[9]': 'shristi', 'different': 'shristi', 'British': 'shristi', 'century.[5][6]': 'shristi', 'local': 'shristi', 'score': 'shristi', 'games': 'shristi', 'becoming': 'shristi', 'are': 'shristi', 'England,': 'shristi', 'maintain': 'shristi', 'for': 'shristi', 'traced': 'shristi', 'various': 'shristi', 'family': 'shristi', '(specifically': 'shristi', 'involve,': 'shristi', 'founded': 'shristi', 'during': 'shristi', 'allowed': 'shristi', 'varying': 'shristi', 'outside': 'shristi', 'North': 'shristi', 'called': 'shristi', 'goal.': 'shristi', 'ball': 'shristi', '19th': 'shristi', 'developing:': 'shristi', 'codes': 'shristi', 'Football': 'shristi', 'be': 'shristi', 'directly': 'shristi', 'many': 'shristi', 'several': 'shristi', 'common': 'shristi'}\n",
      "{'America': 'shristi', 'expansion': 'shristi', 'Unqualified,': 'shristi', 'popular': 'shristi', 'can': 'shristi', '1888,': 'shristi', 'prehistoric': 'shristi', 'of': 'shristi', 'traditional': 'shristi', 'grew': 'shristi', 'union': 'shristi', 'parts': 'shristi', 'kicking': 'shristi', 'number': 'shristi', 'During': 'shristi', 'associations.': 'shristi', 'known': 'shristi', 'sports': 'shristi', 'League': 'shristi', 'forms': 'shristi', 'schools': 'shristi', 'form': 'shristi', 'football);': 'shristi', 'kinds': 'shristi', 'There': 'shristi', 'that': 'shristi', 'influence': 'shristi', 'controlled': 'shristi', 'By': 'shristi', 'rules': 'shristi', 'deliberately': 'shristi', 'example,': 'shristi', 'codification': 'shristi', 'their': 'shristi', 'professional': 'shristi', 'regional': 'shristi', 'spread': 'shristi', 'in': 'shristi', 'references': 'shristi', 'played': 'shristi', 'some': 'shristi', 'include': 'shristi', 'ancient,': 'shristi', 'means': 'shristi', 'football,': 'shristi', 'at': 'shristi', 'Sports': 'shristi', 'back': 'shristi', 'Contemporary': 'shristi', 'association': 'shristi', 'end': 'shristi', 'gridiron': 'shristi', 'traditional,': 'shristi', 'as': 'shristi', 'the': 'shristi', 'football;': 'shristi', '(known': 'shristi', 'and': 'shristi', 'normally': 'shristi', 'public': 'shristi', 'degrees,': 'shristi', 'Australian': 'shristi', 'extent': 'shristi', 'Empire.[7]': 'shristi', 'word': 'shristi', 'Oceania);': 'shristi', 'most': 'shristi', 'football': 'shristi', 'cultural': 'shristi', 'In': 'shristi', 'to': 'shristi', 'commonly': 'shristi', 'league;': 'shristi', 'areas': 'shristi', 'already': 'shristi', 'world.[9]': 'shristi', 'different': 'shristi', 'British': 'shristi', 'century.[5][6]': 'shristi', 'local': 'shristi', 'score': 'shristi', 'games': 'shristi', 'becoming': 'shristi', 'are': 'shristi', 'England,': 'shristi', 'maintain': 'shristi', 'for': 'shristi', 'traced': 'shristi', 'various': 'shristi', 'family': 'shristi', '(specifically': 'shristi', 'involve,': 'shristi', 'founded': 'shristi', 'during': 'shristi', 'allowed': 'shristi', 'varying': 'shristi', 'outside': 'shristi', 'North': 'shristi', 'called': 'shristi', 'goal.': 'shristi', 'ball': 'shristi', '19th': 'shristi', 'developing:': 'shristi', 'codes': 'shristi', 'Football': 'shristi', 'be': 'shristi', 'directly': 'shristi', 'many': 'shristi', 'several': 'shristi', 'common': 'shristi', 'century,': 'shristi'}\n",
      "{'America': 'shristi', 'expansion': 'shristi', 'Unqualified,': 'shristi', 'popular': 'shristi', 'can': 'shristi', '1888,': 'shristi', 'prehistoric': 'shristi', 'of': 'shristi', 'traditional': 'shristi', 'grew': 'shristi', 'union': 'shristi', 'parts': 'shristi', 'kicking': 'shristi', 'number': 'shristi', 'During': 'shristi', 'associations.': 'shristi', 'known': 'shristi', 'sports': 'shristi', 'League': 'shristi', 'forms': 'shristi', 'schools': 'shristi', 'form': 'shristi', 'football);': 'shristi', 'kinds': 'shristi', 'There': 'shristi', 'that': 'shristi', 'influence': 'shristi', 'controlled': 'shristi', 'By': 'shristi', 'rules': 'shristi', 'deliberately': 'shristi', 'example,': 'shristi', 'codification': 'shristi', 'their': 'shristi', 'professional': 'shristi', 'regional': 'shristi', 'spread': 'shristi', 'in': 'shristi', 'references': 'shristi', 'played': 'shristi', 'some': 'shristi', 'include': 'shristi', 'ancient,': 'shristi', 'means': 'shristi', 'football,': 'shristi', 'at': 'shristi', 'Sports': 'shristi', 'back': 'shristi', 'Contemporary': 'shristi', 'association': 'shristi', 'end': 'shristi', 'gridiron': 'shristi', 'traditional,': 'shristi', 'as': 'shristi', 'the': 'shristi', 'football;': 'shristi', '(known': 'shristi', 'and': 'shristi', 'normally': 'shristi', 'public': 'shristi', 'degrees,': 'shristi', 'Australian': 'shristi', 'extent': 'shristi', 'Empire.[7]': 'shristi', 'word': 'shristi', 'Oceania);': 'shristi', 'most': 'shristi', 'football': 'shristi', 'cultural': 'shristi', 'In': 'shristi', 'to': 'shristi', 'commonly': 'shristi', 'league;': 'shristi', 'areas': 'shristi', 'already': 'shristi', 'world.[9]': 'shristi', 'different': 'shristi', 'British': 'shristi', 'century.[5][6]': 'shristi', 'local': 'shristi', 'score': 'shristi', 'games': 'shristi', 'becoming': 'shristi', 'are': 'shristi', 'England,': 'shristi', 'maintain': 'shristi', 'for': 'shristi', 'traced': 'shristi', 'various': 'shristi', 'family': 'shristi', '(specifically': 'shristi', 'involve,': 'shristi', 'founded': 'shristi', 'during': 'shristi', 'allowed': 'shristi', 'varying': 'shristi', 'outside': 'shristi', 'North': 'shristi', 'called': 'shristi', 'goal.': 'shristi', 'ball': 'shristi', '19th': 'shristi', 'developing:': 'shristi', 'codes': 'shristi', 'Football': 'shristi', 'be': 'shristi', 'directly': 'shristi', 'many': 'shristi', 'several': 'shristi', 'common': 'shristi', 'century,': 'shristi', 'these': 'shristi'}\n",
      "{'America': 'shristi', 'expansion': 'shristi', 'Unqualified,': 'shristi', 'popular': 'shristi', 'can': 'shristi', '1888,': 'shristi', 'prehistoric': 'shristi', 'of': 'shristi', 'traditional': 'shristi', 'grew': 'shristi', 'union': 'shristi', 'parts': 'shristi', 'kicking': 'shristi', 'number': 'shristi', 'During': 'shristi', 'associations.': 'shristi', 'known': 'shristi', 'sports': 'shristi', 'League': 'shristi', 'forms': 'shristi', 'schools': 'shristi', 'form': 'shristi', 'football);': 'shristi', 'kinds': 'shristi', 'There': 'shristi', 'that': 'shristi', 'influence': 'shristi', 'controlled': 'shristi', 'By': 'shristi', 'rules': 'shristi', 'deliberately': 'shristi', 'example,': 'shristi', 'codification': 'shristi', 'their': 'shristi', 'professional': 'shristi', 'regional': 'shristi', 'spread': 'shristi', 'in': 'shristi', 'references': 'shristi', 'played': 'shristi', 'some': 'shristi', 'include': 'shristi', 'ancient,': 'shristi', 'means': 'shristi', 'football,': 'shristi', 'at': 'shristi', 'Sports': 'shristi', 'back': 'shristi', 'Contemporary': 'shristi', 'association': 'shristi', 'end': 'shristi', 'gridiron': 'shristi', 'traditional,': 'shristi', 'as': 'shristi', 'the': 'shristi', 'football;': 'shristi', '(known': 'shristi', 'and': 'shristi', 'normally': 'shristi', 'public': 'shristi', 'degrees,': 'shristi', 'Australian': 'shristi', 'extent': 'shristi', 'Empire.[7]': 'shristi', 'word': 'shristi', 'Oceania);': 'shristi', 'most': 'shristi', 'football': 'shristi', 'cultural': 'shristi', 'In': 'shristi', 'to': 'shristi', 'commonly': 'shristi', 'league;': 'shristi', 'areas': 'shristi', 'already': 'shristi', 'world.[9]': 'shristi', 'different': 'shristi', 'British': 'shristi', 'century.[5][6]': 'shristi', 'local': 'shristi', 'score': 'shristi', 'games': 'shristi', 'becoming': 'shristi', 'are': 'shristi', 'England,': 'shristi', 'maintain': 'shristi', 'for': 'shristi', 'traced': 'shristi', 'various': 'shristi', 'family': 'shristi', '(specifically': 'shristi', 'involve,': 'shristi', 'founded': 'shristi', 'during': 'shristi', 'allowed': 'shristi', 'varying': 'shristi', 'outside': 'shristi', 'North': 'shristi', 'called': 'shristi', 'goal.': 'shristi', 'ball': 'shristi', '19th': 'shristi', 'developing:': 'shristi', 'codes': 'shristi', 'Football': 'shristi', 'be': 'shristi', 'directly': 'shristi', 'many': 'shristi', 'several': 'shristi', 'common': 'shristi', 'century,': 'shristi', 'these': 'shristi', '20th': 'shristi'}\n",
      "{'America': 'shristi', 'expansion': 'shristi', 'Unqualified,': 'shristi', 'popular': 'shristi', 'can': 'shristi', '1888,': 'shristi', 'prehistoric': 'shristi', 'of': 'shristi', 'traditional': 'shristi', 'grew': 'shristi', 'union': 'shristi', 'parts': 'shristi', 'kicking': 'shristi', 'number': 'shristi', 'During': 'shristi', 'associations.': 'shristi', 'known': 'shristi', 'sports': 'shristi', 'League': 'shristi', 'forms': 'shristi', 'schools': 'shristi', 'form': 'shristi', 'football);': 'shristi', 'kinds': 'shristi', 'There': 'shristi', 'that': 'shristi', 'influence': 'shristi', 'controlled': 'shristi', 'By': 'shristi', 'rules': 'shristi', 'deliberately': 'shristi', 'example,': 'shristi', 'codification': 'shristi', 'their': 'shristi', 'professional': 'shristi', 'regional': 'shristi', 'spread': 'shristi', 'in': 'shristi', 'references': 'shristi', 'played': 'shristi', 'some': 'shristi', 'include': 'shristi', 'ancient,': 'shristi', 'means': 'shristi', 'football,': 'shristi', 'at': 'shristi', 'Sports': 'shristi', 'back': 'shristi', 'Contemporary': 'shristi', 'association': 'shristi', 'end': 'shristi', 'gridiron': 'shristi', 'traditional,': 'shristi', 'as': 'shristi', 'the': 'shristi', 'football;': 'shristi', '(known': 'shristi', 'and': 'shristi', 'normally': 'shristi', 'public': 'shristi', 'degrees,': 'shristi', 'Australian': 'shristi', 'extent': 'shristi', 'Empire.[7]': 'shristi', 'word': 'shristi', 'Oceania);': 'shristi', 'most': 'shristi', 'football': 'shristi', 'cultural': 'shristi', 'In': 'shristi', 'to': 'shristi', 'commonly': 'shristi', 'league;': 'shristi', 'areas': 'shristi', 'already': 'shristi', 'world.[9]': 'shristi', 'different': 'shristi', 'British': 'shristi', 'century.[5][6]': 'shristi', 'local': 'shristi', 'score': 'shristi', 'games': 'shristi', 'becoming': 'shristi', 'are': 'shristi', 'England,': 'shristi', 'maintain': 'shristi', 'for': 'shristi', 'traced': 'shristi', 'various': 'shristi', 'family': 'shristi', '(specifically': 'shristi', 'involve,': 'shristi', 'founded': 'shristi', 'during': 'shristi', 'allowed': 'shristi', 'varying': 'shristi', 'outside': 'shristi', 'North': 'shristi', 'called': 'shristi', 'goal.': 'shristi', 'ball': 'shristi', '19th': 'shristi', 'developing:': 'shristi', 'codes': 'shristi', 'Football': 'shristi', 'be': 'shristi', 'directly': 'shristi', 'many': 'shristi', 'several': 'shristi', 'common': 'shristi', 'century,': 'shristi', 'these': 'shristi', '20th': 'shristi', 'football.[1]': 'shristi'}\n",
      "{'America': 'shristi', 'expansion': 'shristi', 'Unqualified,': 'shristi', 'popular': 'shristi', 'can': 'shristi', '1888,': 'shristi', 'prehistoric': 'shristi', 'of': 'shristi', 'traditional': 'shristi', 'grew': 'shristi', 'union': 'shristi', 'parts': 'shristi', 'kicking': 'shristi', 'number': 'shristi', 'During': 'shristi', 'associations.': 'shristi', 'known': 'shristi', 'sports': 'shristi', 'League': 'shristi', 'forms': 'shristi', 'schools': 'shristi', 'form': 'shristi', 'football);': 'shristi', 'kinds': 'shristi', 'There': 'shristi', 'that': 'shristi', 'influence': 'shristi', 'controlled': 'shristi', 'By': 'shristi', 'rules': 'shristi', 'deliberately': 'shristi', 'example,': 'shristi', 'codification': 'shristi', 'their': 'shristi', 'professional': 'shristi', 'regional': 'shristi', 'spread': 'shristi', 'in': 'shristi', 'references': 'shristi', 'played': 'shristi', 'some': 'shristi', 'include': 'shristi', 'ancient,': 'shristi', 'means': 'shristi', 'football,': 'shristi', 'at': 'shristi', 'Sports': 'shristi', 'back': 'shristi', 'Contemporary': 'shristi', 'association': 'shristi', 'end': 'shristi', 'gridiron': 'shristi', 'traditional,': 'shristi', 'as': 'shristi', 'the': 'shristi', 'football;': 'shristi', '(known': 'shristi', 'and': 'shristi', 'normally': 'shristi', 'public': 'shristi', 'degrees,': 'shristi', 'Australian': 'shristi', 'extent': 'shristi', 'Empire.[7]': 'shristi', 'word': 'shristi', 'Oceania);': 'shristi', 'most': 'shristi', 'football': 'shristi', 'cultural': 'shristi', 'In': 'shristi', 'to': 'shristi', 'commonly': 'shristi', 'league;': 'shristi', 'areas': 'shristi', 'already': 'shristi', 'world.[9]': 'shristi', 'different': 'shristi', 'British': 'shristi', 'century.[5][6]': 'shristi', 'local': 'shristi', 'score': 'shristi', 'games': 'shristi', 'becoming': 'shristi', 'are': 'shristi', 'England,': 'shristi', 'maintain': 'shristi', 'for': 'shristi', 'traced': 'shristi', 'various': 'shristi', 'family': 'shristi', '(specifically': 'shristi', 'involve,': 'shristi', 'founded': 'shristi', 'during': 'shristi', 'allowed': 'shristi', 'varying': 'shristi', 'outside': 'shristi', 'North': 'shristi', 'called': 'shristi', 'goal.': 'shristi', 'ball': 'shristi', '19th': 'shristi', 'developing:': 'shristi', 'codes': 'shristi', 'Football': 'shristi', 'be': 'shristi', 'directly': 'shristi', 'many': 'shristi', 'several': 'shristi', 'common': 'shristi', 'century,': 'shristi', 'these': 'shristi', '20th': 'shristi', 'football.[1]': 'shristi', 'The': 'shristi'}\n",
      "{'America': 'shristi', 'expansion': 'shristi', 'Unqualified,': 'shristi', 'popular': 'shristi', 'can': 'shristi', '1888,': 'shristi', 'prehistoric': 'shristi', 'of': 'shristi', 'traditional': 'shristi', 'grew': 'shristi', 'union': 'shristi', 'parts': 'shristi', 'kicking': 'shristi', 'number': 'shristi', 'During': 'shristi', 'associations.': 'shristi', 'known': 'shristi', 'sports': 'shristi', 'League': 'shristi', 'forms': 'shristi', 'schools': 'shristi', 'form': 'shristi', 'football);': 'shristi', 'kinds': 'shristi', 'There': 'shristi', 'that': 'shristi', 'influence': 'shristi', 'controlled': 'shristi', 'By': 'shristi', 'rules': 'shristi', 'deliberately': 'shristi', 'example,': 'shristi', 'codification': 'shristi', 'their': 'shristi', 'professional': 'shristi', 'regional': 'shristi', 'spread': 'shristi', 'in': 'shristi', 'references': 'shristi', 'played': 'shristi', 'some': 'shristi', 'include': 'shristi', 'ancient,': 'shristi', 'means': 'shristi', 'football,': 'shristi', 'at': 'shristi', 'Sports': 'shristi', 'back': 'shristi', 'Contemporary': 'shristi', 'association': 'shristi', 'end': 'shristi', 'gridiron': 'shristi', 'traditional,': 'shristi', 'as': 'shristi', 'the': 'shristi', 'football;': 'shristi', '(known': 'shristi', 'and': 'shristi', 'normally': 'shristi', 'public': 'shristi', 'degrees,': 'shristi', 'Australian': 'shristi', 'extent': 'shristi', 'Empire.[7]': 'shristi', 'word': 'shristi', 'Oceania);': 'shristi', 'most': 'shristi', 'football': 'shristi', 'cultural': 'shristi', 'In': 'shristi', 'to': 'shristi', 'commonly': 'shristi', 'league;': 'shristi', 'areas': 'shristi', 'already': 'shristi', 'world.[9]': 'shristi', 'different': 'shristi', 'British': 'shristi', 'century.[5][6]': 'shristi', 'local': 'shristi', 'score': 'shristi', 'games': 'shristi', 'becoming': 'shristi', 'are': 'shristi', 'England,': 'shristi', 'maintain': 'shristi', 'for': 'shristi', 'traced': 'shristi', 'various': 'shristi', 'family': 'shristi', '(specifically': 'shristi', 'involve,': 'shristi', 'founded': 'shristi', 'during': 'shristi', 'allowed': 'shristi', 'varying': 'shristi', 'outside': 'shristi', 'North': 'shristi', 'called': 'shristi', 'goal.': 'shristi', 'ball': 'shristi', '19th': 'shristi', 'developing:': 'shristi', 'codes': 'shristi', 'Football': 'shristi', 'be': 'shristi', 'directly': 'shristi', 'many': 'shristi', 'several': 'shristi', 'common': 'shristi', 'century,': 'shristi', 'these': 'shristi', '20th': 'shristi', 'football.[1]': 'shristi', 'The': 'shristi', 'where': 'shristi'}\n",
      "{'America': 'shristi', 'expansion': 'shristi', 'Unqualified,': 'shristi', 'popular': 'shristi', 'can': 'shristi', '1888,': 'shristi', 'prehistoric': 'shristi', 'of': 'shristi', 'traditional': 'shristi', 'grew': 'shristi', 'union': 'shristi', 'parts': 'shristi', 'kicking': 'shristi', 'number': 'shristi', 'During': 'shristi', 'associations.': 'shristi', 'known': 'shristi', 'sports': 'shristi', 'League': 'shristi', 'forms': 'shristi', 'schools': 'shristi', 'form': 'shristi', 'football);': 'shristi', 'kinds': 'shristi', 'There': 'shristi', 'that': 'shristi', 'influence': 'shristi', 'controlled': 'shristi', 'By': 'shristi', 'rules': 'shristi', 'deliberately': 'shristi', 'example,': 'shristi', 'codification': 'shristi', 'their': 'shristi', 'professional': 'shristi', 'regional': 'shristi', 'spread': 'shristi', 'in': 'shristi', 'references': 'shristi', 'played': 'shristi', 'some': 'shristi', 'include': 'shristi', 'ancient,': 'shristi', 'means': 'shristi', 'football,': 'shristi', 'at': 'shristi', 'Sports': 'shristi', 'back': 'shristi', 'Contemporary': 'shristi', 'association': 'shristi', 'end': 'shristi', 'gridiron': 'shristi', 'traditional,': 'shristi', 'as': 'shristi', 'the': 'shristi', 'football;': 'shristi', '(known': 'shristi', 'and': 'shristi', 'normally': 'shristi', 'public': 'shristi', 'degrees,': 'shristi', 'Australian': 'shristi', 'extent': 'shristi', 'Empire.[7]': 'shristi', 'word': 'shristi', 'Oceania);': 'shristi', 'most': 'shristi', 'football': 'shristi', 'cultural': 'shristi', 'In': 'shristi', 'to': 'shristi', 'commonly': 'shristi', 'league;': 'shristi', 'areas': 'shristi', 'already': 'shristi', 'world.[9]': 'shristi', 'different': 'shristi', 'British': 'shristi', 'century.[5][6]': 'shristi', 'local': 'shristi', 'score': 'shristi', 'games': 'shristi', 'becoming': 'shristi', 'are': 'shristi', 'England,': 'shristi', 'maintain': 'shristi', 'for': 'shristi', 'traced': 'shristi', 'various': 'shristi', 'family': 'shristi', '(specifically': 'shristi', 'involve,': 'shristi', 'founded': 'shristi', 'during': 'shristi', 'allowed': 'shristi', 'varying': 'shristi', 'outside': 'shristi', 'North': 'shristi', 'called': 'shristi', 'goal.': 'shristi', 'ball': 'shristi', '19th': 'shristi', 'developing:': 'shristi', 'codes': 'shristi', 'Football': 'shristi', 'be': 'shristi', 'directly': 'shristi', 'many': 'shristi', 'several': 'shristi', 'common': 'shristi', 'century,': 'shristi', 'these': 'shristi', '20th': 'shristi', 'football.[1]': 'shristi', 'The': 'shristi', 'where': 'shristi', 'team': 'shristi'}\n",
      "{'America': 'shristi', 'expansion': 'shristi', 'Unqualified,': 'shristi', 'popular': 'shristi', 'can': 'shristi', '1888,': 'shristi', 'prehistoric': 'shristi', 'of': 'shristi', 'traditional': 'shristi', 'grew': 'shristi', 'union': 'shristi', 'parts': 'shristi', 'kicking': 'shristi', 'number': 'shristi', 'During': 'shristi', 'associations.': 'shristi', 'known': 'shristi', 'sports': 'shristi', 'League': 'shristi', 'forms': 'shristi', 'schools': 'shristi', 'form': 'shristi', 'football);': 'shristi', 'kinds': 'shristi', 'There': 'shristi', 'that': 'shristi', 'influence': 'shristi', 'controlled': 'shristi', 'By': 'shristi', 'rules': 'shristi', 'deliberately': 'shristi', 'example,': 'shristi', 'codification': 'shristi', 'their': 'shristi', 'professional': 'shristi', 'regional': 'shristi', 'spread': 'shristi', 'in': 'shristi', 'references': 'shristi', 'played': 'shristi', 'some': 'shristi', 'include': 'shristi', 'ancient,': 'shristi', 'means': 'shristi', 'football,': 'shristi', 'at': 'shristi', 'Sports': 'shristi', 'back': 'shristi', 'Contemporary': 'shristi', 'association': 'shristi', 'end': 'shristi', 'gridiron': 'shristi', 'traditional,': 'shristi', 'as': 'shristi', 'the': 'shristi', 'football;': 'shristi', '(known': 'shristi', 'and': 'shristi', 'normally': 'shristi', 'public': 'shristi', 'degrees,': 'shristi', 'Australian': 'shristi', 'extent': 'shristi', 'Empire.[7]': 'shristi', 'word': 'shristi', 'Oceania);': 'shristi', 'most': 'shristi', 'football': 'shristi', 'cultural': 'shristi', 'In': 'shristi', 'to': 'shristi', 'commonly': 'shristi', 'league;': 'shristi', 'areas': 'shristi', 'already': 'shristi', 'world.[9]': 'shristi', 'different': 'shristi', 'British': 'shristi', 'century.[5][6]': 'shristi', 'local': 'shristi', 'score': 'shristi', 'games': 'shristi', 'becoming': 'shristi', 'are': 'shristi', 'England,': 'shristi', 'maintain': 'shristi', 'for': 'shristi', 'traced': 'shristi', 'various': 'shristi', 'family': 'shristi', '(specifically': 'shristi', 'involve,': 'shristi', 'founded': 'shristi', 'during': 'shristi', 'allowed': 'shristi', 'varying': 'shristi', 'outside': 'shristi', 'North': 'shristi', 'called': 'shristi', 'goal.': 'shristi', 'ball': 'shristi', '19th': 'shristi', 'developing:': 'shristi', 'codes': 'shristi', 'Football': 'shristi', 'be': 'shristi', 'directly': 'shristi', 'many': 'shristi', 'several': 'shristi', 'common': 'shristi', 'century,': 'shristi', 'these': 'shristi', '20th': 'shristi', 'football.[1]': 'shristi', 'The': 'shristi', 'where': 'shristi', 'team': 'shristi', 'soccer': 'shristi'}\n",
      "{'America': 'shristi', 'expansion': 'shristi', 'Unqualified,': 'shristi', 'popular': 'shristi', 'can': 'shristi', '1888,': 'shristi', 'prehistoric': 'shristi', 'of': 'shristi', 'traditional': 'shristi', 'grew': 'shristi', 'union': 'shristi', 'parts': 'shristi', 'kicking': 'shristi', 'number': 'shristi', 'During': 'shristi', 'associations.': 'shristi', 'known': 'shristi', 'sports': 'shristi', 'League': 'shristi', 'forms': 'shristi', 'schools': 'shristi', 'form': 'shristi', 'football);': 'shristi', 'kinds': 'shristi', 'There': 'shristi', 'that': 'shristi', 'influence': 'shristi', 'controlled': 'shristi', 'By': 'shristi', 'rules': 'shristi', 'deliberately': 'shristi', 'example,': 'shristi', 'codification': 'shristi', 'their': 'shristi', 'professional': 'shristi', 'regional': 'shristi', 'spread': 'shristi', 'in': 'shristi', 'references': 'shristi', 'played': 'shristi', 'some': 'shristi', 'include': 'shristi', 'ancient,': 'shristi', 'means': 'shristi', 'football,': 'shristi', 'at': 'shristi', 'Sports': 'shristi', 'back': 'shristi', 'Contemporary': 'shristi', 'association': 'shristi', 'end': 'shristi', 'gridiron': 'shristi', 'traditional,': 'shristi', 'as': 'shristi', 'the': 'shristi', 'football;': 'shristi', '(known': 'shristi', 'and': 'shristi', 'normally': 'shristi', 'public': 'shristi', 'degrees,': 'shristi', 'Australian': 'shristi', 'extent': 'shristi', 'Empire.[7]': 'shristi', 'word': 'shristi', 'Oceania);': 'shristi', 'most': 'shristi', 'football': 'shristi', 'cultural': 'shristi', 'In': 'shristi', 'to': 'shristi', 'commonly': 'shristi', 'league;': 'shristi', 'areas': 'shristi', 'already': 'shristi', 'world.[9]': 'shristi', 'different': 'shristi', 'British': 'shristi', 'century.[5][6]': 'shristi', 'local': 'shristi', 'score': 'shristi', 'games': 'shristi', 'becoming': 'shristi', 'are': 'shristi', 'England,': 'shristi', 'maintain': 'shristi', 'for': 'shristi', 'traced': 'shristi', 'various': 'shristi', 'family': 'shristi', '(specifically': 'shristi', 'involve,': 'shristi', 'founded': 'shristi', 'during': 'shristi', 'allowed': 'shristi', 'varying': 'shristi', 'outside': 'shristi', 'North': 'shristi', 'called': 'shristi', 'goal.': 'shristi', 'ball': 'shristi', '19th': 'shristi', 'developing:': 'shristi', 'codes': 'shristi', 'Football': 'shristi', 'be': 'shristi', 'directly': 'shristi', 'many': 'shristi', 'several': 'shristi', 'common': 'shristi', 'century,': 'shristi', 'these': 'shristi', '20th': 'shristi', 'football.[1]': 'shristi', 'The': 'shristi', 'where': 'shristi', 'team': 'shristi', 'soccer': 'shristi', 'is': 'shristi'}\n",
      "{'America': 'shristi', 'expansion': 'shristi', 'Unqualified,': 'shristi', 'popular': 'shristi', 'can': 'shristi', '1888,': 'shristi', 'prehistoric': 'shristi', 'of': 'shristi', 'traditional': 'shristi', 'grew': 'shristi', 'union': 'shristi', 'parts': 'shristi', 'kicking': 'shristi', 'number': 'shristi', 'During': 'shristi', 'associations.': 'shristi', 'known': 'shristi', 'sports': 'shristi', 'League': 'shristi', 'forms': 'shristi', 'schools': 'shristi', 'form': 'shristi', 'football);': 'shristi', 'kinds': 'shristi', 'There': 'shristi', 'that': 'shristi', 'influence': 'shristi', 'controlled': 'shristi', 'By': 'shristi', 'rules': 'shristi', 'deliberately': 'shristi', 'example,': 'shristi', 'codification': 'shristi', 'their': 'shristi', 'professional': 'shristi', 'regional': 'shristi', 'spread': 'shristi', 'in': 'shristi', 'references': 'shristi', 'played': 'shristi', 'some': 'shristi', 'include': 'shristi', 'ancient,': 'shristi', 'means': 'shristi', 'football,': 'shristi', 'at': 'shristi', 'Sports': 'shristi', 'back': 'shristi', 'Contemporary': 'shristi', 'association': 'shristi', 'end': 'shristi', 'gridiron': 'shristi', 'traditional,': 'shristi', 'as': 'shristi', 'the': 'shristi', 'football;': 'shristi', '(known': 'shristi', 'and': 'shristi', 'normally': 'shristi', 'public': 'shristi', 'degrees,': 'shristi', 'Australian': 'shristi', 'extent': 'shristi', 'Empire.[7]': 'shristi', 'word': 'shristi', 'Oceania);': 'shristi', 'most': 'shristi', 'football': 'shristi', 'cultural': 'shristi', 'In': 'shristi', 'to': 'shristi', 'commonly': 'shristi', 'league;': 'shristi', 'areas': 'shristi', 'already': 'shristi', 'world.[9]': 'shristi', 'different': 'shristi', 'British': 'shristi', 'century.[5][6]': 'shristi', 'local': 'shristi', 'score': 'shristi', 'games': 'shristi', 'becoming': 'shristi', 'are': 'shristi', 'England,': 'shristi', 'maintain': 'shristi', 'for': 'shristi', 'traced': 'shristi', 'various': 'shristi', 'family': 'shristi', '(specifically': 'shristi', 'involve,': 'shristi', 'founded': 'shristi', 'during': 'shristi', 'allowed': 'shristi', 'varying': 'shristi', 'outside': 'shristi', 'North': 'shristi', 'called': 'shristi', 'goal.': 'shristi', 'ball': 'shristi', '19th': 'shristi', 'developing:': 'shristi', 'codes': 'shristi', 'Football': 'shristi', 'be': 'shristi', 'directly': 'shristi', 'many': 'shristi', 'several': 'shristi', 'common': 'shristi', 'century,': 'shristi', 'these': 'shristi', '20th': 'shristi', 'football.[1]': 'shristi', 'The': 'shristi', 'where': 'shristi', 'team': 'shristi', 'soccer': 'shristi', 'is': 'shristi', 'a': 'shristi'}\n",
      "{'America': 'shristi', 'expansion': 'shristi', 'Unqualified,': 'shristi', 'popular': 'shristi', 'can': 'shristi', '1888,': 'shristi', 'prehistoric': 'shristi', 'of': 'shristi', 'traditional': 'shristi', 'grew': 'shristi', 'union': 'shristi', 'parts': 'shristi', 'kicking': 'shristi', 'number': 'shristi', 'During': 'shristi', 'associations.': 'shristi', 'known': 'shristi', 'sports': 'shristi', 'League': 'shristi', 'forms': 'shristi', 'schools': 'shristi', 'form': 'shristi', 'football);': 'shristi', 'kinds': 'shristi', 'There': 'shristi', 'that': 'shristi', 'influence': 'shristi', 'controlled': 'shristi', 'By': 'shristi', 'rules': 'shristi', 'deliberately': 'shristi', 'example,': 'shristi', 'codification': 'shristi', 'their': 'shristi', 'professional': 'shristi', 'regional': 'shristi', 'spread': 'shristi', 'in': 'shristi', 'references': 'shristi', 'played': 'shristi', 'some': 'shristi', 'include': 'shristi', 'ancient,': 'shristi', 'means': 'shristi', 'football,': 'shristi', 'at': 'shristi', 'Sports': 'shristi', 'back': 'shristi', 'Contemporary': 'shristi', 'association': 'shristi', 'end': 'shristi', 'gridiron': 'shristi', 'traditional,': 'shristi', 'as': 'shristi', 'the': 'shristi', 'football;': 'shristi', '(known': 'shristi', 'and': 'shristi', 'normally': 'shristi', 'public': 'shristi', 'degrees,': 'shristi', 'Australian': 'shristi', 'extent': 'shristi', 'Empire.[7]': 'shristi', 'word': 'shristi', 'Oceania);': 'shristi', 'most': 'shristi', 'football': 'shristi', 'cultural': 'shristi', 'In': 'shristi', 'to': 'shristi', 'commonly': 'shristi', 'league;': 'shristi', 'areas': 'shristi', 'already': 'shristi', 'world.[9]': 'shristi', 'different': 'shristi', 'British': 'shristi', 'century.[5][6]': 'shristi', 'local': 'shristi', 'score': 'shristi', 'games': 'shristi', 'becoming': 'shristi', 'are': 'shristi', 'England,': 'shristi', 'maintain': 'shristi', 'for': 'shristi', 'traced': 'shristi', 'various': 'shristi', 'family': 'shristi', '(specifically': 'shristi', 'involve,': 'shristi', 'founded': 'shristi', 'during': 'shristi', 'allowed': 'shristi', 'varying': 'shristi', 'outside': 'shristi', 'North': 'shristi', 'called': 'shristi', 'goal.': 'shristi', 'ball': 'shristi', '19th': 'shristi', 'developing:': 'shristi', 'codes': 'shristi', 'Football': 'shristi', 'be': 'shristi', 'directly': 'shristi', 'many': 'shristi', 'several': 'shristi', 'common': 'shristi', 'century,': 'shristi', 'these': 'shristi', '20th': 'shristi', 'football.[1]': 'shristi', 'The': 'shristi', 'where': 'shristi', 'team': 'shristi', 'soccer': 'shristi', 'is': 'shristi', 'a': 'shristi', 'origins': 'shristi'}\n",
      "{'America': 'shristi', 'expansion': 'shristi', 'Unqualified,': 'shristi', 'popular': 'shristi', 'can': 'shristi', '1888,': 'shristi', 'prehistoric': 'shristi', 'of': 'shristi', 'traditional': 'shristi', 'grew': 'shristi', 'union': 'shristi', 'parts': 'shristi', 'kicking': 'shristi', 'number': 'shristi', 'During': 'shristi', 'associations.': 'shristi', 'known': 'shristi', 'sports': 'shristi', 'League': 'shristi', 'forms': 'shristi', 'schools': 'shristi', 'form': 'shristi', 'football);': 'shristi', 'kinds': 'shristi', 'There': 'shristi', 'that': 'shristi', 'influence': 'shristi', 'controlled': 'shristi', 'By': 'shristi', 'rules': 'shristi', 'deliberately': 'shristi', 'example,': 'shristi', 'codification': 'shristi', 'their': 'shristi', 'professional': 'shristi', 'regional': 'shristi', 'spread': 'shristi', 'in': 'shristi', 'references': 'shristi', 'played': 'shristi', 'some': 'shristi', 'include': 'shristi', 'ancient,': 'shristi', 'means': 'shristi', 'football,': 'shristi', 'at': 'shristi', 'Sports': 'shristi', 'back': 'shristi', 'Contemporary': 'shristi', 'association': 'shristi', 'end': 'shristi', 'gridiron': 'shristi', 'traditional,': 'shristi', 'as': 'shristi', 'the': 'shristi', 'football;': 'shristi', '(known': 'shristi', 'and': 'shristi', 'normally': 'shristi', 'public': 'shristi', 'degrees,': 'shristi', 'Australian': 'shristi', 'extent': 'shristi', 'Empire.[7]': 'shristi', 'word': 'shristi', 'Oceania);': 'shristi', 'most': 'shristi', 'football': 'shristi', 'cultural': 'shristi', 'In': 'shristi', 'to': 'shristi', 'commonly': 'shristi', 'league;': 'shristi', 'areas': 'shristi', 'already': 'shristi', 'world.[9]': 'shristi', 'different': 'shristi', 'British': 'shristi', 'century.[5][6]': 'shristi', 'local': 'shristi', 'score': 'shristi', 'games': 'shristi', 'becoming': 'shristi', 'are': 'shristi', 'England,': 'shristi', 'maintain': 'shristi', 'for': 'shristi', 'traced': 'shristi', 'various': 'shristi', 'family': 'shristi', '(specifically': 'shristi', 'involve,': 'shristi', 'founded': 'shristi', 'during': 'shristi', 'allowed': 'shristi', 'varying': 'shristi', 'outside': 'shristi', 'North': 'shristi', 'called': 'shristi', 'goal.': 'shristi', 'ball': 'shristi', '19th': 'shristi', 'developing:': 'shristi', 'codes': 'shristi', 'Football': 'shristi', 'be': 'shristi', 'directly': 'shristi', 'many': 'shristi', 'several': 'shristi', 'common': 'shristi', 'century,': 'shristi', 'these': 'shristi', '20th': 'shristi', 'football.[1]': 'shristi', 'The': 'shristi', 'where': 'shristi', 'team': 'shristi', 'soccer': 'shristi', 'is': 'shristi', 'a': 'shristi', 'origins': 'shristi', 'used.': 'shristi'}\n",
      "{'America': 'shristi', 'expansion': 'shristi', 'Unqualified,': 'shristi', 'popular': 'shristi', 'can': 'shristi', '1888,': 'shristi', 'prehistoric': 'shristi', 'of': 'shristi', 'traditional': 'shristi', 'grew': 'shristi', 'union': 'shristi', 'parts': 'shristi', 'kicking': 'shristi', 'number': 'shristi', 'During': 'shristi', 'associations.': 'shristi', 'known': 'shristi', 'sports': 'shristi', 'League': 'shristi', 'forms': 'shristi', 'schools': 'shristi', 'form': 'shristi', 'football);': 'shristi', 'kinds': 'shristi', 'There': 'shristi', 'that': 'shristi', 'influence': 'shristi', 'controlled': 'shristi', 'By': 'shristi', 'rules': 'shristi', 'deliberately': 'shristi', 'example,': 'shristi', 'codification': 'shristi', 'their': 'shristi', 'professional': 'shristi', 'regional': 'shristi', 'spread': 'shristi', 'in': 'shristi', 'references': 'shristi', 'played': 'shristi', 'some': 'shristi', 'include': 'shristi', 'ancient,': 'shristi', 'means': 'shristi', 'football,': 'shristi', 'at': 'shristi', 'Sports': 'shristi', 'back': 'shristi', 'Contemporary': 'shristi', 'association': 'shristi', 'end': 'shristi', 'gridiron': 'shristi', 'traditional,': 'shristi', 'as': 'shristi', 'the': 'shristi', 'football;': 'shristi', '(known': 'shristi', 'and': 'shristi', 'normally': 'shristi', 'public': 'shristi', 'degrees,': 'shristi', 'Australian': 'shristi', 'extent': 'shristi', 'Empire.[7]': 'shristi', 'word': 'shristi', 'Oceania);': 'shristi', 'most': 'shristi', 'football': 'shristi', 'cultural': 'shristi', 'In': 'shristi', 'to': 'shristi', 'commonly': 'shristi', 'league;': 'shristi', 'areas': 'shristi', 'already': 'shristi', 'world.[9]': 'shristi', 'different': 'shristi', 'British': 'shristi', 'century.[5][6]': 'shristi', 'local': 'shristi', 'score': 'shristi', 'games': 'shristi', 'becoming': 'shristi', 'are': 'shristi', 'England,': 'shristi', 'maintain': 'shristi', 'for': 'shristi', 'traced': 'shristi', 'various': 'shristi', 'family': 'shristi', '(specifically': 'shristi', 'involve,': 'shristi', 'founded': 'shristi', 'during': 'shristi', 'allowed': 'shristi', 'varying': 'shristi', 'outside': 'shristi', 'North': 'shristi', 'called': 'shristi', 'goal.': 'shristi', 'ball': 'shristi', '19th': 'shristi', 'developing:': 'shristi', 'codes': 'shristi', 'Football': 'shristi', 'be': 'shristi', 'directly': 'shristi', 'many': 'shristi', 'several': 'shristi', 'common': 'shristi', 'century,': 'shristi', 'these': 'shristi', '20th': 'shristi', 'football.[1]': 'shristi', 'The': 'shristi', 'where': 'shristi', 'team': 'shristi', 'soccer': 'shristi', 'is': 'shristi', 'a': 'shristi', 'origins': 'shristi', 'used.': 'shristi', 'rugby': 'shristi'}\n",
      "{'America': 'shristi', 'expansion': 'shristi', 'Unqualified,': 'shristi', 'popular': 'shristi', 'can': 'shristi', '1888,': 'shristi', 'prehistoric': 'shristi', 'of': 'shristi', 'traditional': 'shristi', 'grew': 'shristi', 'union': 'shristi', 'parts': 'shristi', 'kicking': 'shristi', 'number': 'shristi', 'During': 'shristi', 'associations.': 'shristi', 'known': 'shristi', 'sports': 'shristi', 'League': 'shristi', 'forms': 'shristi', 'schools': 'shristi', 'form': 'shristi', 'football);': 'shristi', 'kinds': 'shristi', 'There': 'shristi', 'that': 'shristi', 'influence': 'shristi', 'controlled': 'shristi', 'By': 'shristi', 'rules': 'shristi', 'deliberately': 'shristi', 'example,': 'shristi', 'codification': 'shristi', 'their': 'shristi', 'professional': 'shristi', 'regional': 'shristi', 'spread': 'shristi', 'in': 'shristi', 'references': 'shristi', 'played': 'shristi', 'some': 'shristi', 'include': 'shristi', 'ancient,': 'shristi', 'means': 'shristi', 'football,': 'shristi', 'at': 'shristi', 'Sports': 'shristi', 'back': 'shristi', 'Contemporary': 'shristi', 'association': 'shristi', 'end': 'shristi', 'gridiron': 'shristi', 'traditional,': 'shristi', 'as': 'shristi', 'the': 'shristi', 'football;': 'shristi', '(known': 'shristi', 'and': 'shristi', 'normally': 'shristi', 'public': 'shristi', 'degrees,': 'shristi', 'Australian': 'shristi', 'extent': 'shristi', 'Empire.[7]': 'shristi', 'word': 'shristi', 'Oceania);': 'shristi', 'most': 'shristi', 'football': 'shristi', 'cultural': 'shristi', 'In': 'shristi', 'to': 'shristi', 'commonly': 'shristi', 'league;': 'shristi', 'areas': 'shristi', 'already': 'shristi', 'world.[9]': 'shristi', 'different': 'shristi', 'British': 'shristi', 'century.[5][6]': 'shristi', 'local': 'shristi', 'score': 'shristi', 'games': 'shristi', 'becoming': 'shristi', 'are': 'shristi', 'England,': 'shristi', 'maintain': 'shristi', 'for': 'shristi', 'traced': 'shristi', 'various': 'shristi', 'family': 'shristi', '(specifically': 'shristi', 'involve,': 'shristi', 'founded': 'shristi', 'during': 'shristi', 'allowed': 'shristi', 'varying': 'shristi', 'outside': 'shristi', 'North': 'shristi', 'called': 'shristi', 'goal.': 'shristi', 'ball': 'shristi', '19th': 'shristi', 'developing:': 'shristi', 'codes': 'shristi', 'Football': 'shristi', 'be': 'shristi', 'directly': 'shristi', 'many': 'shristi', 'several': 'shristi', 'common': 'shristi', 'century,': 'shristi', 'these': 'shristi', '20th': 'shristi', 'football.[1]': 'shristi', 'The': 'shristi', 'where': 'shristi', 'team': 'shristi', 'soccer': 'shristi', 'is': 'shristi', 'a': 'shristi', 'origins': 'shristi', 'used.': 'shristi', 'rugby': 'shristi', 'Canadian': 'shristi'}\n",
      "{'America': 'shristi', 'expansion': 'shristi', 'Unqualified,': 'shristi', 'popular': 'shristi', 'can': 'shristi', '1888,': 'shristi', 'prehistoric': 'shristi', 'of': 'shristi', 'traditional': 'shristi', 'grew': 'shristi', 'union': 'shristi', 'parts': 'shristi', 'kicking': 'shristi', 'number': 'shristi', 'During': 'shristi', 'associations.': 'shristi', 'known': 'shristi', 'sports': 'shristi', 'League': 'shristi', 'forms': 'shristi', 'schools': 'shristi', 'form': 'shristi', 'football);': 'shristi', 'kinds': 'shristi', 'There': 'shristi', 'that': 'shristi', 'influence': 'shristi', 'controlled': 'shristi', 'By': 'shristi', 'rules': 'shristi', 'deliberately': 'shristi', 'example,': 'shristi', 'codification': 'shristi', 'their': 'shristi', 'professional': 'shristi', 'regional': 'shristi', 'spread': 'shristi', 'in': 'shristi', 'references': 'shristi', 'played': 'shristi', 'some': 'shristi', 'include': 'shristi', 'ancient,': 'shristi', 'means': 'shristi', 'football,': 'shristi', 'at': 'shristi', 'Sports': 'shristi', 'back': 'shristi', 'Contemporary': 'shristi', 'association': 'shristi', 'end': 'shristi', 'gridiron': 'shristi', 'traditional,': 'shristi', 'as': 'shristi', 'the': 'shristi', 'football;': 'shristi', '(known': 'shristi', 'and': 'shristi', 'normally': 'shristi', 'public': 'shristi', 'degrees,': 'shristi', 'Australian': 'shristi', 'extent': 'shristi', 'Empire.[7]': 'shristi', 'word': 'shristi', 'Oceania);': 'shristi', 'most': 'shristi', 'football': 'shristi', 'cultural': 'shristi', 'In': 'shristi', 'to': 'shristi', 'commonly': 'shristi', 'league;': 'shristi', 'areas': 'shristi', 'already': 'shristi', 'world.[9]': 'shristi', 'different': 'shristi', 'British': 'shristi', 'century.[5][6]': 'shristi', 'local': 'shristi', 'score': 'shristi', 'games': 'shristi', 'becoming': 'shristi', 'are': 'shristi', 'England,': 'shristi', 'maintain': 'shristi', 'for': 'shristi', 'traced': 'shristi', 'various': 'shristi', 'family': 'shristi', '(specifically': 'shristi', 'involve,': 'shristi', 'founded': 'shristi', 'during': 'shristi', 'allowed': 'shristi', 'varying': 'shristi', 'outside': 'shristi', 'North': 'shristi', 'called': 'shristi', 'goal.': 'shristi', 'ball': 'shristi', '19th': 'shristi', 'developing:': 'shristi', 'codes': 'shristi', 'Football': 'shristi', 'be': 'shristi', 'directly': 'shristi', 'many': 'shristi', 'several': 'shristi', 'common': 'shristi', 'century,': 'shristi', 'these': 'shristi', '20th': 'shristi', 'football.[1]': 'shristi', 'The': 'shristi', 'where': 'shristi', 'team': 'shristi', 'soccer': 'shristi', 'is': 'shristi', 'a': 'shristi', 'origins': 'shristi', 'used.': 'shristi', 'rugby': 'shristi', 'Canadian': 'shristi', 'become': 'shristi'}\n",
      "{'America': 'shristi', 'expansion': 'shristi', 'Unqualified,': 'shristi', 'popular': 'shristi', 'can': 'shristi', '1888,': 'shristi', 'prehistoric': 'shristi', 'of': 'shristi', 'traditional': 'shristi', 'grew': 'shristi', 'union': 'shristi', 'parts': 'shristi', 'kicking': 'shristi', 'number': 'shristi', 'During': 'shristi', 'associations.': 'shristi', 'known': 'shristi', 'sports': 'shristi', 'League': 'shristi', 'forms': 'shristi', 'schools': 'shristi', 'form': 'shristi', 'football);': 'shristi', 'kinds': 'shristi', 'There': 'shristi', 'that': 'shristi', 'influence': 'shristi', 'controlled': 'shristi', 'By': 'shristi', 'rules': 'shristi', 'deliberately': 'shristi', 'example,': 'shristi', 'codification': 'shristi', 'their': 'shristi', 'professional': 'shristi', 'regional': 'shristi', 'spread': 'shristi', 'in': 'shristi', 'references': 'shristi', 'played': 'shristi', 'some': 'shristi', 'include': 'shristi', 'ancient,': 'shristi', 'means': 'shristi', 'football,': 'shristi', 'at': 'shristi', 'Sports': 'shristi', 'back': 'shristi', 'Contemporary': 'shristi', 'association': 'shristi', 'end': 'shristi', 'gridiron': 'shristi', 'traditional,': 'shristi', 'as': 'shristi', 'the': 'shristi', 'football;': 'shristi', '(known': 'shristi', 'and': 'shristi', 'normally': 'shristi', 'public': 'shristi', 'degrees,': 'shristi', 'Australian': 'shristi', 'extent': 'shristi', 'Empire.[7]': 'shristi', 'word': 'shristi', 'Oceania);': 'shristi', 'most': 'shristi', 'football': 'shristi', 'cultural': 'shristi', 'In': 'shristi', 'to': 'shristi', 'commonly': 'shristi', 'league;': 'shristi', 'areas': 'shristi', 'already': 'shristi', 'world.[9]': 'shristi', 'different': 'shristi', 'British': 'shristi', 'century.[5][6]': 'shristi', 'local': 'shristi', 'score': 'shristi', 'games': 'shristi', 'becoming': 'shristi', 'are': 'shristi', 'England,': 'shristi', 'maintain': 'shristi', 'for': 'shristi', 'traced': 'shristi', 'various': 'shristi', 'family': 'shristi', '(specifically': 'shristi', 'involve,': 'shristi', 'founded': 'shristi', 'during': 'shristi', 'allowed': 'shristi', 'varying': 'shristi', 'outside': 'shristi', 'North': 'shristi', 'called': 'shristi', 'goal.': 'shristi', 'ball': 'shristi', '19th': 'shristi', 'developing:': 'shristi', 'codes': 'shristi', 'Football': 'shristi', 'be': 'shristi', 'directly': 'shristi', 'many': 'shristi', 'several': 'shristi', 'common': 'shristi', 'century,': 'shristi', 'these': 'shristi', '20th': 'shristi', 'football.[1]': 'shristi', 'The': 'shristi', 'where': 'shristi', 'team': 'shristi', 'soccer': 'shristi', 'is': 'shristi', 'a': 'shristi', 'origins': 'shristi', 'used.': 'shristi', 'rugby': 'shristi', 'Canadian': 'shristi', 'become': 'shristi', 'world.[2][3][4]': 'shristi'}\n",
      "{'America': 'shristi', 'expansion': 'shristi', 'Unqualified,': 'shristi', 'popular': 'shristi', 'can': 'shristi', '1888,': 'shristi', 'prehistoric': 'shristi', 'of': 'shristi', 'traditional': 'shristi', 'grew': 'shristi', 'union': 'shristi', 'parts': 'shristi', 'kicking': 'shristi', 'number': 'shristi', 'During': 'shristi', 'associations.': 'shristi', 'known': 'shristi', 'sports': 'shristi', 'League': 'shristi', 'forms': 'shristi', 'schools': 'shristi', 'form': 'shristi', 'football);': 'shristi', 'kinds': 'shristi', 'There': 'shristi', 'that': 'shristi', 'influence': 'shristi', 'controlled': 'shristi', 'By': 'shristi', 'rules': 'shristi', 'deliberately': 'shristi', 'example,': 'shristi', 'codification': 'shristi', 'their': 'shristi', 'professional': 'shristi', 'regional': 'shristi', 'spread': 'shristi', 'in': 'shristi', 'references': 'shristi', 'played': 'shristi', 'some': 'shristi', 'include': 'shristi', 'ancient,': 'shristi', 'means': 'shristi', 'football,': 'shristi', 'at': 'shristi', 'Sports': 'shristi', 'back': 'shristi', 'Contemporary': 'shristi', 'association': 'shristi', 'end': 'shristi', 'gridiron': 'shristi', 'traditional,': 'shristi', 'as': 'shristi', 'the': 'shristi', 'football;': 'shristi', '(known': 'shristi', 'and': 'shristi', 'normally': 'shristi', 'public': 'shristi', 'degrees,': 'shristi', 'Australian': 'shristi', 'extent': 'shristi', 'Empire.[7]': 'shristi', 'word': 'shristi', 'Oceania);': 'shristi', 'most': 'shristi', 'football': 'shristi', 'cultural': 'shristi', 'In': 'shristi', 'to': 'shristi', 'commonly': 'shristi', 'league;': 'shristi', 'areas': 'shristi', 'already': 'shristi', 'world.[9]': 'shristi', 'different': 'shristi', 'British': 'shristi', 'century.[5][6]': 'shristi', 'local': 'shristi', 'score': 'shristi', 'games': 'shristi', 'becoming': 'shristi', 'are': 'shristi', 'England,': 'shristi', 'maintain': 'shristi', 'for': 'shristi', 'traced': 'shristi', 'various': 'shristi', 'family': 'shristi', '(specifically': 'shristi', 'involve,': 'shristi', 'founded': 'shristi', 'during': 'shristi', 'allowed': 'shristi', 'varying': 'shristi', 'outside': 'shristi', 'North': 'shristi', 'called': 'shristi', 'goal.': 'shristi', 'ball': 'shristi', '19th': 'shristi', 'developing:': 'shristi', 'codes': 'shristi', 'Football': 'shristi', 'be': 'shristi', 'directly': 'shristi', 'many': 'shristi', 'several': 'shristi', 'common': 'shristi', 'century,': 'shristi', 'these': 'shristi', '20th': 'shristi', 'football.[1]': 'shristi', 'The': 'shristi', 'where': 'shristi', 'team': 'shristi', 'soccer': 'shristi', 'is': 'shristi', 'a': 'shristi', 'origins': 'shristi', 'used.': 'shristi', 'rugby': 'shristi', 'Canadian': 'shristi', 'become': 'shristi', 'world.[2][3][4]': 'shristi', 'was': 'shristi'}\n",
      "{'America': 'shristi', 'expansion': 'shristi', 'Unqualified,': 'shristi', 'popular': 'shristi', 'can': 'shristi', '1888,': 'shristi', 'prehistoric': 'shristi', 'of': 'shristi', 'traditional': 'shristi', 'grew': 'shristi', 'union': 'shristi', 'parts': 'shristi', 'kicking': 'shristi', 'number': 'shristi', 'During': 'shristi', 'associations.': 'shristi', 'known': 'shristi', 'sports': 'shristi', 'League': 'shristi', 'forms': 'shristi', 'schools': 'shristi', 'form': 'shristi', 'football);': 'shristi', 'kinds': 'shristi', 'There': 'shristi', 'that': 'shristi', 'influence': 'shristi', 'controlled': 'shristi', 'By': 'shristi', 'rules': 'shristi', 'deliberately': 'shristi', 'example,': 'shristi', 'codification': 'shristi', 'their': 'shristi', 'professional': 'shristi', 'regional': 'shristi', 'spread': 'shristi', 'in': 'shristi', 'references': 'shristi', 'played': 'shristi', 'some': 'shristi', 'include': 'shristi', 'ancient,': 'shristi', 'means': 'shristi', 'football,': 'shristi', 'at': 'shristi', 'Sports': 'shristi', 'back': 'shristi', 'Contemporary': 'shristi', 'association': 'shristi', 'end': 'shristi', 'gridiron': 'shristi', 'traditional,': 'shristi', 'as': 'shristi', 'the': 'shristi', 'football;': 'shristi', '(known': 'shristi', 'and': 'shristi', 'normally': 'shristi', 'public': 'shristi', 'degrees,': 'shristi', 'Australian': 'shristi', 'extent': 'shristi', 'Empire.[7]': 'shristi', 'word': 'shristi', 'Oceania);': 'shristi', 'most': 'shristi', 'football': 'shristi', 'cultural': 'shristi', 'In': 'shristi', 'to': 'shristi', 'commonly': 'shristi', 'league;': 'shristi', 'areas': 'shristi', 'already': 'shristi', 'world.[9]': 'shristi', 'different': 'shristi', 'British': 'shristi', 'century.[5][6]': 'shristi', 'local': 'shristi', 'score': 'shristi', 'games': 'shristi', 'becoming': 'shristi', 'are': 'shristi', 'England,': 'shristi', 'maintain': 'shristi', 'for': 'shristi', 'traced': 'shristi', 'various': 'shristi', 'family': 'shristi', '(specifically': 'shristi', 'involve,': 'shristi', 'founded': 'shristi', 'during': 'shristi', 'allowed': 'shristi', 'varying': 'shristi', 'outside': 'shristi', 'North': 'shristi', 'called': 'shristi', 'goal.': 'shristi', 'ball': 'shristi', '19th': 'shristi', 'developing:': 'shristi', 'codes': 'shristi', 'Football': 'shristi', 'be': 'shristi', 'directly': 'shristi', 'many': 'shristi', 'several': 'shristi', 'common': 'shristi', 'century,': 'shristi', 'these': 'shristi', '20th': 'shristi', 'football.[1]': 'shristi', 'The': 'shristi', 'where': 'shristi', 'team': 'shristi', 'soccer': 'shristi', 'is': 'shristi', 'a': 'shristi', 'origins': 'shristi', 'used.': 'shristi', 'rugby': 'shristi', 'Canadian': 'shristi', 'become': 'shristi', 'world.[2][3][4]': 'shristi', 'was': 'shristi', 'Gaelic': 'shristi'}\n",
      "{'America': 'shristi', 'expansion': 'shristi', 'Unqualified,': 'shristi', 'popular': 'shristi', 'can': 'shristi', '1888,': 'shristi', 'prehistoric': 'shristi', 'of': 'shristi', 'traditional': 'shristi', 'grew': 'shristi', 'union': 'shristi', 'parts': 'shristi', 'kicking': 'shristi', 'number': 'shristi', 'During': 'shristi', 'associations.': 'shristi', 'known': 'shristi', 'sports': 'shristi', 'League': 'shristi', 'forms': 'shristi', 'schools': 'shristi', 'form': 'shristi', 'football);': 'shristi', 'kinds': 'shristi', 'There': 'shristi', 'that': 'shristi', 'influence': 'shristi', 'controlled': 'shristi', 'By': 'shristi', 'rules': 'shristi', 'deliberately': 'shristi', 'example,': 'shristi', 'codification': 'shristi', 'their': 'shristi', 'professional': 'shristi', 'regional': 'shristi', 'spread': 'shristi', 'in': 'shristi', 'references': 'shristi', 'played': 'shristi', 'some': 'shristi', 'include': 'shristi', 'ancient,': 'shristi', 'means': 'shristi', 'football,': 'shristi', 'at': 'shristi', 'Sports': 'shristi', 'back': 'shristi', 'Contemporary': 'shristi', 'association': 'shristi', 'end': 'shristi', 'gridiron': 'shristi', 'traditional,': 'shristi', 'as': 'shristi', 'the': 'shristi', 'football;': 'shristi', '(known': 'shristi', 'and': 'shristi', 'normally': 'shristi', 'public': 'shristi', 'degrees,': 'shristi', 'Australian': 'shristi', 'extent': 'shristi', 'Empire.[7]': 'shristi', 'word': 'shristi', 'Oceania);': 'shristi', 'most': 'shristi', 'football': 'shristi', 'cultural': 'shristi', 'In': 'shristi', 'to': 'shristi', 'commonly': 'shristi', 'league;': 'shristi', 'areas': 'shristi', 'already': 'shristi', 'world.[9]': 'shristi', 'different': 'shristi', 'British': 'shristi', 'century.[5][6]': 'shristi', 'local': 'shristi', 'score': 'shristi', 'games': 'shristi', 'becoming': 'shristi', 'are': 'shristi', 'England,': 'shristi', 'maintain': 'shristi', 'for': 'shristi', 'traced': 'shristi', 'various': 'shristi', 'family': 'shristi', '(specifically': 'shristi', 'involve,': 'shristi', 'founded': 'shristi', 'during': 'shristi', 'allowed': 'shristi', 'varying': 'shristi', 'outside': 'shristi', 'North': 'shristi', 'called': 'shristi', 'goal.': 'shristi', 'ball': 'shristi', '19th': 'shristi', 'developing:': 'shristi', 'codes': 'shristi', 'Football': 'shristi', 'be': 'shristi', 'directly': 'shristi', 'many': 'shristi', 'several': 'shristi', 'common': 'shristi', 'century,': 'shristi', 'these': 'shristi', '20th': 'shristi', 'football.[1]': 'shristi', 'The': 'shristi', 'where': 'shristi', 'team': 'shristi', 'soccer': 'shristi', 'is': 'shristi', 'a': 'shristi', 'origins': 'shristi', 'used.': 'shristi', 'rugby': 'shristi', 'Canadian': 'shristi', 'become': 'shristi', 'world.[2][3][4]': 'shristi', 'was': 'shristi', 'Gaelic': 'shristi', 'incorporated': 'shristi'}\n",
      "{'America': 'shristi', 'expansion': 'shristi', 'Unqualified,': 'shristi', 'popular': 'shristi', 'can': 'shristi', '1888,': 'shristi', 'prehistoric': 'shristi', 'of': 'shristi', 'traditional': 'shristi', 'grew': 'shristi', 'union': 'shristi', 'parts': 'shristi', 'kicking': 'shristi', 'number': 'shristi', 'During': 'shristi', 'associations.': 'shristi', 'known': 'shristi', 'sports': 'shristi', 'League': 'shristi', 'forms': 'shristi', 'schools': 'shristi', 'form': 'shristi', 'football);': 'shristi', 'kinds': 'shristi', 'There': 'shristi', 'that': 'shristi', 'influence': 'shristi', 'controlled': 'shristi', 'By': 'shristi', 'rules': 'shristi', 'deliberately': 'shristi', 'example,': 'shristi', 'codification': 'shristi', 'their': 'shristi', 'professional': 'shristi', 'regional': 'shristi', 'spread': 'shristi', 'in': 'shristi', 'references': 'shristi', 'played': 'shristi', 'some': 'shristi', 'include': 'shristi', 'ancient,': 'shristi', 'means': 'shristi', 'football,': 'shristi', 'at': 'shristi', 'Sports': 'shristi', 'back': 'shristi', 'Contemporary': 'shristi', 'association': 'shristi', 'end': 'shristi', 'gridiron': 'shristi', 'traditional,': 'shristi', 'as': 'shristi', 'the': 'shristi', 'football;': 'shristi', '(known': 'shristi', 'and': 'shristi', 'normally': 'shristi', 'public': 'shristi', 'degrees,': 'shristi', 'Australian': 'shristi', 'extent': 'shristi', 'Empire.[7]': 'shristi', 'word': 'shristi', 'Oceania);': 'shristi', 'most': 'shristi', 'football': 'shristi', 'cultural': 'shristi', 'In': 'shristi', 'to': 'shristi', 'commonly': 'shristi', 'league;': 'shristi', 'areas': 'shristi', 'already': 'shristi', 'world.[9]': 'shristi', 'different': 'shristi', 'British': 'shristi', 'century.[5][6]': 'shristi', 'local': 'shristi', 'score': 'shristi', 'games': 'shristi', 'becoming': 'shristi', 'are': 'shristi', 'England,': 'shristi', 'maintain': 'shristi', 'for': 'shristi', 'traced': 'shristi', 'various': 'shristi', 'family': 'shristi', '(specifically': 'shristi', 'involve,': 'shristi', 'founded': 'shristi', 'during': 'shristi', 'allowed': 'shristi', 'varying': 'shristi', 'outside': 'shristi', 'North': 'shristi', 'called': 'shristi', 'goal.': 'shristi', 'ball': 'shristi', '19th': 'shristi', 'developing:': 'shristi', 'codes': 'shristi', 'Football': 'shristi', 'be': 'shristi', 'directly': 'shristi', 'many': 'shristi', 'several': 'shristi', 'common': 'shristi', 'century,': 'shristi', 'these': 'shristi', '20th': 'shristi', 'football.[1]': 'shristi', 'The': 'shristi', 'where': 'shristi', 'team': 'shristi', 'soccer': 'shristi', 'is': 'shristi', 'a': 'shristi', 'origins': 'shristi', 'used.': 'shristi', 'rugby': 'shristi', 'Canadian': 'shristi', 'become': 'shristi', 'world.[2][3][4]': 'shristi', 'was': 'shristi', 'Gaelic': 'shristi', 'incorporated': 'shristi', 'order': 'shristi'}\n",
      "{'America': 'shristi', 'expansion': 'shristi', 'Unqualified,': 'shristi', 'popular': 'shristi', 'can': 'shristi', '1888,': 'shristi', 'prehistoric': 'shristi', 'of': 'shristi', 'traditional': 'shristi', 'grew': 'shristi', 'union': 'shristi', 'parts': 'shristi', 'kicking': 'shristi', 'number': 'shristi', 'During': 'shristi', 'associations.': 'shristi', 'known': 'shristi', 'sports': 'shristi', 'League': 'shristi', 'forms': 'shristi', 'schools': 'shristi', 'form': 'shristi', 'football);': 'shristi', 'kinds': 'shristi', 'There': 'shristi', 'that': 'shristi', 'influence': 'shristi', 'controlled': 'shristi', 'By': 'shristi', 'rules': 'shristi', 'deliberately': 'shristi', 'example,': 'shristi', 'codification': 'shristi', 'their': 'shristi', 'professional': 'shristi', 'regional': 'shristi', 'spread': 'shristi', 'in': 'shristi', 'references': 'shristi', 'played': 'shristi', 'some': 'shristi', 'include': 'shristi', 'ancient,': 'shristi', 'means': 'shristi', 'football,': 'shristi', 'at': 'shristi', 'Sports': 'shristi', 'back': 'shristi', 'Contemporary': 'shristi', 'association': 'shristi', 'end': 'shristi', 'gridiron': 'shristi', 'traditional,': 'shristi', 'as': 'shristi', 'the': 'shristi', 'football;': 'shristi', '(known': 'shristi', 'and': 'shristi', 'normally': 'shristi', 'public': 'shristi', 'degrees,': 'shristi', 'Australian': 'shristi', 'extent': 'shristi', 'Empire.[7]': 'shristi', 'word': 'shristi', 'Oceania);': 'shristi', 'most': 'shristi', 'football': 'shristi', 'cultural': 'shristi', 'In': 'shristi', 'to': 'shristi', 'commonly': 'shristi', 'league;': 'shristi', 'areas': 'shristi', 'already': 'shristi', 'world.[9]': 'shristi', 'different': 'shristi', 'British': 'shristi', 'century.[5][6]': 'shristi', 'local': 'shristi', 'score': 'shristi', 'games': 'shristi', 'becoming': 'shristi', 'are': 'shristi', 'England,': 'shristi', 'maintain': 'shristi', 'for': 'shristi', 'traced': 'shristi', 'various': 'shristi', 'family': 'shristi', '(specifically': 'shristi', 'involve,': 'shristi', 'founded': 'shristi', 'during': 'shristi', 'allowed': 'shristi', 'varying': 'shristi', 'outside': 'shristi', 'North': 'shristi', 'called': 'shristi', 'goal.': 'shristi', 'ball': 'shristi', '19th': 'shristi', 'developing:': 'shristi', 'codes': 'shristi', 'Football': 'shristi', 'be': 'shristi', 'directly': 'shristi', 'many': 'shristi', 'several': 'shristi', 'common': 'shristi', 'century,': 'shristi', 'these': 'shristi', '20th': 'shristi', 'football.[1]': 'shristi', 'The': 'shristi', 'where': 'shristi', 'team': 'shristi', 'soccer': 'shristi', 'is': 'shristi', 'a': 'shristi', 'origins': 'shristi', 'used.': 'shristi', 'rugby': 'shristi', 'Canadian': 'shristi', 'become': 'shristi', 'world.[2][3][4]': 'shristi', 'was': 'shristi', 'Gaelic': 'shristi', 'incorporated': 'shristi', 'order': 'shristi', 'English': 'shristi'}\n",
      "{'America': 'shristi', 'expansion': 'shristi', 'Unqualified,': 'shristi', 'popular': 'shristi', 'can': 'shristi', '1888,': 'shristi', 'prehistoric': 'shristi', 'of': 'shristi', 'traditional': 'shristi', 'grew': 'shristi', 'union': 'shristi', 'parts': 'shristi', 'kicking': 'shristi', 'number': 'shristi', 'During': 'shristi', 'associations.': 'shristi', 'known': 'shristi', 'sports': 'shristi', 'League': 'shristi', 'forms': 'shristi', 'schools': 'shristi', 'form': 'shristi', 'football);': 'shristi', 'kinds': 'shristi', 'There': 'shristi', 'that': 'shristi', 'influence': 'shristi', 'controlled': 'shristi', 'By': 'shristi', 'rules': 'shristi', 'deliberately': 'shristi', 'example,': 'shristi', 'codification': 'shristi', 'their': 'shristi', 'professional': 'shristi', 'regional': 'shristi', 'spread': 'shristi', 'in': 'shristi', 'references': 'shristi', 'played': 'shristi', 'some': 'shristi', 'include': 'shristi', 'ancient,': 'shristi', 'means': 'shristi', 'football,': 'shristi', 'at': 'shristi', 'Sports': 'shristi', 'back': 'shristi', 'Contemporary': 'shristi', 'association': 'shristi', 'end': 'shristi', 'gridiron': 'shristi', 'traditional,': 'shristi', 'as': 'shristi', 'the': 'shristi', 'football;': 'shristi', '(known': 'shristi', 'and': 'shristi', 'normally': 'shristi', 'public': 'shristi', 'degrees,': 'shristi', 'Australian': 'shristi', 'extent': 'shristi', 'Empire.[7]': 'shristi', 'word': 'shristi', 'Oceania);': 'shristi', 'most': 'shristi', 'football': 'shristi', 'cultural': 'shristi', 'In': 'shristi', 'to': 'shristi', 'commonly': 'shristi', 'league;': 'shristi', 'areas': 'shristi', 'already': 'shristi', 'world.[9]': 'shristi', 'different': 'shristi', 'British': 'shristi', 'century.[5][6]': 'shristi', 'local': 'shristi', 'score': 'shristi', 'games': 'shristi', 'becoming': 'shristi', 'are': 'shristi', 'England,': 'shristi', 'maintain': 'shristi', 'for': 'shristi', 'traced': 'shristi', 'various': 'shristi', 'family': 'shristi', '(specifically': 'shristi', 'involve,': 'shristi', 'founded': 'shristi', 'during': 'shristi', 'allowed': 'shristi', 'varying': 'shristi', 'outside': 'shristi', 'North': 'shristi', 'called': 'shristi', 'goal.': 'shristi', 'ball': 'shristi', '19th': 'shristi', 'developing:': 'shristi', 'codes': 'shristi', 'Football': 'shristi', 'be': 'shristi', 'directly': 'shristi', 'many': 'shristi', 'several': 'shristi', 'common': 'shristi', 'century,': 'shristi', 'these': 'shristi', '20th': 'shristi', 'football.[1]': 'shristi', 'The': 'shristi', 'where': 'shristi', 'team': 'shristi', 'soccer': 'shristi', 'is': 'shristi', 'a': 'shristi', 'origins': 'shristi', 'used.': 'shristi', 'rugby': 'shristi', 'Canadian': 'shristi', 'become': 'shristi', 'world.[2][3][4]': 'shristi', 'was': 'shristi', 'Gaelic': 'shristi', 'incorporated': 'shristi', 'order': 'shristi', 'English': 'shristi', 'American': 'shristi'}\n",
      "{'America': 'shristi', 'expansion': 'shristi', 'Unqualified,': 'shristi', 'popular': 'shristi', 'can': 'shristi', '1888,': 'shristi', 'prehistoric': 'shristi', 'of': 'shristi', 'traditional': 'shristi', 'grew': 'shristi', 'union': 'shristi', 'parts': 'shristi', 'kicking': 'shristi', 'number': 'shristi', 'During': 'shristi', 'associations.': 'shristi', 'known': 'shristi', 'sports': 'shristi', 'League': 'shristi', 'forms': 'shristi', 'schools': 'shristi', 'form': 'shristi', 'football);': 'shristi', 'kinds': 'shristi', 'There': 'shristi', 'that': 'shristi', 'influence': 'shristi', 'controlled': 'shristi', 'By': 'shristi', 'rules': 'shristi', 'deliberately': 'shristi', 'example,': 'shristi', 'codification': 'shristi', 'their': 'shristi', 'professional': 'shristi', 'regional': 'shristi', 'spread': 'shristi', 'in': 'shristi', 'references': 'shristi', 'played': 'shristi', 'some': 'shristi', 'include': 'shristi', 'ancient,': 'shristi', 'means': 'shristi', 'football,': 'shristi', 'at': 'shristi', 'Sports': 'shristi', 'back': 'shristi', 'Contemporary': 'shristi', 'association': 'shristi', 'end': 'shristi', 'gridiron': 'shristi', 'traditional,': 'shristi', 'as': 'shristi', 'the': 'shristi', 'football;': 'shristi', '(known': 'shristi', 'and': 'shristi', 'normally': 'shristi', 'public': 'shristi', 'degrees,': 'shristi', 'Australian': 'shristi', 'extent': 'shristi', 'Empire.[7]': 'shristi', 'word': 'shristi', 'Oceania);': 'shristi', 'most': 'shristi', 'football': 'shristi', 'cultural': 'shristi', 'In': 'shristi', 'to': 'shristi', 'commonly': 'shristi', 'league;': 'shristi', 'areas': 'shristi', 'already': 'shristi', 'world.[9]': 'shristi', 'different': 'shristi', 'British': 'shristi', 'century.[5][6]': 'shristi', 'local': 'shristi', 'score': 'shristi', 'games': 'shristi', 'becoming': 'shristi', 'are': 'shristi', 'England,': 'shristi', 'maintain': 'shristi', 'for': 'shristi', 'traced': 'shristi', 'various': 'shristi', 'family': 'shristi', '(specifically': 'shristi', 'involve,': 'shristi', 'founded': 'shristi', 'during': 'shristi', 'allowed': 'shristi', 'varying': 'shristi', 'outside': 'shristi', 'North': 'shristi', 'called': 'shristi', 'goal.': 'shristi', 'ball': 'shristi', '19th': 'shristi', 'developing:': 'shristi', 'codes': 'shristi', 'Football': 'shristi', 'be': 'shristi', 'directly': 'shristi', 'many': 'shristi', 'several': 'shristi', 'common': 'shristi', 'century,': 'shristi', 'these': 'shristi', '20th': 'shristi', 'football.[1]': 'shristi', 'The': 'shristi', 'where': 'shristi', 'team': 'shristi', 'soccer': 'shristi', 'is': 'shristi', 'a': 'shristi', 'origins': 'shristi', 'used.': 'shristi', 'rugby': 'shristi', 'Canadian': 'shristi', 'become': 'shristi', 'world.[2][3][4]': 'shristi', 'was': 'shristi', 'Gaelic': 'shristi', 'incorporated': 'shristi', 'order': 'shristi', 'English': 'shristi', 'American': 'shristi', 'Empire': 'shristi'}\n",
      "{'America': 'shristi', 'expansion': 'shristi', 'Unqualified,': 'shristi', 'popular': 'shristi', 'can': 'shristi', '1888,': 'shristi', 'prehistoric': 'shristi', 'of': 'shristi', 'traditional': 'shristi', 'grew': 'shristi', 'union': 'shristi', 'parts': 'shristi', 'kicking': 'shristi', 'number': 'shristi', 'During': 'shristi', 'associations.': 'shristi', 'known': 'shristi', 'sports': 'shristi', 'League': 'shristi', 'forms': 'shristi', 'schools': 'shristi', 'form': 'shristi', 'football);': 'shristi', 'kinds': 'shristi', 'There': 'shristi', 'that': 'shristi', 'influence': 'shristi', 'controlled': 'shristi', 'By': 'shristi', 'rules': 'shristi', 'deliberately': 'shristi', 'example,': 'shristi', 'codification': 'shristi', 'their': 'shristi', 'professional': 'shristi', 'regional': 'shristi', 'spread': 'shristi', 'in': 'shristi', 'references': 'shristi', 'played': 'shristi', 'some': 'shristi', 'include': 'shristi', 'ancient,': 'shristi', 'means': 'shristi', 'football,': 'shristi', 'at': 'shristi', 'Sports': 'shristi', 'back': 'shristi', 'Contemporary': 'shristi', 'association': 'shristi', 'end': 'shristi', 'gridiron': 'shristi', 'traditional,': 'shristi', 'as': 'shristi', 'the': 'shristi', 'football;': 'shristi', '(known': 'shristi', 'and': 'shristi', 'normally': 'shristi', 'public': 'shristi', 'degrees,': 'shristi', 'Australian': 'shristi', 'extent': 'shristi', 'Empire.[7]': 'shristi', 'word': 'shristi', 'Oceania);': 'shristi', 'most': 'shristi', 'football': 'shristi', 'cultural': 'shristi', 'In': 'shristi', 'to': 'shristi', 'commonly': 'shristi', 'league;': 'shristi', 'areas': 'shristi', 'already': 'shristi', 'world.[9]': 'shristi', 'different': 'shristi', 'British': 'shristi', 'century.[5][6]': 'shristi', 'local': 'shristi', 'score': 'shristi', 'games': 'shristi', 'becoming': 'shristi', 'are': 'shristi', 'England,': 'shristi', 'maintain': 'shristi', 'for': 'shristi', 'traced': 'shristi', 'various': 'shristi', 'family': 'shristi', '(specifically': 'shristi', 'involve,': 'shristi', 'founded': 'shristi', 'during': 'shristi', 'allowed': 'shristi', 'varying': 'shristi', 'outside': 'shristi', 'North': 'shristi', 'called': 'shristi', 'goal.': 'shristi', 'ball': 'shristi', '19th': 'shristi', 'developing:': 'shristi', 'codes': 'shristi', 'Football': 'shristi', 'be': 'shristi', 'directly': 'shristi', 'many': 'shristi', 'several': 'shristi', 'common': 'shristi', 'century,': 'shristi', 'these': 'shristi', '20th': 'shristi', 'football.[1]': 'shristi', 'The': 'shristi', 'where': 'shristi', 'team': 'shristi', 'soccer': 'shristi', 'is': 'shristi', 'a': 'shristi', 'origins': 'shristi', 'used.': 'shristi', 'rugby': 'shristi', 'Canadian': 'shristi', 'become': 'shristi', 'world.[2][3][4]': 'shristi', 'was': 'shristi', 'Gaelic': 'shristi', 'incorporated': 'shristi', 'order': 'shristi', 'English': 'shristi', 'American': 'shristi', 'Empire': 'shristi', 'were': 'shristi'}\n",
      "{'America': 'shristi', 'expansion': 'shristi', 'Unqualified,': 'shristi', 'popular': 'shristi', 'can': 'shristi', '1888,': 'shristi', 'prehistoric': 'shristi', 'of': 'shristi', 'traditional': 'shristi', 'grew': 'shristi', 'union': 'shristi', 'parts': 'shristi', 'kicking': 'shristi', 'number': 'shristi', 'During': 'shristi', 'associations.': 'shristi', 'known': 'shristi', 'sports': 'shristi', 'League': 'shristi', 'forms': 'shristi', 'schools': 'shristi', 'form': 'shristi', 'football);': 'shristi', 'kinds': 'shristi', 'There': 'shristi', 'that': 'shristi', 'influence': 'shristi', 'controlled': 'shristi', 'By': 'shristi', 'rules': 'shristi', 'deliberately': 'shristi', 'example,': 'shristi', 'codification': 'shristi', 'their': 'shristi', 'professional': 'shristi', 'regional': 'shristi', 'spread': 'shristi', 'in': 'shristi', 'references': 'shristi', 'played': 'shristi', 'some': 'shristi', 'include': 'shristi', 'ancient,': 'shristi', 'means': 'shristi', 'football,': 'shristi', 'at': 'shristi', 'Sports': 'shristi', 'back': 'shristi', 'Contemporary': 'shristi', 'association': 'shristi', 'end': 'shristi', 'gridiron': 'shristi', 'traditional,': 'shristi', 'as': 'shristi', 'the': 'shristi', 'football;': 'shristi', '(known': 'shristi', 'and': 'shristi', 'normally': 'shristi', 'public': 'shristi', 'degrees,': 'shristi', 'Australian': 'shristi', 'extent': 'shristi', 'Empire.[7]': 'shristi', 'word': 'shristi', 'Oceania);': 'shristi', 'most': 'shristi', 'football': 'shristi', 'cultural': 'shristi', 'In': 'shristi', 'to': 'shristi', 'commonly': 'shristi', 'league;': 'shristi', 'areas': 'shristi', 'already': 'shristi', 'world.[9]': 'shristi', 'different': 'shristi', 'British': 'shristi', 'century.[5][6]': 'shristi', 'local': 'shristi', 'score': 'shristi', 'games': 'shristi', 'becoming': 'shristi', 'are': 'shristi', 'England,': 'shristi', 'maintain': 'shristi', 'for': 'shristi', 'traced': 'shristi', 'various': 'shristi', 'family': 'shristi', '(specifically': 'shristi', 'involve,': 'shristi', 'founded': 'shristi', 'during': 'shristi', 'allowed': 'shristi', 'varying': 'shristi', 'outside': 'shristi', 'North': 'shristi', 'called': 'shristi', 'goal.': 'shristi', 'ball': 'shristi', '19th': 'shristi', 'developing:': 'shristi', 'codes': 'shristi', 'Football': 'shristi', 'be': 'shristi', 'directly': 'shristi', 'many': 'shristi', 'several': 'shristi', 'common': 'shristi', 'century,': 'shristi', 'these': 'shristi', '20th': 'shristi', 'football.[1]': 'shristi', 'The': 'shristi', 'where': 'shristi', 'team': 'shristi', 'soccer': 'shristi', 'is': 'shristi', 'a': 'shristi', 'origins': 'shristi', 'used.': 'shristi', 'rugby': 'shristi', 'Canadian': 'shristi', 'become': 'shristi', 'world.[2][3][4]': 'shristi', 'was': 'shristi', 'Gaelic': 'shristi', 'incorporated': 'shristi', 'order': 'shristi', 'English': 'shristi', 'American': 'shristi', 'Empire': 'shristi', 'were': 'shristi', 'heritage.[8]': 'shristi'}\n",
      "{'America': 'shristi', 'expansion': 'shristi', 'Unqualified,': 'shristi', 'popular': 'shristi', 'can': 'shristi', '1888,': 'shristi', 'prehistoric': 'shristi', 'of': 'shristi', 'traditional': 'shristi', 'grew': 'shristi', 'union': 'shristi', 'parts': 'shristi', 'kicking': 'shristi', 'number': 'shristi', 'During': 'shristi', 'associations.': 'shristi', 'known': 'shristi', 'sports': 'shristi', 'League': 'shristi', 'forms': 'shristi', 'schools': 'shristi', 'form': 'shristi', 'football);': 'shristi', 'kinds': 'shristi', 'There': 'shristi', 'that': 'shristi', 'influence': 'shristi', 'controlled': 'shristi', 'By': 'shristi', 'rules': 'shristi', 'deliberately': 'shristi', 'example,': 'shristi', 'codification': 'shristi', 'their': 'shristi', 'professional': 'shristi', 'regional': 'shristi', 'spread': 'shristi', 'in': 'shristi', 'references': 'shristi', 'played': 'shristi', 'some': 'shristi', 'include': 'shristi', 'ancient,': 'shristi', 'means': 'shristi', 'football,': 'shristi', 'at': 'shristi', 'Sports': 'shristi', 'back': 'shristi', 'Contemporary': 'shristi', 'association': 'shristi', 'end': 'shristi', 'gridiron': 'shristi', 'traditional,': 'shristi', 'as': 'shristi', 'the': 'shristi', 'football;': 'shristi', '(known': 'shristi', 'and': 'shristi', 'normally': 'shristi', 'public': 'shristi', 'degrees,': 'shristi', 'Australian': 'shristi', 'extent': 'shristi', 'Empire.[7]': 'shristi', 'word': 'shristi', 'Oceania);': 'shristi', 'most': 'shristi', 'football': 'shristi', 'cultural': 'shristi', 'In': 'shristi', 'to': 'shristi', 'commonly': 'shristi', 'league;': 'shristi', 'areas': 'shristi', 'already': 'shristi', 'world.[9]': 'shristi', 'different': 'shristi', 'British': 'shristi', 'century.[5][6]': 'shristi', 'local': 'shristi', 'score': 'shristi', 'games': 'shristi', 'becoming': 'shristi', 'are': 'shristi', 'England,': 'shristi', 'maintain': 'shristi', 'for': 'shristi', 'traced': 'shristi', 'various': 'shristi', 'family': 'shristi', '(specifically': 'shristi', 'involve,': 'shristi', 'founded': 'shristi', 'during': 'shristi', 'allowed': 'shristi', 'varying': 'shristi', 'outside': 'shristi', 'North': 'shristi', 'called': 'shristi', 'goal.': 'shristi', 'ball': 'shristi', '19th': 'shristi', 'developing:': 'shristi', 'codes': 'shristi', 'Football': 'shristi', 'be': 'shristi', 'directly': 'shristi', 'many': 'shristi', 'several': 'shristi', 'common': 'shristi', 'century,': 'shristi', 'these': 'shristi', '20th': 'shristi', 'football.[1]': 'shristi', 'The': 'shristi', 'where': 'shristi', 'team': 'shristi', 'soccer': 'shristi', 'is': 'shristi', 'a': 'shristi', 'origins': 'shristi', 'used.': 'shristi', 'rugby': 'shristi', 'Canadian': 'shristi', 'become': 'shristi', 'world.[2][3][4]': 'shristi', 'was': 'shristi', 'Gaelic': 'shristi', 'incorporated': 'shristi', 'order': 'shristi', 'English': 'shristi', 'American': 'shristi', 'Empire': 'shristi', 'were': 'shristi', 'heritage.[8]': 'shristi', 'share': 'shristi'}\n",
      "{'America': 'shristi', 'expansion': 'shristi', 'Unqualified,': 'shristi', 'popular': 'shristi', 'can': 'shristi', '1888,': 'shristi', 'prehistoric': 'shristi', 'of': 'shristi', 'traditional': 'shristi', 'grew': 'shristi', 'union': 'shristi', 'parts': 'shristi', 'kicking': 'shristi', 'number': 'shristi', 'During': 'shristi', 'associations.': 'shristi', 'known': 'shristi', 'sports': 'shristi', 'League': 'shristi', 'forms': 'shristi', 'schools': 'shristi', 'form': 'shristi', 'football);': 'shristi', 'kinds': 'shristi', 'There': 'shristi', 'that': 'shristi', 'influence': 'shristi', 'controlled': 'shristi', 'By': 'shristi', 'rules': 'shristi', 'deliberately': 'shristi', 'example,': 'shristi', 'codification': 'shristi', 'their': 'shristi', 'professional': 'shristi', 'regional': 'shristi', 'spread': 'shristi', 'in': 'shristi', 'references': 'shristi', 'played': 'shristi', 'some': 'shristi', 'include': 'shristi', 'ancient,': 'shristi', 'means': 'shristi', 'football,': 'shristi', 'at': 'shristi', 'Sports': 'shristi', 'back': 'shristi', 'Contemporary': 'shristi', 'association': 'shristi', 'end': 'shristi', 'gridiron': 'shristi', 'traditional,': 'shristi', 'as': 'shristi', 'the': 'shristi', 'football;': 'shristi', '(known': 'shristi', 'and': 'shristi', 'normally': 'shristi', 'public': 'shristi', 'degrees,': 'shristi', 'Australian': 'shristi', 'extent': 'shristi', 'Empire.[7]': 'shristi', 'word': 'shristi', 'Oceania);': 'shristi', 'most': 'shristi', 'football': 'shristi', 'cultural': 'shristi', 'In': 'shristi', 'to': 'shristi', 'commonly': 'shristi', 'league;': 'shristi', 'areas': 'shristi', 'already': 'shristi', 'world.[9]': 'shristi', 'different': 'shristi', 'British': 'shristi', 'century.[5][6]': 'shristi', 'local': 'shristi', 'score': 'shristi', 'games': 'shristi', 'becoming': 'shristi', 'are': 'shristi', 'England,': 'shristi', 'maintain': 'shristi', 'for': 'shristi', 'traced': 'shristi', 'various': 'shristi', 'family': 'shristi', '(specifically': 'shristi', 'involve,': 'shristi', 'founded': 'shristi', 'during': 'shristi', 'allowed': 'shristi', 'varying': 'shristi', 'outside': 'shristi', 'North': 'shristi', 'called': 'shristi', 'goal.': 'shristi', 'ball': 'shristi', '19th': 'shristi', 'developing:': 'shristi', 'codes': 'shristi', 'Football': 'shristi', 'be': 'shristi', 'directly': 'shristi', 'many': 'shristi', 'several': 'shristi', 'common': 'shristi', 'century,': 'shristi', 'these': 'shristi', '20th': 'shristi', 'football.[1]': 'shristi', 'The': 'shristi', 'where': 'shristi', 'team': 'shristi', 'soccer': 'shristi', 'is': 'shristi', 'a': 'shristi', 'origins': 'shristi', 'used.': 'shristi', 'rugby': 'shristi', 'Canadian': 'shristi', 'become': 'shristi', 'world.[2][3][4]': 'shristi', 'was': 'shristi', 'Gaelic': 'shristi', 'incorporated': 'shristi', 'order': 'shristi', 'English': 'shristi', 'American': 'shristi', 'Empire': 'shristi', 'were': 'shristi', 'heritage.[8]': 'shristi', 'share': 'shristi', 'or': 'shristi'}\n",
      "{'America': 'shristi', 'expansion': 'shristi', 'Unqualified,': 'shristi', 'popular': 'shristi', 'can': 'shristi', '1888,': 'shristi', 'prehistoric': 'shristi', 'of': 'shristi', 'traditional': 'shristi', 'grew': 'shristi', 'union': 'shristi', 'parts': 'shristi', 'kicking': 'shristi', 'number': 'shristi', 'During': 'shristi', 'associations.': 'shristi', 'known': 'shristi', 'sports': 'shristi', 'League': 'shristi', 'forms': 'shristi', 'schools': 'shristi', 'form': 'shristi', 'football);': 'shristi', 'kinds': 'shristi', 'There': 'shristi', 'that': 'shristi', 'influence': 'shristi', 'controlled': 'shristi', 'By': 'shristi', 'rules': 'shristi', 'deliberately': 'shristi', 'example,': 'shristi', 'codification': 'shristi', 'their': 'shristi', 'professional': 'shristi', 'regional': 'shristi', 'spread': 'shristi', 'in': 'shristi', 'references': 'shristi', 'played': 'shristi', 'some': 'shristi', 'include': 'shristi', 'ancient,': 'shristi', 'means': 'shristi', 'football,': 'shristi', 'at': 'shristi', 'Sports': 'shristi', 'back': 'shristi', 'Contemporary': 'shristi', 'association': 'shristi', 'end': 'shristi', 'gridiron': 'shristi', 'traditional,': 'shristi', 'as': 'shristi', 'the': 'shristi', 'football;': 'shristi', '(known': 'shristi', 'and': 'shristi', 'normally': 'shristi', 'public': 'shristi', 'degrees,': 'shristi', 'Australian': 'shristi', 'extent': 'shristi', 'Empire.[7]': 'shristi', 'word': 'shristi', 'Oceania);': 'shristi', 'most': 'shristi', 'football': 'shristi', 'cultural': 'shristi', 'In': 'shristi', 'to': 'shristi', 'commonly': 'shristi', 'league;': 'shristi', 'areas': 'shristi', 'already': 'shristi', 'world.[9]': 'shristi', 'different': 'shristi', 'British': 'shristi', 'century.[5][6]': 'shristi', 'local': 'shristi', 'score': 'shristi', 'games': 'shristi', 'becoming': 'shristi', 'are': 'shristi', 'England,': 'shristi', 'maintain': 'shristi', 'for': 'shristi', 'traced': 'shristi', 'various': 'shristi', 'family': 'shristi', '(specifically': 'shristi', 'involve,': 'shristi', 'founded': 'shristi', 'during': 'shristi', 'allowed': 'shristi', 'varying': 'shristi', 'outside': 'shristi', 'North': 'shristi', 'called': 'shristi', 'goal.': 'shristi', 'ball': 'shristi', '19th': 'shristi', 'developing:': 'shristi', 'codes': 'shristi', 'Football': 'shristi', 'be': 'shristi', 'directly': 'shristi', 'many': 'shristi', 'several': 'shristi', 'common': 'shristi', 'century,': 'shristi', 'these': 'shristi', '20th': 'shristi', 'football.[1]': 'shristi', 'The': 'shristi', 'where': 'shristi', 'team': 'shristi', 'soccer': 'shristi', 'is': 'shristi', 'a': 'shristi', 'origins': 'shristi', 'used.': 'shristi', 'rugby': 'shristi', 'Canadian': 'shristi', 'become': 'shristi', 'world.[2][3][4]': 'shristi', 'was': 'shristi', 'Gaelic': 'shristi', 'incorporated': 'shristi', 'order': 'shristi', 'English': 'shristi', 'American': 'shristi', 'Empire': 'shristi', 'were': 'shristi', 'heritage.[8]': 'shristi', 'share': 'shristi', 'or': 'shristi', 'distinct': 'shristi'}\n",
      "{'America': 'shristi', 'expansion': 'shristi', 'Unqualified,': 'shristi', 'popular': 'shristi', 'can': 'shristi', '1888,': 'shristi', 'prehistoric': 'shristi', 'of': 'shristi', 'traditional': 'shristi', 'grew': 'shristi', 'union': 'shristi', 'parts': 'shristi', 'kicking': 'shristi', 'number': 'shristi', 'During': 'shristi', 'associations.': 'shristi', 'known': 'shristi', 'sports': 'shristi', 'League': 'shristi', 'forms': 'shristi', 'schools': 'shristi', 'form': 'shristi', 'football);': 'shristi', 'kinds': 'shristi', 'There': 'shristi', 'that': 'shristi', 'influence': 'shristi', 'controlled': 'shristi', 'By': 'shristi', 'rules': 'shristi', 'deliberately': 'shristi', 'example,': 'shristi', 'codification': 'shristi', 'their': 'shristi', 'professional': 'shristi', 'regional': 'shristi', 'spread': 'shristi', 'in': 'shristi', 'references': 'shristi', 'played': 'shristi', 'some': 'shristi', 'include': 'shristi', 'ancient,': 'shristi', 'means': 'shristi', 'football,': 'shristi', 'at': 'shristi', 'Sports': 'shristi', 'back': 'shristi', 'Contemporary': 'shristi', 'association': 'shristi', 'end': 'shristi', 'gridiron': 'shristi', 'traditional,': 'shristi', 'as': 'shristi', 'the': 'shristi', 'football;': 'shristi', '(known': 'shristi', 'and': 'shristi', 'normally': 'shristi', 'public': 'shristi', 'degrees,': 'shristi', 'Australian': 'shristi', 'extent': 'shristi', 'Empire.[7]': 'shristi', 'word': 'shristi', 'Oceania);': 'shristi', 'most': 'shristi', 'football': 'shristi', 'cultural': 'shristi', 'In': 'shristi', 'to': 'shristi', 'commonly': 'shristi', 'league;': 'shristi', 'areas': 'shristi', 'already': 'shristi', 'world.[9]': 'shristi', 'different': 'shristi', 'British': 'shristi', 'century.[5][6]': 'shristi', 'local': 'shristi', 'score': 'shristi', 'games': 'shristi', 'becoming': 'shristi', 'are': 'shristi', 'England,': 'shristi', 'maintain': 'shristi', 'for': 'shristi', 'traced': 'shristi', 'various': 'shristi', 'family': 'shristi', '(specifically': 'shristi', 'involve,': 'shristi', 'founded': 'shristi', 'during': 'shristi', 'allowed': 'shristi', 'varying': 'shristi', 'outside': 'shristi', 'North': 'shristi', 'called': 'shristi', 'goal.': 'shristi', 'ball': 'shristi', '19th': 'shristi', 'developing:': 'shristi', 'codes': 'shristi', 'Football': 'shristi', 'be': 'shristi', 'directly': 'shristi', 'many': 'shristi', 'several': 'shristi', 'common': 'shristi', 'century,': 'shristi', 'these': 'shristi', '20th': 'shristi', 'football.[1]': 'shristi', 'The': 'shristi', 'where': 'shristi', 'team': 'shristi', 'soccer': 'shristi', 'is': 'shristi', 'a': 'shristi', 'origins': 'shristi', 'used.': 'shristi', 'rugby': 'shristi', 'Canadian': 'shristi', 'become': 'shristi', 'world.[2][3][4]': 'shristi', 'was': 'shristi', 'Gaelic': 'shristi', 'incorporated': 'shristi', 'order': 'shristi', 'English': 'shristi', 'American': 'shristi', 'Empire': 'shristi', 'were': 'shristi', 'heritage.[8]': 'shristi', 'share': 'shristi', 'or': 'shristi', 'distinct': 'shristi', 'codes.': 'shristi'}\n",
      "{'America': 'shristi', 'expansion': 'shristi', 'Unqualified,': 'shristi', 'popular': 'shristi', 'can': 'shristi', '1888,': 'shristi', 'prehistoric': 'shristi', 'of': 'shristi', 'traditional': 'shristi', 'grew': 'shristi', 'union': 'shristi', 'parts': 'shristi', 'kicking': 'shristi', 'number': 'shristi', 'During': 'shristi', 'associations.': 'shristi', 'known': 'shristi', 'sports': 'shristi', 'League': 'shristi', 'forms': 'shristi', 'schools': 'shristi', 'form': 'shristi', 'football);': 'shristi', 'kinds': 'shristi', 'There': 'shristi', 'that': 'shristi', 'influence': 'shristi', 'controlled': 'shristi', 'By': 'shristi', 'rules': 'shristi', 'deliberately': 'shristi', 'example,': 'shristi', 'codification': 'shristi', 'their': 'shristi', 'professional': 'shristi', 'regional': 'shristi', 'spread': 'shristi', 'in': 'shristi', 'references': 'shristi', 'played': 'shristi', 'some': 'shristi', 'include': 'shristi', 'ancient,': 'shristi', 'means': 'shristi', 'football,': 'shristi', 'at': 'shristi', 'Sports': 'shristi', 'back': 'shristi', 'Contemporary': 'shristi', 'association': 'shristi', 'end': 'shristi', 'gridiron': 'shristi', 'traditional,': 'shristi', 'as': 'shristi', 'the': 'shristi', 'football;': 'shristi', '(known': 'shristi', 'and': 'shristi', 'normally': 'shristi', 'public': 'shristi', 'degrees,': 'shristi', 'Australian': 'shristi', 'extent': 'shristi', 'Empire.[7]': 'shristi', 'word': 'shristi', 'Oceania);': 'shristi', 'most': 'shristi', 'football': 'shristi', 'cultural': 'shristi', 'In': 'shristi', 'to': 'shristi', 'commonly': 'shristi', 'league;': 'shristi', 'areas': 'shristi', 'already': 'shristi', 'world.[9]': 'shristi', 'different': 'shristi', 'British': 'shristi', 'century.[5][6]': 'shristi', 'local': 'shristi', 'score': 'shristi', 'games': 'shristi', 'becoming': 'shristi', 'are': 'shristi', 'England,': 'shristi', 'maintain': 'shristi', 'for': 'shristi', 'traced': 'shristi', 'various': 'shristi', 'family': 'shristi', '(specifically': 'shristi', 'involve,': 'shristi', 'founded': 'shristi', 'during': 'shristi', 'allowed': 'shristi', 'varying': 'shristi', 'outside': 'shristi', 'North': 'shristi', 'called': 'shristi', 'goal.': 'shristi', 'ball': 'shristi', '19th': 'shristi', 'developing:': 'shristi', 'codes': 'shristi', 'Football': 'shristi', 'be': 'shristi', 'directly': 'shristi', 'many': 'shristi', 'several': 'shristi', 'common': 'shristi', 'century,': 'shristi', 'these': 'shristi', '20th': 'shristi', 'football.[1]': 'shristi', 'The': 'shristi', 'where': 'shristi', 'team': 'shristi', 'soccer': 'shristi', 'is': 'shristi', 'a': 'shristi', 'origins': 'shristi', 'used.': 'shristi', 'rugby': 'shristi', 'Canadian': 'shristi', 'become': 'shristi', 'world.[2][3][4]': 'shristi', 'was': 'shristi', 'Gaelic': 'shristi', 'incorporated': 'shristi', 'order': 'shristi', 'English': 'shristi', 'American': 'shristi', 'Empire': 'shristi', 'were': 'shristi', 'heritage.[8]': 'shristi', 'share': 'shristi', 'or': 'shristi', 'distinct': 'shristi', 'codes.': 'shristi', 'These': 'shristi'}\n",
      "{'America': 'shristi', 'expansion': 'shristi', 'Unqualified,': 'shristi', 'popular': 'shristi', 'can': 'shristi', '1888,': 'shristi', 'prehistoric': 'shristi', 'of': 'shristi', 'traditional': 'shristi', 'grew': 'shristi', 'union': 'shristi', 'parts': 'shristi', 'kicking': 'shristi', 'number': 'shristi', 'During': 'shristi', 'associations.': 'shristi', 'known': 'shristi', 'sports': 'shristi', 'League': 'shristi', 'forms': 'shristi', 'schools': 'shristi', 'form': 'shristi', 'football);': 'shristi', 'kinds': 'shristi', 'There': 'shristi', 'that': 'shristi', 'influence': 'shristi', 'controlled': 'shristi', 'By': 'shristi', 'rules': 'shristi', 'deliberately': 'shristi', 'example,': 'shristi', 'codification': 'shristi', 'their': 'shristi', 'professional': 'shristi', 'regional': 'shristi', 'spread': 'shristi', 'in': 'shristi', 'references': 'shristi', 'played': 'shristi', 'some': 'shristi', 'include': 'shristi', 'ancient,': 'shristi', 'means': 'shristi', 'football,': 'shristi', 'at': 'shristi', 'Sports': 'shristi', 'back': 'shristi', 'Contemporary': 'shristi', 'association': 'shristi', 'end': 'shristi', 'gridiron': 'shristi', 'traditional,': 'shristi', 'as': 'shristi', 'the': 'shristi', 'football;': 'shristi', '(known': 'shristi', 'and': 'shristi', 'normally': 'shristi', 'public': 'shristi', 'degrees,': 'shristi', 'Australian': 'shristi', 'extent': 'shristi', 'Empire.[7]': 'shristi', 'word': 'shristi', 'Oceania);': 'shristi', 'most': 'shristi', 'football': 'shristi', 'cultural': 'shristi', 'In': 'shristi', 'to': 'shristi', 'commonly': 'shristi', 'league;': 'shristi', 'areas': 'shristi', 'already': 'shristi', 'world.[9]': 'shristi', 'different': 'shristi', 'British': 'shristi', 'century.[5][6]': 'shristi', 'local': 'shristi', 'score': 'shristi', 'games': 'shristi', 'becoming': 'shristi', 'are': 'shristi', 'England,': 'shristi', 'maintain': 'shristi', 'for': 'shristi', 'traced': 'shristi', 'various': 'shristi', 'family': 'shristi', '(specifically': 'shristi', 'involve,': 'shristi', 'founded': 'shristi', 'during': 'shristi', 'allowed': 'shristi', 'varying': 'shristi', 'outside': 'shristi', 'North': 'shristi', 'called': 'shristi', 'goal.': 'shristi', 'ball': 'shristi', '19th': 'shristi', 'developing:': 'shristi', 'codes': 'shristi', 'Football': 'shristi', 'be': 'shristi', 'directly': 'shristi', 'many': 'shristi', 'several': 'shristi', 'common': 'shristi', 'century,': 'shristi', 'these': 'shristi', '20th': 'shristi', 'football.[1]': 'shristi', 'The': 'shristi', 'where': 'shristi', 'team': 'shristi', 'soccer': 'shristi', 'is': 'shristi', 'a': 'shristi', 'origins': 'shristi', 'used.': 'shristi', 'rugby': 'shristi', 'Canadian': 'shristi', 'become': 'shristi', 'world.[2][3][4]': 'shristi', 'was': 'shristi', 'Gaelic': 'shristi', 'incorporated': 'shristi', 'order': 'shristi', 'English': 'shristi', 'American': 'shristi', 'Empire': 'shristi', 'were': 'shristi', 'heritage.[8]': 'shristi', 'share': 'shristi', 'or': 'shristi', 'distinct': 'shristi', 'codes.': 'shristi', 'These': 'shristi', 'first': 'shristi'}\n"
     ]
    }
   ],
   "source": [
    "z={}\n",
    "for i in y:\n",
    "    z[i]=\"shristi\"\n",
    "    \n",
    "    print(z)"
   ]
  },
  {
   "cell_type": "code",
   "execution_count": 39,
   "id": "ff30b6f1",
   "metadata": {},
   "outputs": [
    {
     "data": {
      "text/plain": [
       "{'America': 'shristi',\n",
       " 'expansion': 'shristi',\n",
       " 'Unqualified,': 'shristi',\n",
       " 'popular': 'shristi',\n",
       " 'can': 'shristi',\n",
       " '1888,': 'shristi',\n",
       " 'prehistoric': 'shristi',\n",
       " 'of': 'shristi',\n",
       " 'traditional': 'shristi',\n",
       " 'grew': 'shristi',\n",
       " 'union': 'shristi',\n",
       " 'parts': 'shristi',\n",
       " 'kicking': 'shristi',\n",
       " 'number': 'shristi',\n",
       " 'During': 'shristi',\n",
       " 'associations.': 'shristi',\n",
       " 'known': 'shristi',\n",
       " 'sports': 'shristi',\n",
       " 'League': 'shristi',\n",
       " 'forms': 'shristi',\n",
       " 'schools': 'shristi',\n",
       " 'form': 'shristi',\n",
       " 'football);': 'shristi',\n",
       " 'kinds': 'shristi',\n",
       " 'There': 'shristi',\n",
       " 'that': 'shristi',\n",
       " 'influence': 'shristi',\n",
       " 'controlled': 'shristi',\n",
       " 'By': 'shristi',\n",
       " 'rules': 'shristi',\n",
       " 'deliberately': 'shristi',\n",
       " 'example,': 'shristi',\n",
       " 'codification': 'shristi',\n",
       " 'their': 'shristi',\n",
       " 'professional': 'shristi',\n",
       " 'regional': 'shristi',\n",
       " 'spread': 'shristi',\n",
       " 'in': 'shristi',\n",
       " 'references': 'shristi',\n",
       " 'played': 'shristi',\n",
       " 'some': 'shristi',\n",
       " 'include': 'shristi',\n",
       " 'ancient,': 'shristi',\n",
       " 'means': 'shristi',\n",
       " 'football,': 'shristi',\n",
       " 'at': 'shristi',\n",
       " 'Sports': 'shristi',\n",
       " 'back': 'shristi',\n",
       " 'Contemporary': 'shristi',\n",
       " 'association': 'shristi',\n",
       " 'end': 'shristi',\n",
       " 'gridiron': 'shristi',\n",
       " 'traditional,': 'shristi',\n",
       " 'as': 'shristi',\n",
       " 'the': 'shristi',\n",
       " 'football;': 'shristi',\n",
       " '(known': 'shristi',\n",
       " 'and': 'shristi',\n",
       " 'normally': 'shristi',\n",
       " 'public': 'shristi',\n",
       " 'degrees,': 'shristi',\n",
       " 'Australian': 'shristi',\n",
       " 'extent': 'shristi',\n",
       " 'Empire.[7]': 'shristi',\n",
       " 'word': 'shristi',\n",
       " 'Oceania);': 'shristi',\n",
       " 'most': 'shristi',\n",
       " 'football': 'shristi',\n",
       " 'cultural': 'shristi',\n",
       " 'In': 'shristi',\n",
       " 'to': 'shristi',\n",
       " 'commonly': 'shristi',\n",
       " 'league;': 'shristi',\n",
       " 'areas': 'shristi',\n",
       " 'already': 'shristi',\n",
       " 'world.[9]': 'shristi',\n",
       " 'different': 'shristi',\n",
       " 'British': 'shristi',\n",
       " 'century.[5][6]': 'shristi',\n",
       " 'local': 'shristi',\n",
       " 'score': 'shristi',\n",
       " 'games': 'shristi',\n",
       " 'becoming': 'shristi',\n",
       " 'are': 'shristi',\n",
       " 'England,': 'shristi',\n",
       " 'maintain': 'shristi',\n",
       " 'for': 'shristi',\n",
       " 'traced': 'shristi',\n",
       " 'various': 'shristi',\n",
       " 'family': 'shristi',\n",
       " '(specifically': 'shristi',\n",
       " 'involve,': 'shristi',\n",
       " 'founded': 'shristi',\n",
       " 'during': 'shristi',\n",
       " 'allowed': 'shristi',\n",
       " 'varying': 'shristi',\n",
       " 'outside': 'shristi',\n",
       " 'North': 'shristi',\n",
       " 'called': 'shristi',\n",
       " 'goal.': 'shristi',\n",
       " 'ball': 'shristi',\n",
       " '19th': 'shristi',\n",
       " 'developing:': 'shristi',\n",
       " 'codes': 'shristi',\n",
       " 'Football': 'shristi',\n",
       " 'be': 'shristi',\n",
       " 'directly': 'shristi',\n",
       " 'many': 'shristi',\n",
       " 'several': 'shristi',\n",
       " 'common': 'shristi',\n",
       " 'century,': 'shristi',\n",
       " 'these': 'shristi',\n",
       " '20th': 'shristi',\n",
       " 'football.[1]': 'shristi',\n",
       " 'The': 'shristi',\n",
       " 'where': 'shristi',\n",
       " 'team': 'shristi',\n",
       " 'soccer': 'shristi',\n",
       " 'is': 'shristi',\n",
       " 'a': 'shristi',\n",
       " 'origins': 'shristi',\n",
       " 'used.': 'shristi',\n",
       " 'rugby': 'shristi',\n",
       " 'Canadian': 'shristi',\n",
       " 'become': 'shristi',\n",
       " 'world.[2][3][4]': 'shristi',\n",
       " 'was': 'shristi',\n",
       " 'Gaelic': 'shristi',\n",
       " 'incorporated': 'shristi',\n",
       " 'order': 'shristi',\n",
       " 'English': 'shristi',\n",
       " 'American': 'shristi',\n",
       " 'Empire': 'shristi',\n",
       " 'were': 'shristi',\n",
       " 'heritage.[8]': 'shristi',\n",
       " 'share': 'shristi',\n",
       " 'or': 'shristi',\n",
       " 'distinct': 'shristi',\n",
       " 'codes.': 'shristi',\n",
       " 'These': 'shristi',\n",
       " 'first': 'shristi'}"
      ]
     },
     "execution_count": 39,
     "metadata": {},
     "output_type": "execute_result"
    }
   ],
   "source": [
    "z"
   ]
  },
  {
   "cell_type": "code",
   "execution_count": 41,
   "id": "c377e973",
   "metadata": {},
   "outputs": [
    {
     "name": "stdout",
     "output_type": "stream",
     "text": [
      "('shristi', 'shristi', 'shristi', 'shristi', 'shristi', 'shristi', 'shristi', 'shristi', 'shristi', 'shristi', 'shristi', 'shristi', 'shristi', 'shristi', 'shristi', 'shristi', 'shristi', 'shristi', 'shristi', 'shristi', 'shristi', 'shristi', 'shristi', 'shristi', 'shristi', 'shristi', 'shristi', 'shristi', 'shristi', 'shristi', 'shristi', 'shristi', 'shristi', 'shristi', 'shristi', 'shristi', 'shristi', 'shristi', 'shristi', 'shristi', 'shristi', 'shristi', 'shristi', 'shristi', 'shristi', 'shristi', 'shristi', 'shristi', 'shristi', 'shristi', 'shristi', 'shristi', 'shristi', 'shristi', 'shristi', 'shristi', 'shristi', 'shristi', 'shristi', 'shristi', 'shristi', 'shristi', 'shristi', 'shristi', 'shristi', 'shristi', 'shristi', 'shristi', 'shristi', 'shristi', 'shristi', 'shristi', 'shristi', 'shristi', 'shristi', 'shristi', 'shristi', 'shristi', 'shristi', 'shristi', 'shristi', 'shristi', 'shristi', 'shristi', 'shristi', 'shristi', 'shristi', 'shristi', 'shristi', 'shristi', 'shristi', 'shristi', 'shristi', 'shristi', 'shristi', 'shristi', 'shristi', 'shristi', 'shristi', 'shristi', 'shristi', 'shristi', 'shristi', 'shristi', 'shristi', 'shristi', 'shristi', 'shristi', 'shristi', 'shristi', 'shristi', 'shristi', 'shristi', 'shristi', 'shristi', 'shristi', 'shristi', 'shristi', 'shristi', 'shristi', 'shristi', 'shristi', 'shristi', 'shristi', 'shristi', 'shristi', 'shristi', 'shristi', 'shristi', 'shristi', 'shristi', 'shristi', 'shristi', 'shristi', 'shristi', 'shristi', 'shristi', 'shristi', 'shristi', 'shristi', 'shristi')\n"
     ]
    }
   ],
   "source": [
    "print(tuple(z.values()))"
   ]
  },
  {
   "cell_type": "code",
   "execution_count": 42,
   "id": "16e31ace",
   "metadata": {},
   "outputs": [
    {
     "name": "stdout",
     "output_type": "stream",
     "text": [
      "['America', 'expansion', 'Unqualified,', 'popular', 'can', '1888,', 'prehistoric', 'of', 'traditional', 'grew', 'union', 'parts', 'kicking', 'number', 'During', 'associations.', 'known', 'sports', 'League', 'forms', 'schools', 'form', 'football);', 'kinds', 'There', 'that', 'influence', 'controlled', 'By', 'rules', 'deliberately', 'example,', 'codification', 'their', 'professional', 'regional', 'spread', 'in', 'references', 'played', 'some', 'include', 'ancient,', 'means', 'football,', 'at', 'Sports', 'back', 'Contemporary', 'association', 'end', 'gridiron', 'traditional,', 'as', 'the', 'football;', '(known', 'and', 'normally', 'public', 'degrees,', 'Australian', 'extent', 'Empire.[7]', 'word', 'Oceania);', 'most', 'football', 'cultural', 'In', 'to', 'commonly', 'league;', 'areas', 'already', 'world.[9]', 'different', 'British', 'century.[5][6]', 'local', 'score', 'games', 'becoming', 'are', 'England,', 'maintain', 'for', 'traced', 'various', 'family', '(specifically', 'involve,', 'founded', 'during', 'allowed', 'varying', 'outside', 'North', 'called', 'goal.', 'ball', '19th', 'developing:', 'codes', 'Football', 'be', 'directly', 'many', 'several', 'common', 'century,', 'these', '20th', 'football.[1]', 'The', 'where', 'team', 'soccer', 'is', 'a', 'origins', 'used.', 'rugby', 'Canadian', 'become', 'world.[2][3][4]', 'was', 'Gaelic', 'incorporated', 'order', 'English', 'American', 'Empire', 'were', 'heritage.[8]', 'share', 'or', 'distinct', 'codes.', 'These', 'first']\n"
     ]
    }
   ],
   "source": [
    "print(list(z.keys()))"
   ]
  },
  {
   "cell_type": "code",
   "execution_count": 62,
   "id": "668f81c9",
   "metadata": {},
   "outputs": [],
   "source": [
    "dic={\"name\":\"shristi\",\"age\":32,\"daughter\":\"artika\",\"husband\":\"mukund\"}"
   ]
  },
  {
   "cell_type": "code",
   "execution_count": 63,
   "id": "816fead4",
   "metadata": {},
   "outputs": [
    {
     "name": "stdout",
     "output_type": "stream",
     "text": [
      "these are keys: name ; these are values: shristi\n",
      "these are keys: age ; these are values: 32\n",
      "these are keys: daughter ; these are values: artika\n",
      "these are keys: husband ; these are values: mukund\n"
     ]
    }
   ],
   "source": [
    "for i in dic:\n",
    "    print(\"these are keys:\",i,\";\",\"these are values:\",dic[i])"
   ]
  },
  {
   "cell_type": "code",
   "execution_count": 64,
   "id": "07c46d28",
   "metadata": {},
   "outputs": [],
   "source": [
    "for i in dic:\n",
    "    if i==\"age\":\n",
    "        if dic[i] < 30:\n",
    "            print(\"that is fine\")\n",
    "        else:\n",
    "            dic[i]== 40"
   ]
  },
  {
   "cell_type": "code",
   "execution_count": 65,
   "id": "57794807",
   "metadata": {},
   "outputs": [
    {
     "data": {
      "text/plain": [
       "{'name': 'shristi', 'age': 32, 'daughter': 'artika', 'husband': 'mukund'}"
      ]
     },
     "execution_count": 65,
     "metadata": {},
     "output_type": "execute_result"
    }
   ],
   "source": [
    "dic"
   ]
  },
  {
   "cell_type": "code",
   "execution_count": 67,
   "id": "f1818405",
   "metadata": {},
   "outputs": [
    {
     "data": {
      "text/plain": [
       "{0: 0, 1: 1, 2: 4, 3: 9, 4: 16, 5: 25, 6: 36, 7: 49, 8: 64, 9: 81}"
      ]
     },
     "execution_count": 67,
     "metadata": {},
     "output_type": "execute_result"
    }
   ],
   "source": [
    "{i:i*i for i in range(10)}"
   ]
  },
  {
   "cell_type": "code",
   "execution_count": 74,
   "id": "66d1c9e1",
   "metadata": {},
   "outputs": [],
   "source": [
    "def test(a:8,b):\n",
    "    return a+b\n"
   ]
  },
  {
   "cell_type": "code",
   "execution_count": 75,
   "id": "c79e5025",
   "metadata": {},
   "outputs": [
    {
     "ename": "TypeError",
     "evalue": "test() missing 1 required positional argument: 'b'",
     "output_type": "error",
     "traceback": [
      "\u001b[1;31m---------------------------------------------------------------------------\u001b[0m",
      "\u001b[1;31mTypeError\u001b[0m                                 Traceback (most recent call last)",
      "\u001b[1;32m~\\AppData\\Local\\Temp/ipykernel_7376/1991044260.py\u001b[0m in \u001b[0;36m<module>\u001b[1;34m\u001b[0m\n\u001b[1;32m----> 1\u001b[1;33m \u001b[0mtest\u001b[0m\u001b[1;33m(\u001b[0m\u001b[1;36m78\u001b[0m\u001b[1;33m)\u001b[0m\u001b[1;33m\u001b[0m\u001b[1;33m\u001b[0m\u001b[0m\n\u001b[0m",
      "\u001b[1;31mTypeError\u001b[0m: test() missing 1 required positional argument: 'b'"
     ]
    }
   ],
   "source": [
    "test(78)"
   ]
  },
  {
   "cell_type": "code",
   "execution_count": 77,
   "id": "fc40f0f6",
   "metadata": {},
   "outputs": [],
   "source": [
    "def test(*args):\n",
    "    return args"
   ]
  },
  {
   "cell_type": "code",
   "execution_count": 86,
   "id": "278c28bd",
   "metadata": {},
   "outputs": [],
   "source": [
    "y=test([8,9],[6,7],[2,3])"
   ]
  },
  {
   "cell_type": "code",
   "execution_count": 89,
   "id": "3435a3bc",
   "metadata": {},
   "outputs": [],
   "source": [
    "z=list(y)"
   ]
  },
  {
   "cell_type": "code",
   "execution_count": 93,
   "id": "f68eacee",
   "metadata": {},
   "outputs": [],
   "source": [
    "x=z.append(\""
   ]
  },
  {
   "cell_type": "code",
   "execution_count": 95,
   "id": "ccf14b1e",
   "metadata": {},
   "outputs": [],
   "source": [
    "x"
   ]
  },
  {
   "cell_type": "code",
   "execution_count": 90,
   "id": "a8808679",
   "metadata": {},
   "outputs": [
    {
     "ename": "TypeError",
     "evalue": "list.append() takes exactly one argument (0 given)",
     "output_type": "error",
     "traceback": [
      "\u001b[1;31m---------------------------------------------------------------------------\u001b[0m",
      "\u001b[1;31mTypeError\u001b[0m                                 Traceback (most recent call last)",
      "\u001b[1;32m~\\AppData\\Local\\Temp/ipykernel_7376/2030299364.py\u001b[0m in \u001b[0;36m<module>\u001b[1;34m\u001b[0m\n\u001b[0;32m      1\u001b[0m \u001b[0ml\u001b[0m\u001b[1;33m=\u001b[0m\u001b[1;33m[\u001b[0m\u001b[1;33m]\u001b[0m\u001b[1;33m\u001b[0m\u001b[1;33m\u001b[0m\u001b[0m\n\u001b[0;32m      2\u001b[0m \u001b[1;32mfor\u001b[0m \u001b[0mi\u001b[0m \u001b[1;32min\u001b[0m \u001b[0mz\u001b[0m\u001b[1;33m:\u001b[0m\u001b[1;33m\u001b[0m\u001b[1;33m\u001b[0m\u001b[0m\n\u001b[1;32m----> 3\u001b[1;33m     \u001b[0mz\u001b[0m\u001b[1;33m.\u001b[0m\u001b[0mappend\u001b[0m\u001b[1;33m(\u001b[0m\u001b[1;33m)\u001b[0m\u001b[1;33m\u001b[0m\u001b[1;33m\u001b[0m\u001b[0m\n\u001b[0m\u001b[0;32m      4\u001b[0m     \u001b[0mprint\u001b[0m\u001b[1;33m(\u001b[0m\u001b[0mz\u001b[0m\u001b[1;33m)\u001b[0m\u001b[1;33m\u001b[0m\u001b[1;33m\u001b[0m\u001b[0m\n",
      "\u001b[1;31mTypeError\u001b[0m: list.append() takes exactly one argument (0 given)"
     ]
    }
   ],
   "source": [
    "l=[]\n",
    "for i in z:\n",
    "    z.append()\n",
    "    print(z)"
   ]
  },
  {
   "cell_type": "code",
   "execution_count": 141,
   "id": "5e7abbdb",
   "metadata": {},
   "outputs": [],
   "source": [
    "l=[]\n",
    "k=[]\n",
    "\n",
    "def test(*args):\n",
    " \n",
    "     for i in test:\n",
    "        if type(i)==args:\n",
    "             a=l.append(i)\n",
    "        if type(i)==args:\n",
    "             b=k.append(i)\n",
    "\n",
    "        return a,b\n",
    "        \n",
    "        "
   ]
  },
  {
   "cell_type": "code",
   "execution_count": 140,
   "id": "44b7bc33",
   "metadata": {},
   "outputs": [
    {
     "data": {
      "text/plain": [
       "('shristi',\n",
       " 'shristi',\n",
       " 'shristi',\n",
       " 'shristi',\n",
       " 'shristi',\n",
       " 'shristi',\n",
       " 'shristi',\n",
       " 'shristi',\n",
       " 'shristi',\n",
       " 'shristi',\n",
       " 'shristi',\n",
       " 'shristi',\n",
       " 'shristi',\n",
       " 'shristi',\n",
       " 'shristi',\n",
       " 'shristi',\n",
       " 'shristi',\n",
       " 'shristi',\n",
       " 'shristi',\n",
       " 'shristi',\n",
       " 'shristi',\n",
       " 'shristi',\n",
       " 'shristi',\n",
       " 'shristi',\n",
       " 'shristi',\n",
       " 'shristi',\n",
       " 'shristi',\n",
       " 'shristi',\n",
       " 'shristi',\n",
       " 'shristi',\n",
       " 'shristi',\n",
       " 'shristi',\n",
       " 'shristi',\n",
       " 'shristi',\n",
       " 'shristi',\n",
       " 'shristi',\n",
       " 'shristi',\n",
       " 'shristi',\n",
       " 'shristi',\n",
       " 'shristi',\n",
       " 'shristi',\n",
       " 'shristi',\n",
       " 'shristi',\n",
       " 'shristi',\n",
       " 'shristi',\n",
       " 'shristi',\n",
       " 'shristi',\n",
       " 'shristi',\n",
       " 'shristi',\n",
       " 'shristi',\n",
       " 'shristi',\n",
       " 'shristi',\n",
       " 'shristi',\n",
       " 'shristi',\n",
       " 'shristi',\n",
       " 'shristi',\n",
       " 'shristi',\n",
       " 'shristi',\n",
       " 'shristi',\n",
       " 'shristi',\n",
       " 'shristi',\n",
       " 'shristi',\n",
       " 'shristi',\n",
       " 'shristi',\n",
       " 'shristi',\n",
       " 'shristi',\n",
       " 'shristi',\n",
       " 'shristi',\n",
       " 'shristi',\n",
       " 'shristi',\n",
       " 'shristi',\n",
       " 'shristi',\n",
       " 'shristi',\n",
       " 'shristi',\n",
       " 'shristi',\n",
       " 'shristi',\n",
       " 'shristi',\n",
       " 'shristi',\n",
       " 'shristi',\n",
       " 'shristi',\n",
       " 'shristi',\n",
       " 'shristi',\n",
       " 'shristi',\n",
       " 'shristi',\n",
       " 'shristi',\n",
       " 'shristi',\n",
       " 'shristi',\n",
       " 'shristi',\n",
       " 'shristi',\n",
       " 'shristi',\n",
       " 'shristi',\n",
       " 'shristi',\n",
       " 'shristi',\n",
       " 'shristi',\n",
       " 'shristi',\n",
       " 'shristi',\n",
       " 'shristi',\n",
       " 'shristi',\n",
       " 'shristi',\n",
       " 'shristi',\n",
       " 'shristi',\n",
       " 'shristi',\n",
       " 'shristi',\n",
       " 'shristi',\n",
       " 'shristi',\n",
       " 'shristi',\n",
       " 'shristi',\n",
       " 'shristi',\n",
       " 'shristi',\n",
       " 'shristi',\n",
       " 'shristi',\n",
       " 'shristi',\n",
       " 'shristi',\n",
       " 'shristi',\n",
       " 'shristi',\n",
       " 'shristi',\n",
       " 'shristi',\n",
       " 'shristi',\n",
       " 'shristi',\n",
       " 'shristi',\n",
       " 'shristi',\n",
       " 'shristi',\n",
       " 'shristi',\n",
       " 'shristi',\n",
       " 'shristi',\n",
       " 'shristi',\n",
       " 'shristi',\n",
       " 'shristi',\n",
       " 'shristi',\n",
       " 'shristi',\n",
       " 'shristi',\n",
       " 'shristi',\n",
       " 'shristi',\n",
       " 'shristi',\n",
       " 'shristi',\n",
       " 'shristi',\n",
       " 'shristi',\n",
       " 'shristi',\n",
       " 'shristi',\n",
       " 'shristi',\n",
       " 'shristi')"
      ]
     },
     "execution_count": 140,
     "metadata": {},
     "output_type": "execute_result"
    }
   ],
   "source": [
    "a"
   ]
  },
  {
   "cell_type": "code",
   "execution_count": 128,
   "id": "8e2340dd",
   "metadata": {},
   "outputs": [
    {
     "data": {
      "text/plain": [
       "([9, 9], 8, 'kkj')"
      ]
     },
     "execution_count": 128,
     "metadata": {},
     "output_type": "execute_result"
    }
   ],
   "source": [
    "y\n"
   ]
  },
  {
   "cell_type": "code",
   "execution_count": 119,
   "id": "c7f63b78",
   "metadata": {},
   "outputs": [
    {
     "data": {
      "text/plain": [
       "[]"
      ]
     },
     "execution_count": 119,
     "metadata": {},
     "output_type": "execute_result"
    }
   ],
   "source": [
    "l"
   ]
  },
  {
   "cell_type": "code",
   "execution_count": 142,
   "id": "36db1ddf",
   "metadata": {},
   "outputs": [],
   "source": [
    "l=[]\n",
    "def test5(*args,**kwargs):\n",
    "    for i in test5:\n",
    "        l=l+i\n",
    "    \n",
    "    return(args,kwargs)"
   ]
  },
  {
   "cell_type": "code",
   "execution_count": 144,
   "id": "4c0b425f",
   "metadata": {},
   "outputs": [
    {
     "ename": "SyntaxError",
     "evalue": "invalid syntax (Temp/ipykernel_7376/406852318.py, line 2)",
     "output_type": "error",
     "traceback": [
      "\u001b[1;36m  File \u001b[1;32m\"C:\\Users\\Shristi\\AppData\\Local\\Temp/ipykernel_7376/406852318.py\"\u001b[1;36m, line \u001b[1;32m2\u001b[0m\n\u001b[1;33m    a[]\u001b[0m\n\u001b[1;37m      ^\u001b[0m\n\u001b[1;31mSyntaxError\u001b[0m\u001b[1;31m:\u001b[0m invalid syntax\n"
     ]
    }
   ],
   "source": [
    "def test(*args):\n",
    "    a=[]\n",
    "    b[]\n",
    "    c[]\n",
    "    for i in args:\n",
    "        if type(i)==list:\n",
    "            a.append(i)\n",
    "        if type(i)==tuple:\n",
    "            b.append(i)\n",
    "        if type(i)==int:\n",
    "            c.append(i)\n",
    "            \n",
    "    return a,b,c"
   ]
  },
  {
   "cell_type": "code",
   "execution_count": null,
   "id": "f05e1165",
   "metadata": {},
   "outputs": [],
   "source": []
  }
 ],
 "metadata": {
  "kernelspec": {
   "display_name": "Python 3 (ipykernel)",
   "language": "python",
   "name": "python3"
  },
  "language_info": {
   "codemirror_mode": {
    "name": "ipython",
    "version": 3
   },
   "file_extension": ".py",
   "mimetype": "text/x-python",
   "name": "python",
   "nbconvert_exporter": "python",
   "pygments_lexer": "ipython3",
   "version": "3.9.7"
  }
 },
 "nbformat": 4,
 "nbformat_minor": 5
}
