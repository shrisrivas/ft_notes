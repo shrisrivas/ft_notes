{
 "cells": [
  {
   "cell_type": "code",
   "execution_count": 23,
   "id": "d943498e",
   "metadata": {},
   "outputs": [],
   "source": [
    "f=open(\"1.txt\",\"w+\")"
   ]
  },
  {
   "cell_type": "code",
   "execution_count": 24,
   "id": "0e74a796",
   "metadata": {},
   "outputs": [],
   "source": [
    "f=open(\"1.txt\",\"r+\")"
   ]
  },
  {
   "cell_type": "code",
   "execution_count": 25,
   "id": "31c4567b",
   "metadata": {},
   "outputs": [
    {
     "data": {
      "text/plain": [
       "2"
      ]
     },
     "execution_count": 25,
     "metadata": {},
     "output_type": "execute_result"
    }
   ],
   "source": [
    "f.write(\"hi\")"
   ]
  },
  {
   "cell_type": "code",
   "execution_count": 27,
   "id": "de0c5297",
   "metadata": {},
   "outputs": [
    {
     "name": "stdout",
     "output_type": "stream",
     "text": [
      "\n"
     ]
    }
   ],
   "source": [
    "print(f.read())"
   ]
  },
  {
   "cell_type": "code",
   "execution_count": 37,
   "id": "a65d54bf",
   "metadata": {},
   "outputs": [],
   "source": [
    "import os\n",
    "if not os.path.isdir(\"newdir\"):\n",
    "    os.mkdir(\"newdir\")\n",
    "    \n",
    "os.chdir(\"./newdir\")"
   ]
  },
  {
   "cell_type": "code",
   "execution_count": 36,
   "id": "a895b81b",
   "metadata": {},
   "outputs": [],
   "source": [
    "for i in range(10):\n",
    "    f=open('file'+str(i)+'.txt','w+')\n",
    "    f.write('file'+str(i)+'.txt')\n",
    "    f.close()"
   ]
  },
  {
   "cell_type": "code",
   "execution_count": 32,
   "id": "5ee1486a",
   "metadata": {},
   "outputs": [
    {
     "name": "stdout",
     "output_type": "stream",
     "text": [
      "file0.txt\n",
      "file1.txt\n",
      "file2.txt\n",
      "file3.txt\n",
      "file4.txt\n",
      "file5.txt\n",
      "file6.txt\n",
      "file7.txt\n",
      "file8.txt\n",
      "file9.txt\n"
     ]
    }
   ],
   "source": [
    "for i in range(10):\n",
    "    data=[]\n",
    "    f=open('file'+str(i)+'.txt','r+')\n",
    "    print(f.read())\n",
    "    f.close()"
   ]
  },
  {
   "cell_type": "code",
   "execution_count": 33,
   "id": "58f4216d",
   "metadata": {},
   "outputs": [],
   "source": [
    "f=open(\"newlistfile.txt\",'w+')"
   ]
  },
  {
   "cell_type": "code",
   "execution_count": 40,
   "id": "fa4d25c0",
   "metadata": {},
   "outputs": [],
   "source": [
    "for i in data:\n",
    "    f.write(i)\n",
    "f.close()"
   ]
  },
  {
   "cell_type": "code",
   "execution_count": null,
   "id": "412b023f",
   "metadata": {},
   "outputs": [],
   "source": []
  }
 ],
 "metadata": {
  "kernelspec": {
   "display_name": "Python 3 (ipykernel)",
   "language": "python",
   "name": "python3"
  },
  "language_info": {
   "codemirror_mode": {
    "name": "ipython",
    "version": 3
   },
   "file_extension": ".py",
   "mimetype": "text/x-python",
   "name": "python",
   "nbconvert_exporter": "python",
   "pygments_lexer": "ipython3",
   "version": "3.10.5"
  }
 },
 "nbformat": 4,
 "nbformat_minor": 5
}
