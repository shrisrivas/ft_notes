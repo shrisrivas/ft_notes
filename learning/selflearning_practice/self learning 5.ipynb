{
 "cells": [
  {
   "cell_type": "code",
   "execution_count": 3,
   "id": "6b3008e7",
   "metadata": {},
   "outputs": [],
   "source": [
    "import text"
   ]
  },
  {
   "cell_type": "code",
   "execution_count": 4,
   "id": "e122a34b",
   "metadata": {},
   "outputs": [],
   "source": [
    "import imp"
   ]
  },
  {
   "cell_type": "code",
   "execution_count": 5,
   "id": "f6f27c4c",
   "metadata": {},
   "outputs": [
    {
     "name": "stdout",
     "output_type": "stream",
     "text": [
      "this is my first module\n"
     ]
    },
    {
     "data": {
      "text/plain": [
       "<module 'text' from 'C:\\\\Users\\\\Shristi\\\\Desktop\\\\Data Science\\\\notes\\\\text.py'>"
      ]
     },
     "execution_count": 5,
     "metadata": {},
     "output_type": "execute_result"
    }
   ],
   "source": [
    "imp.reload(text)"
   ]
  },
  {
   "cell_type": "code",
   "execution_count": 7,
   "id": "c70ad124",
   "metadata": {},
   "outputs": [],
   "source": [
    "import add"
   ]
  },
  {
   "cell_type": "code",
   "execution_count": 8,
   "id": "48607efe",
   "metadata": {},
   "outputs": [],
   "source": [
    "import imp"
   ]
  },
  {
   "cell_type": "code",
   "execution_count": 9,
   "id": "a8c1ff84",
   "metadata": {},
   "outputs": [
    {
     "data": {
      "text/plain": [
       "<module 'add' from 'C:\\\\Users\\\\Shristi\\\\Desktop\\\\Data Science\\\\notes\\\\add.py'>"
      ]
     },
     "execution_count": 9,
     "metadata": {},
     "output_type": "execute_result"
    }
   ],
   "source": [
    "imp.reload(add)"
   ]
  },
  {
   "cell_type": "code",
   "execution_count": 10,
   "id": "ee4b222c",
   "metadata": {},
   "outputs": [
    {
     "data": {
      "text/plain": [
       "12"
      ]
     },
     "execution_count": 10,
     "metadata": {},
     "output_type": "execute_result"
    }
   ],
   "source": [
    "5+7"
   ]
  },
  {
   "cell_type": "code",
   "execution_count": 12,
   "id": "d55fa015",
   "metadata": {},
   "outputs": [
    {
     "data": {
      "text/plain": [
       "16"
      ]
     },
     "execution_count": 12,
     "metadata": {},
     "output_type": "execute_result"
    }
   ],
   "source": [
    "add.addition(7,9)"
   ]
  },
  {
   "cell_type": "code",
   "execution_count": 2,
   "id": "ef903ce5",
   "metadata": {},
   "outputs": [],
   "source": [
    "dic={\n",
    "    'ant':1,\n",
    "    'rat':3\n",
    "}"
   ]
  },
  {
   "cell_type": "code",
   "execution_count": 3,
   "id": "f9c6b76d",
   "metadata": {},
   "outputs": [
    {
     "data": {
      "text/plain": [
       "{'ant': 1, 'rat': 3}"
      ]
     },
     "execution_count": 3,
     "metadata": {},
     "output_type": "execute_result"
    }
   ],
   "source": [
    "dic"
   ]
  },
  {
   "cell_type": "code",
   "execution_count": 12,
   "id": "80a15b95",
   "metadata": {},
   "outputs": [
    {
     "name": "stdout",
     "output_type": "stream",
     "text": [
      "ant\n",
      "1\n",
      "rat\n",
      "3\n"
     ]
    }
   ],
   "source": [
    "for i,k in dic.items():\n",
    "    print (i)\n",
    "    print (k)"
   ]
  },
  {
   "cell_type": "code",
   "execution_count": 19,
   "id": "fea8d4f6",
   "metadata": {},
   "outputs": [],
   "source": [
    "def test():\n",
    "    return 9\n"
   ]
  },
  {
   "cell_type": "code",
   "execution_count": 20,
   "id": "7915c666",
   "metadata": {},
   "outputs": [
    {
     "data": {
      "text/plain": [
       "18"
      ]
     },
     "execution_count": 20,
     "metadata": {},
     "output_type": "execute_result"
    }
   ],
   "source": [
    "test()+9"
   ]
  },
  {
   "cell_type": "code",
   "execution_count": null,
   "id": "d41ddd47",
   "metadata": {},
   "outputs": [],
   "source": []
  }
 ],
 "metadata": {
  "kernelspec": {
   "display_name": "Python 3 (ipykernel)",
   "language": "python",
   "name": "python3"
  },
  "language_info": {
   "codemirror_mode": {
    "name": "ipython",
    "version": 3
   },
   "file_extension": ".py",
   "mimetype": "text/x-python",
   "name": "python",
   "nbconvert_exporter": "python",
   "pygments_lexer": "ipython3",
   "version": "3.9.7"
  }
 },
 "nbformat": 4,
 "nbformat_minor": 5
}
