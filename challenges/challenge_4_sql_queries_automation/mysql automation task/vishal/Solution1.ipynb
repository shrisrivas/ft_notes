{
 "cells": [
  {
   "cell_type": "code",
   "execution_count": 2,
   "metadata": {},
   "outputs": [
    {
     "name": "stdout",
     "output_type": "stream",
     "text": [
      "Data added to table carbon_nanotubes in DB: homework!\n"
     ]
    }
   ],
   "source": [
    "try:\n",
    "    import csv\n",
    "    import mysql.connector as connection\n",
    "    my_db = connection.connect(host=\"localhost\", user=\"root\", passwd=\"1234\")\n",
    "    cur = my_db.cursor()\n",
    "\n",
    "    cur.execute(\"CREATE DATABASE homework\")\n",
    "    cur.execute(\"USE homework\")\n",
    "\n",
    "    dtypes = (\"INT(10) \"*2 + \"FLOAT(7,6) \"*6).split(\" \")[:-1]\n",
    "\n",
    "    with open(\"carbon_nanotubes.csv\") as file:\n",
    "        query = next(file).replace(',', '.').replace(';', ',').replace(' ', '_').replace(\"'\",'')\n",
    "        cols = query.split(',')\n",
    "        final_query = \"\".join(map(lambda x,y: x + ' ' + y + ',',cols, dtypes))[:-1]\n",
    "#         print((final_query))\n",
    "        cur.execute(f\"\"\"CREATE TABLE carbon_nanotubes ({final_query})\"\"\")\n",
    "        data = csv.reader(file, delimiter=\"\\n\")\n",
    "        for row in data:\n",
    "            r = (row[0].replace(',', '.').replace(';', ','))\n",
    "#             print(r)\n",
    "            cur.execute(f\"INSERT INTO carbon_nanotubes VALUES({r})\")\n",
    "\n",
    "    my_db.commit()\n",
    "    print(\"Data added to table carbon_nanotubes in DB: homework!\")\n",
    "            \n",
    "except Exception as e:\n",
    "    print(e)\n",
    "\n",
    "finally:\n",
    "#     cur.execute(\"DROP DATABASE homework\")\n",
    "    my_db.close()\n",
    "    cur.close()\n",
    "    \n"
   ]
  },
  {
   "cell_type": "code",
   "execution_count": null,
   "metadata": {},
   "outputs": [],
   "source": []
  }
 ],
 "metadata": {
  "kernelspec": {
   "display_name": "Python 3",
   "language": "python",
   "name": "python3"
  },
  "language_info": {
   "codemirror_mode": {
    "name": "ipython",
    "version": 3
   },
   "file_extension": ".py",
   "mimetype": "text/x-python",
   "name": "python",
   "nbconvert_exporter": "python",
   "pygments_lexer": "ipython3",
   "version": "3.8.5"
  }
 },
 "nbformat": 4,
 "nbformat_minor": 4
}
