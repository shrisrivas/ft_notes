{
 "cells": [
  {
   "cell_type": "code",
   "execution_count": 30,
   "metadata": {},
   "outputs": [],
   "source": [
    "import mysql.connector as connection\n",
    "import csv\n",
    "\n",
    "with open('carbon_nanotubes.csv') as csv_file:\n",
    "    csv_reader = csv.reader(csv_file, delimiter=';')\n",
    "    line_count = 0\n",
    "    data = []\n",
    "    for row in csv_reader:\n",
    "        if line_count == 0:\n",
    "            line_count += 1\n",
    "        else:\n",
    "            data.append(tuple(row))\n",
    "            line_count += 1"
   ]
  },
  {
   "cell_type": "code",
   "execution_count": 31,
   "metadata": {},
   "outputs": [],
   "source": [
    "mydb = connection.connect(host=\"localhost\", user=\"root\", passwd=\"mysql\",use_pure=True)\n",
    "cur = mydb.cursor()\n",
    "#cur.execute(\"Create database UCI\")\n",
    "cur.execute(\"CREATE TABLE IF NOT EXISTS UCI.carbon_nanotubes(Chiral_indice_n INT(5),Chiral_indice_m INT(5), Initial_atomic_coordinate_u nvarchar(15), Initial_atomic_coordinate_v nvarchar(15),Initial_atomic_coordinate_w nvarchar(15),\" \\\n",
    "            \" Calculated_atomic_coordinates_u nvarchar(15), Calculated_atomic_coordinates_v nvarchar(15), Calculated_atomic_coordinates_w nvarchar(15))\")\n",
    "\n"
   ]
  },
  {
   "cell_type": "code",
   "execution_count": 33,
   "metadata": {},
   "outputs": [
    {
     "name": "stdout",
     "output_type": "stream",
     "text": [
      "10721 Record inserted successfully into UCI.carbon_nanotubes table\n"
     ]
    }
   ],
   "source": [
    "mySql_insert_query = \"\"\"INSERT INTO UCI.carbon_nanotubes VALUES (%s, %s, %s, %s, %s, %s, %s, %s) \"\"\"\n",
    "\n",
    "records_to_insert = data\n",
    "\n",
    "cur = mydb.cursor()\n",
    "cur.executemany(mySql_insert_query, records_to_insert)\n",
    "mydb.commit()\n",
    "print(cur.rowcount, \"Record inserted successfully into UCI.carbon_nanotubes table\")"
   ]
  },
  {
   "cell_type": "code",
   "execution_count": null,
   "metadata": {},
   "outputs": [],
   "source": []
  }
 ],
 "metadata": {
  "kernelspec": {
   "display_name": "Python 3",
   "language": "python",
   "name": "python3"
  },
  "language_info": {
   "codemirror_mode": {
    "name": "ipython",
    "version": 3
   },
   "file_extension": ".py",
   "mimetype": "text/x-python",
   "name": "python",
   "nbconvert_exporter": "python",
   "pygments_lexer": "ipython3",
   "version": "3.7.6"
  }
 },
 "nbformat": 4,
 "nbformat_minor": 4
}
