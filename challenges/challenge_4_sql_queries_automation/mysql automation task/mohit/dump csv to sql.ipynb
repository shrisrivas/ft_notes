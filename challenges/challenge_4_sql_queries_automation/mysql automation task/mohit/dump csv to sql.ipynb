{
 "cells": [
  {
   "cell_type": "code",
   "execution_count": null,
   "metadata": {},
   "outputs": [],
   "source": [
    "import pandas as pd\n",
    "data=pd.read_csv(r\"Downloads/carbon_nanotubes.csv\",sep=';' )\n",
    "data\n",
    "for i in data.columns:\n",
    "    for j in data[i]:\n",
    "        j=str(j)\n",
    "        if \",\" in j:\n",
    "            a=data[data[i]==j].index.values\n",
    "            j=j.split(\",\")[1]\n",
    "            data[i][a]=j\n",
    "data\n",
    "a=data.to_csv(\"carbon_new.csv\")\n",
    "import mysql.connector as connection \n",
    "mydb=connection.connect(host='localhost', user='root',passwd=\"Uniquepiece@1\", use_pure=True)\n",
    "mydb.is_connected()\n",
    "cursor=mydb.cursor()\n",
    "cursor.execute(\"create database nano;\")\n",
    "cursor.execute(\"show databases;\")\n",
    "cursor.execute(\"create table nano.carbon_nano_tubes(Chiral_indice_n varchar(10), Chiral_indice_m varchar(10),Initial_atomic_coordinate_u varchar(10),Initial_atomic_coordinate_v varchar(10), Initial_atomic_coordinate_w varchar(10), Calculated_atomic_coordinates_u varchar(10), Calculated_atomic_coordinates_v varchar(10), Calculated_atomic_coordinates_w varchar(10))\")\n",
    "print(cursor.fetchall())\n",
    "import csv\n",
    "with open (\"carbon_new.csv\",'r') as f:\n",
    "    data_csv=csv.reader(f)\n",
    "    print(data_csv)\n",
    "    next(data_csv)\n",
    "    for i in data_csv:\n",
    "        j=i[1:9]\n",
    "        joi= \",\".join(j)\n",
    "        print(joi)\n",
    "        cursor.execute(\"insert into nano.carbon_nanotubes values ({f})\".format(f=joi))\n",
    "print(\"data inserted\")\n",
    "mydb.commit()\n",
    "\n"
   ]
  },
  {
   "cell_type": "code",
   "execution_count": null,
   "metadata": {},
   "outputs": [],
   "source": []
  }
 ],
 "metadata": {
  "kernelspec": {
   "display_name": "Python 3",
   "language": "python",
   "name": "python3"
  },
  "language_info": {
   "codemirror_mode": {
    "name": "ipython",
    "version": 3
   },
   "file_extension": ".py",
   "mimetype": "text/x-python",
   "name": "python",
   "nbconvert_exporter": "python",
   "pygments_lexer": "ipython3",
   "version": "3.8.5"
  }
 },
 "nbformat": 4,
 "nbformat_minor": 4
}
