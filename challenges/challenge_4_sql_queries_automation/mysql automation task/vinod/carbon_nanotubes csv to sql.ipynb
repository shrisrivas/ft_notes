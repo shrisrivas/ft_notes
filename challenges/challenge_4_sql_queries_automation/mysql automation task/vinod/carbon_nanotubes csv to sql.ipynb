{
 "cells": [
  {
   "cell_type": "code",
   "execution_count": 1,
   "metadata": {},
   "outputs": [
    {
     "name": "stdout",
     "output_type": "stream",
     "text": [
      "7;3;0,235578;0,615865;0,795605;0,232297;0,617997;1 not inserted as 1136 (21S01): Column count doesn't match value count at row 1\n",
      "7;4;0,814287;0,87145;0,900365;0,818891;0,875636;1 not inserted as 1136 (21S01): Column count doesn't match value count at row 1\n",
      "7;5;0,369441;0,098484;0,410843;0,363738;0,087356;0 not inserted as 1136 (21S01): Column count doesn't match value count at row 1\n",
      "7;6;0,916246;0,670038;0,086586;0,922894;0,67216;0 not inserted as 1136 (21S01): Column count doesn't match value count at row 1\n",
      "8;1;0,455262;0,808621;0,908939;0,454786;0,814537;1 not inserted as 1136 (21S01): Column count doesn't match value count at row 1\n",
      "8;3;0,470138;0,137374;0,465226;0,470772;0,130205;0 not inserted as 1136 (21S01): Column count doesn't match value count at row 1\n",
      "8;5;0,274618;0,080939;0,401044;0,271033;0,073983;0 not inserted as 1136 (21S01): Column count doesn't match value count at row 1\n",
      "8;5;0,598246;0,195964;0,84678;0,598876;0,193038;1 not inserted as 1136 (21S01): Column count doesn't match value count at row 1\n",
      "8;6;0,35518;0,079514;0,716736;0,353174;0,073926;1 not inserted as 1136 (21S01): Column count doesn't match value count at row 1\n",
      "9;1;0,872109;0,809986;0,846565;0,876269;0,813518;1 not inserted as 1136 (21S01): Column count doesn't match value count at row 1\n",
      "9;2;0,161014;0,136646;0,54787;0,157959;0,131437;1 not inserted as 1136 (21S01): Column count doesn't match value count at row 1\n",
      "9;4;0,228652;0,643322;0,531706;0,220574;0,639249;1 not inserted as 1136 (21S01): Column count doesn't match value count at row 1\n",
      "9;4;0,3412;0,082742;0,88133;0,340207;0,079638;1 not inserted as 1136 (21S01): Column count doesn't match value count at row 1\n",
      "10;1;0,123524;0,169625;0,523828;0,117626;0,165021;1 not inserted as 1136 (21S01): Column count doesn't match value count at row 1\n",
      "10;2;0,898132;0,591132;0,878398;0,903652;0,593684;1 not inserted as 1136 (21S01): Column count doesn't match value count at row 1\n",
      "10;4;0,8043;0,38889;0,449902;0,806413;0,38741;0 not inserted as 1136 (21S01): Column count doesn't match value count at row 1\n",
      "10;6;0,145436;0,551688;0,782897;0,142679;0,552369;1 not inserted as 1136 (21S01): Column count doesn't match value count at row 1\n",
      "11;2;0,591592;0,90684;0,523221;0,592476;0,912334;1 not inserted as 1136 (21S01): Column count doesn't match value count at row 1\n",
      "11;2;0,086252;0,383978;0,836146;0,081727;0,382001;1 not inserted as 1136 (21S01): Column count doesn't match value count at row 1\n",
      "12;2;0,245359;0,678551;0,772739;0,244322;0,679318;1 not inserted as 1136 (21S01): Column count doesn't match value count at row 1\n",
      "12;3;0,845227;0,43581;0,784921;0,847933;0,435797;1 not inserted as 1136 (21S01): Column count doesn't match value count at row 1\n",
      "Inserted 10700 records and errored out on 21\n"
     ]
    }
   ],
   "source": [
    "import mysql.connector as connection\n",
    "import csv\n",
    "\n",
    "class filetodb:\n",
    "    def establish_connection(self,host,user,passwd):\n",
    "        return connection.connect(host=host,user=user,passwd=passwd,use_pure=True)\n",
    "    \n",
    "    def create_table(self,mydb,db,tab):\n",
    "        cur = mydb.cursor()\n",
    "        cur.execute('create table IF NOT EXISTS {table}(n1 int(10),n2 int(10),n3 int(10),n4 int(10),n5 int(10),n6 int(10),n7 int(10),n8 int(10),n9 int(10),n10 int(10),n11 int(10),n12 int(10),n13 int(10),n14 int(10))'.format(table = str(db)+'.'+str(tab)))\n",
    "        return cur\n",
    "\n",
    "    def insert_data(self,src,cur):\n",
    "        inserted,not_inserted = 0,0\n",
    "        with open(src,'r') as data:\n",
    "            next(data)\n",
    "            data_csv = csv.reader(data,delimiter='\\n')\n",
    "            for i in data_csv:\n",
    "                #print(str(i[0]).replace(';',','))\n",
    "                try:\n",
    "                    cur.execute('insert into vinod123.carbon_nanotubes values (' + str(i[0]).replace(';',',') + ')')\n",
    "                    inserted += 1\n",
    "                except Exception as e:\n",
    "                    print('{} not inserted as {}'.format(i[0],str(e)))\n",
    "                    not_inserted+=1\n",
    "        return inserted,not_inserted\n",
    "    \n",
    "f1 = filetodb()\n",
    "mydb = f1.establish_connection('localhost','root','mysql')\n",
    "cur = f1.create_table(mydb,'vinod123','carbon_nanotubes')\n",
    "inserted,not_inserted = f1.insert_data('carbon_nanotubes.csv',cur)\n",
    "print('Inserted {} records and errored out on {}'.format(inserted,not_inserted))\n",
    "mydb.commit()"
   ]
  },
  {
   "cell_type": "code",
   "execution_count": null,
   "metadata": {},
   "outputs": [],
   "source": []
  }
 ],
 "metadata": {
  "kernelspec": {
   "display_name": "Python 3",
   "language": "python",
   "name": "python3"
  },
  "language_info": {
   "codemirror_mode": {
    "name": "ipython",
    "version": 3
   },
   "file_extension": ".py",
   "mimetype": "text/x-python",
   "name": "python",
   "nbconvert_exporter": "python",
   "pygments_lexer": "ipython3",
   "version": "3.8.5"
  }
 },
 "nbformat": 4,
 "nbformat_minor": 4
}
