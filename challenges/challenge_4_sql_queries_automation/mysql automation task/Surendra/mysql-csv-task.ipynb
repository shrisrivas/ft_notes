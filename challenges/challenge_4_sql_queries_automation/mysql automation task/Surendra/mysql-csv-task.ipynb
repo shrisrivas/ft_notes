{
 "cells": [
  {
   "cell_type": "code",
   "execution_count": 1,
   "metadata": {},
   "outputs": [
    {
     "name": "stdout",
     "output_type": "stream",
     "text": [
      "table created successfully.\n",
      "record inserted successfully\n",
      "record inserted successfully\n",
      "record inserted successfully\n",
      "record inserted successfully\n",
      "record inserted successfully\n",
      "record inserted successfully\n",
      "record inserted successfully\n",
      "record inserted successfully\n",
      "record inserted successfully\n",
      "record inserted successfully\n",
      "record inserted successfully\n"
     ]
    }
   ],
   "source": [
    "import mysql.connector as connection\n",
    "from mysql.connector import errorcode\n",
    "import pandas as pd\n",
    "import re\n",
    "\n",
    "try:\n",
    "    #create connection\n",
    "    con = connection.connect(user='root', password='',host='localhost',database='fullstack_ds')\n",
    "    \n",
    "    #read csv file\n",
    "    csv_data = pd.read_csv(r'C:\\Users\\sawan\\Downloads\\carbon_nanotubes.csv',chunksize=1000,sep=\";\")\n",
    "    table_name= 'carbon_nanotubes'\n",
    "    for i,data in enumerate(csv_data):\n",
    "        \n",
    "        #get column names from csv\n",
    "        csv_columns = data.columns;\n",
    "        #check if columns exist\n",
    "        if(not csv_columns.empty):\n",
    "            #table columns\n",
    "            table_columns = [i.lower().replace(' ','_').replace(\"\\'\",'') for i in csv_columns]\n",
    "            \n",
    "            if i == 0:  \n",
    "                #create table if not exist and add columns to it\n",
    "                cur = con.cursor()\n",
    "\n",
    "                column_str = 'id int AUTO_INCREMENT PRIMARY KEY, ';\n",
    "                for i,item in enumerate(table_columns):\n",
    "                    if((len(table_columns)-1) == i): \n",
    "                        column_str += item+' varchar(255)'\n",
    "                    else:\n",
    "                        column_str += item+' varchar(255), '\n",
    "\n",
    "                create_table_query = f'CREATE TABLE IF NOT EXISTS carbon_nanotubes({column_str});'\n",
    "                cur.execute(create_table_query)\n",
    "                print('table created successfully.')\n",
    "                \n",
    "                insert_data =[tuple(i) for i in data.values.tolist()]\n",
    "                cur.executemany(f\"insert into {table_name} ({','.join(table_columns)}) values ({','.join(['%s' for i in table_columns])})\",\n",
    "                   insert_data)\n",
    "                con.commit()\n",
    "                cur.close()\n",
    "            else:\n",
    "                cur = con.cursor()\n",
    "                insert_data =[tuple(i) for i in data.values.tolist()]\n",
    "                cur.executemany(f\"insert into {table_name} ({','.join(table_columns)}) values ({','.join(['%s' for i in table_columns])})\",\n",
    "                   insert_data)\n",
    "                con.commit()\n",
    "                cur.close()\n",
    "            \n",
    "\n",
    "        \n",
    "        #insert records to table\n",
    "        print('record inserted successfully')\n",
    "    \n",
    "except connection.Error as err:\n",
    "    if err.errno == errorcode.ER_ACCESS_DENIED_ERROR:\n",
    "        print(\"Something is wrong with your user name or password\")\n",
    "    elif err.errno == errorcode.ER_BAD_DB_ERROR:\n",
    "        print(\"Database does not exist\")\n",
    "    else:\n",
    "        print(err)\n",
    "    \n",
    "finally:\n",
    "    con.close()\n",
    "    "
   ]
  }
 ],
 "metadata": {
  "kernelspec": {
   "display_name": "Python 3",
   "language": "python",
   "name": "python3"
  },
  "language_info": {
   "codemirror_mode": {
    "name": "ipython",
    "version": 3
   },
   "file_extension": ".py",
   "mimetype": "text/x-python",
   "name": "python",
   "nbconvert_exporter": "python",
   "pygments_lexer": "ipython3",
   "version": "3.8.5"
  }
 },
 "nbformat": 4,
 "nbformat_minor": 4
}
