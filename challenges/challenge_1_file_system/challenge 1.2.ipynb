{
 "cells": [
  {
   "cell_type": "raw",
   "id": "39f8ffb8",
   "metadata": {},
   "source": [
    "challenge "
   ]
  },
  {
   "cell_type": "raw",
   "id": "a32cd96d",
   "metadata": {},
   "source": [
    "python basic assignment, python advanced assignment, python programming basic, python advanced programming"
   ]
  },
  {
   "cell_type": "code",
   "execution_count": null,
   "id": "bb13b8ee",
   "metadata": {},
   "outputs": [],
   "source": []
  }
 ],
 "metadata": {
  "kernelspec": {
   "display_name": "Python 3 (ipykernel)",
   "language": "python",
   "name": "python3"
  },
  "language_info": {
   "codemirror_mode": {
    "name": "ipython",
    "version": 3
   },
   "file_extension": ".py",
   "mimetype": "text/x-python",
   "name": "python",
   "nbconvert_exporter": "python",
   "pygments_lexer": "ipython3",
   "version": "3.10.5"
  }
 },
 "nbformat": 4,
 "nbformat_minor": 5
}
