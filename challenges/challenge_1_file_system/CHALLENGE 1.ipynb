{
 "cells": [
  {
   "cell_type": "raw",
   "id": "29b30ef0",
   "metadata": {},
   "source": [
    "FILE HANDLING, 4:00PM"
   ]
  },
  {
   "cell_type": "raw",
   "id": "eb0ec8bc",
   "metadata": {},
   "source": [
    "1. create a directory\n",
    "2. create a text file and write some data in all txt at a time.\n",
    "3. read all the data from dir/file one by one & print in console\n",
    "4. hold all the data into a list\n",
    "5. write all the data in a new file from list\n",
    "6. keep only a new file in present dir and move rest in the new directory"
   ]
  },
  {
   "cell_type": "raw",
   "id": "311f19af",
   "metadata": {},
   "source": [
    "1. create a directory"
   ]
  },
  {
   "cell_type": "code",
   "execution_count": 1,
   "id": "c52c04e4",
   "metadata": {},
   "outputs": [],
   "source": [
    "import os"
   ]
  },
  {
   "cell_type": "code",
   "execution_count": 2,
   "id": "22120fb5",
   "metadata": {},
   "outputs": [
    {
     "data": {
      "text/plain": [
       "'C:\\\\Users\\\\Shristi\\\\Desktop\\\\Data Science\\\\fast_track\\\\1. python_basics\\\\challenges\\\\challenge_1_file_system'"
      ]
     },
     "execution_count": 2,
     "metadata": {},
     "output_type": "execute_result"
    }
   ],
   "source": [
    "pwd"
   ]
  },
  {
   "cell_type": "code",
   "execution_count": 3,
   "id": "081331af",
   "metadata": {},
   "outputs": [],
   "source": [
    "os.mkdir(\"shristi\")"
   ]
  },
  {
   "cell_type": "code",
   "execution_count": 4,
   "id": "586bb9dd",
   "metadata": {},
   "outputs": [],
   "source": [
    "## 3:58\n",
    "os.chdir(r\"C:\\Users\\Shristi\\Desktop\\Data Science\\fast_track\\1. python_basics\\challenges\\challenge_1_file_system\\new\")"
   ]
  },
  {
   "cell_type": "raw",
   "id": "9ee0a709",
   "metadata": {},
   "source": [
    "2. create a text file and write some data in all txt at a time."
   ]
  },
  {
   "cell_type": "code",
   "execution_count": 5,
   "id": "34e5d02d",
   "metadata": {},
   "outputs": [],
   "source": [
    "for i in range(10):\n",
    "    Fname=\"test\"+str(i)+\".txt\"\n",
    "    f=open(Fname,\"w\")\n",
    "    f.write(\"this is first file\")\n",
    "    f.close()"
   ]
  },
  {
   "cell_type": "raw",
   "id": "84cfef34",
   "metadata": {},
   "source": [
    "3. read all the data from dir/file one by one & print in console"
   ]
  },
  {
   "cell_type": "code",
   "execution_count": 6,
   "id": "46cf9681",
   "metadata": {},
   "outputs": [
    {
     "name": "stdout",
     "output_type": "stream",
     "text": [
      "this is first file\n",
      "this is first file\n",
      "this is first file\n",
      "this is first file\n",
      "this is first file\n",
      "this is first file\n",
      "this is first file\n",
      "this is first file\n",
      "this is first file\n",
      "this is first file\n"
     ]
    }
   ],
   "source": [
    "lst=os.listdir()\n",
    "lst\n",
    "for i in lst:\n",
    "    f=open(i,\"r\")\n",
    "    print(f.read())\n",
    "    f.close()"
   ]
  },
  {
   "cell_type": "raw",
   "id": "b6762a0b",
   "metadata": {},
   "source": [
    "4. hold all the data into a list"
   ]
  },
  {
   "cell_type": "code",
   "execution_count": 7,
   "id": "0744ad35",
   "metadata": {},
   "outputs": [
    {
     "data": {
      "text/plain": [
       "['this is first file',\n",
       " 'this is first file',\n",
       " 'this is first file',\n",
       " 'this is first file',\n",
       " 'this is first file',\n",
       " 'this is first file',\n",
       " 'this is first file',\n",
       " 'this is first file',\n",
       " 'this is first file',\n",
       " 'this is first file']"
      ]
     },
     "execution_count": 7,
     "metadata": {},
     "output_type": "execute_result"
    }
   ],
   "source": [
    "lst = os.listdir()\n",
    "lst\n",
    "ReadData=[]\n",
    "for i in lst:\n",
    "    f=open(i,\"r\")\n",
    "    ReadData.append(f.read())\n",
    "    f.close()\n",
    "ReadData"
   ]
  },
  {
   "cell_type": "raw",
   "id": "b2116d2d",
   "metadata": {},
   "source": [
    "5. write all the data in a new file from list"
   ]
  },
  {
   "cell_type": "code",
   "execution_count": 8,
   "id": "e2e46a0a",
   "metadata": {},
   "outputs": [],
   "source": [
    "f=open(\"NewFile.txt\",\"w\")\n",
    "for x in ReadData:\n",
    "    f.write(x)\n",
    "f.close()"
   ]
  },
  {
   "cell_type": "code",
   "execution_count": null,
   "id": "ca6771d0",
   "metadata": {},
   "outputs": [],
   "source": []
  }
 ],
 "metadata": {
  "kernelspec": {
   "display_name": "Python 3 (ipykernel)",
   "language": "python",
   "name": "python3"
  },
  "language_info": {
   "codemirror_mode": {
    "name": "ipython",
    "version": 3
   },
   "file_extension": ".py",
   "mimetype": "text/x-python",
   "name": "python",
   "nbconvert_exporter": "python",
   "pygments_lexer": "ipython3",
   "version": "3.10.5"
  }
 },
 "nbformat": 4,
 "nbformat_minor": 5
}
