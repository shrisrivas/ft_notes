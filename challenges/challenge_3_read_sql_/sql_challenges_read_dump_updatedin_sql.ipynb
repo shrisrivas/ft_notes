{
 "cells": [
  {
   "cell_type": "raw",
   "id": "b5054ee5",
   "metadata": {},
   "source": [
    "for carbon nanotubes data set , \n",
    "1. seperate data (;) in columns \n",
    "2. then dump these data in into sql\n",
    "\n",
    "\n",
    "https://archive.ics.uci.edu/ml/machine-learning-databases/00448/"
   ]
  },
  {
   "cell_type": "markdown",
   "id": "b36a5d56",
   "metadata": {},
   "source": [
    "# Reading csv file\n"
   ]
  },
  {
   "cell_type": "code",
   "execution_count": 4,
   "id": "a13e85d6",
   "metadata": {},
   "outputs": [],
   "source": [
    "import csv\n",
    "with open('carbon_nanotubes.csv' , 'r') as data:\n",
    "    file_append=[]\n",
    "    data_csv = csv.reader(data , delimiter='\\n')\n",
    "    for i in data_csv:\n",
    "        file_append.append(i[0].split(';'))"
   ]
  },
  {
   "cell_type": "markdown",
   "id": "97092090",
   "metadata": {},
   "source": [
    "# Writing carbon_nanotubes.csv to a new csv\n"
   ]
  },
  {
   "cell_type": "code",
   "execution_count": 5,
   "id": "b90c49d0",
   "metadata": {},
   "outputs": [],
   "source": [
    "with open('carbon_nanotubes_updated.csv' , 'w') as new_data:\n",
    "    data_new_csv = csv.writer(new_data)\n",
    "    data_new_csv.writerows(file_append)"
   ]
  },
  {
   "cell_type": "markdown",
   "id": "5ba5f97f",
   "metadata": {},
   "source": [
    "# Create a table"
   ]
  },
  {
   "cell_type": "code",
   "execution_count": 6,
   "id": "03026891",
   "metadata": {},
   "outputs": [
    {
     "data": {
      "text/plain": [
       "<mysql.connector.connection.MySQLConnection at 0x18d47c67040>"
      ]
     },
     "execution_count": 6,
     "metadata": {},
     "output_type": "execute_result"
    }
   ],
   "source": [
    "import mysql.connector as connection\n",
    "import pandas as pd\n",
    "import csv\n",
    "mydb = connection.connect(host=\"localhost\" , user=\"root\" , passwd=\"1AMthebest\" , database=\"shristi3\" , use_pure=True)\n",
    "cursor = mydb.cursor()\n",
    "cursor.execute(\"CREATE TABLE CARBON(a int(30) , b int(30) , c varchar(30) , d varchar(30) , e varchar(30) , f varchar(30) , g varchar(30) , h varchar(30))\")\n",
    "mydb"
   ]
  },
  {
   "cell_type": "markdown",
   "id": "24398936",
   "metadata": {},
   "source": [
    "# INSERTING THE DATA"
   ]
  },
  {
   "cell_type": "code",
   "execution_count": 7,
   "id": "0f3ea433",
   "metadata": {},
   "outputs": [
    {
     "name": "stdout",
     "output_type": "stream",
     "text": [
      "DATA INSERTED\n"
     ]
    }
   ],
   "source": [
    "with open('carbon_nanotubes_updated.csv' , 'r') as data:\n",
    "    next(data)\n",
    "    data_csv=csv.reader(data , delimiter='\\n')\n",
    "    for j in data_csv:\n",
    "        if not j: # FOR BLANK LIST\n",
    "            continue\n",
    "        else:            \n",
    "            cursor.execute('insert into CARBON values({data})'.format(data=(str(j[0]))))\n",
    "    print(\"DATA INSERTED\")\n",
    "mydb.commit()\n",
    "mydb.close()"
   ]
  },
  {
   "cell_type": "code",
   "execution_count": null,
   "id": "53d5539d",
   "metadata": {},
   "outputs": [],
   "source": []
  }
 ],
 "metadata": {
  "kernelspec": {
   "display_name": "Python 3 (ipykernel)",
   "language": "python",
   "name": "python3"
  },
  "language_info": {
   "codemirror_mode": {
    "name": "ipython",
    "version": 3
   },
   "file_extension": ".py",
   "mimetype": "text/x-python",
   "name": "python",
   "nbconvert_exporter": "python",
   "pygments_lexer": "ipython3",
   "version": "3.9.7"
  }
 },
 "nbformat": 4,
 "nbformat_minor": 5
}
